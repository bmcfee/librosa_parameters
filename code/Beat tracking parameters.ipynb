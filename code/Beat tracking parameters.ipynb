{
 "cells": [
  {
   "cell_type": "code",
   "execution_count": 1,
   "metadata": {
    "collapsed": true
   },
   "outputs": [],
   "source": [
    "import librosa\n",
    "import os"
   ]
  },
  {
   "cell_type": "code",
   "execution_count": 2,
   "metadata": {
    "collapsed": true
   },
   "outputs": [],
   "source": [
    "import mir_eval"
   ]
  },
  {
   "cell_type": "code",
   "execution_count": 3,
   "metadata": {
    "collapsed": true
   },
   "outputs": [],
   "source": [
    "from collections import OrderedDict"
   ]
  },
  {
   "cell_type": "code",
   "execution_count": 4,
   "metadata": {
    "collapsed": false
   },
   "outputs": [],
   "source": [
    "import pandas as pd\n",
    "import numpy as np\n",
    "np.set_printoptions(precision=3)\n",
    "pd.set_option('precision', 4, \"display.max_rows\", 999)"
   ]
  },
  {
   "cell_type": "code",
   "execution_count": 5,
   "metadata": {
    "collapsed": true
   },
   "outputs": [],
   "source": [
    "def make_beatles_corpus(iso_path):\n",
    "    \n",
    "    # Beat files\n",
    "    beat_path = os.path.join(iso_path, 'beat')\n",
    "    \n",
    "    annotations = librosa.util.find_files(beat_path, ext='txt')\n",
    "    \n",
    "    audio = [ann.replace('/beat/', '/audio/').replace('.txt', '.flac') for ann in annotations]\n",
    "    \n",
    "    \n",
    "    data = []\n",
    "    for aud, ann in zip(audio, annotations):\n",
    "        if os.path.exists(aud) and os.path.exists(ann):\n",
    "            data.append((aud, ann))\n",
    "    \n",
    "    return pd.DataFrame(data=data, columns=['audio', 'annotation'])"
   ]
  },
  {
   "cell_type": "code",
   "execution_count": 6,
   "metadata": {
    "collapsed": true
   },
   "outputs": [],
   "source": [
    "def make_smc_data(smc_path):\n",
    "    \n",
    "    # Beat files\n",
    "    beat_path = os.path.join(smc_path, 'SMC_MIREX_Annotations')\n",
    "    annotations = librosa.util.find_files(beat_path, ext='txt')\n",
    "    \n",
    "    # Audio files\n",
    "    audio_path = os.path.join(smc_path, 'SMC_MIREX_Audio')\n",
    "    audio = librosa.util.find_files(audio_path, ext='wav')\n",
    "    \n",
    "    data = zip(audio, annotations)\n",
    "    \n",
    "    return pd.DataFrame(data=data, columns=['audio', 'annotation'])"
   ]
  },
  {
   "cell_type": "code",
   "execution_count": 7,
   "metadata": {
    "collapsed": true
   },
   "outputs": [],
   "source": [
    "def make_output_path(base, outpath):\n",
    "    \n",
    "    root = os.path.splitext(base)[0]\n",
    "    \n",
    "    output = os.path.join(outpath, os.path.extsep.join([root, 'json']))\n",
    "    \n",
    "    return output"
   ]
  },
  {
   "cell_type": "code",
   "execution_count": 8,
   "metadata": {
    "collapsed": false
   },
   "outputs": [],
   "source": [
    "def analyze(dframe, outpath='/home/bmcfee/git/librosa_parameters/data/'):\n",
    "    \n",
    "    index = dframe.index[0]\n",
    "    \n",
    "    base = os.path.basename(dframe['audio'][index])\n",
    "    \n",
    "    outfile = make_output_path(base, outpath)\n",
    "    \n",
    "    if os.path.exists(outfile):\n",
    "        print 'Cached {}'.format(base)\n",
    "        data = pd.read_json(outfile, orient='records')\n",
    "        return data\n",
    "    else:\n",
    "        print 'Processing {}'.format(base)\n",
    "    \n",
    "    # Load the truth\n",
    "    ref_times = pd.read_table(dframe['annotation'][index], header=None, sep='\\s+',\n",
    "                              usecols=[0], error_bad_lines=False)[0].values\n",
    "\n",
    "    # Load the audio\n",
    "    sr = 22050\n",
    "    y, _ = librosa.load(dframe['audio'][index], None)\n",
    "    y = librosa.resample(y, _, sr, res_type='sinc_fastest')\n",
    "    \n",
    "    # Construct the output container\n",
    "    results = []\n",
    "    \n",
    "    # Onset strength parameters\n",
    "    \n",
    "    for fmax in [8000, None]:\n",
    "        for n_mels in [32, 64, 128]:\n",
    "            S = librosa.feature.melspectrogram(y=y, sr=sr, fmax=fmax, n_mels=n_mels)\n",
    "            \n",
    "            for aggregate in [np.mean, np.median]:\n",
    "                # Compute the onset detection function\n",
    "                oenv = librosa.onset.onset_strength(S=S, sr=sr,\n",
    "                                                    aggregate=aggregate)\n",
    "                \n",
    "                    # Tempo estimator parameters\n",
    "                for ac_size in [2, 4, 8]:\n",
    "                    for std_bpm in [0.5, 1.0, 2.0]:\n",
    "                        tempo = librosa.beat.estimate_tempo(oenv,\n",
    "                                                                    sr=sr,\n",
    "                                                                    ac_size=ac_size,\n",
    "                                                                    std_bpm=std_bpm)\n",
    "                                \n",
    "                        for tightness in [50, 100, 500]:\n",
    "                            # Evaluate the predictions\n",
    "                            params = {'aggregate': aggregate.__name__,\n",
    "                                              'fmax': fmax,\n",
    "                                              'n_mels': n_mels,\n",
    "                                              'ac_size': ac_size,\n",
    "                                              'std_bpm': std_bpm,\n",
    "                                              'tightness': tightness}\n",
    "                            \n",
    "                            _, beats = librosa.beat.beat_track(sr=sr,\n",
    "                                                                       onset_envelope=oenv,\n",
    "                                                                       trim=False, \n",
    "                                                                       tightness=tightness,\n",
    "                                                                       bpm=tempo)\n",
    "                                    \n",
    "                            est_times = librosa.frames_to_time(beats, sr=sr)\n",
    "                            scores = mir_eval.beat.evaluate(ref_times, est_times)\n",
    "                            \n",
    "                            cont = OrderedDict(index=index)\n",
    "                            cont.update(params)\n",
    "                            cont.update(scores)\n",
    "                            results.append(cont)\n",
    "    # Blow away the cache\n",
    "    #librosa.cache.clear()\n",
    "    data = pd.DataFrame.from_dict(results, orient='columns')\n",
    "    data.to_json(outfile, orient='records')\n",
    "        \n",
    "    return data"
   ]
  },
  {
   "cell_type": "code",
   "execution_count": 9,
   "metadata": {
    "collapsed": true
   },
   "outputs": [],
   "source": [
    "def analyze_corpus(corpus):\n",
    "    \n",
    "    results = None\n",
    "    for idx in corpus.index:\n",
    "        new_results = analyze(corpus.loc[[idx]])\n",
    "        if results is None:\n",
    "            results = new_results\n",
    "        else:\n",
    "            results = pd.concat([results, new_results])\n",
    "            \n",
    "    return results"
   ]
  },
  {
   "cell_type": "code",
   "execution_count": 10,
   "metadata": {
    "collapsed": true
   },
   "outputs": [],
   "source": [
    "from joblib import Parallel, delayed"
   ]
  },
  {
   "cell_type": "code",
   "execution_count": 11,
   "metadata": {
    "collapsed": true
   },
   "outputs": [],
   "source": [
    "def p_analyze_corpus(corpus, n_jobs=3):\n",
    "    \n",
    "    results = None\n",
    "    \n",
    "    dfunc = delayed(analyze)\n",
    "    \n",
    "    results = Parallel(n_jobs=n_jobs, verbose=10)(dfunc(corpus.loc[[idx]])\n",
    "                                                  for idx in corpus.index)\n",
    "\n",
    "    return pd.concat(results)"
   ]
  },
  {
   "cell_type": "markdown",
   "metadata": {},
   "source": [
    "---"
   ]
  },
  {
   "cell_type": "code",
   "execution_count": 12,
   "metadata": {
    "collapsed": true
   },
   "outputs": [],
   "source": [
    "smc_data = make_smc_data('/home/bmcfee/data/SMC_Mirex/')"
   ]
  },
  {
   "cell_type": "code",
   "execution_count": 13,
   "metadata": {
    "collapsed": true
   },
   "outputs": [
    {
     "name": "stderr",
     "output_type": "stream",
     "text": [
      "WARNING:root:[CacheManager(cachedir='/tmp/librosa/joblib')]: Flushing completely the cache\n"
     ]
    },
    {
     "name": "stdout",
     "output_type": "stream",
     "text": [
      "Processing SMC_001.wav\n",
      "Processing SMC_002.wav"
     ]
    },
    {
     "name": "stderr",
     "output_type": "stream",
     "text": [
      "WARNING:root:[CacheManager(cachedir='/tmp/librosa/joblib')]: Flushing completely the cache\n"
     ]
    },
    {
     "name": "stdout",
     "output_type": "stream",
     "text": [
      "\n",
      "Processing SMC_003.wav"
     ]
    },
    {
     "name": "stderr",
     "output_type": "stream",
     "text": [
      "WARNING:root:[CacheManager(cachedir='/tmp/librosa/joblib')]: Flushing completely the cache\n"
     ]
    },
    {
     "name": "stdout",
     "output_type": "stream",
     "text": [
      "\n",
      "Processing SMC_004.wav"
     ]
    },
    {
     "name": "stderr",
     "output_type": "stream",
     "text": [
      "WARNING:root:[CacheManager(cachedir='/tmp/librosa/joblib')]: Flushing completely the cache\n"
     ]
    },
    {
     "name": "stdout",
     "output_type": "stream",
     "text": [
      "\n",
      "Processing SMC_005.wav"
     ]
    },
    {
     "name": "stderr",
     "output_type": "stream",
     "text": [
      "WARNING:root:[CacheManager(cachedir='/tmp/librosa/joblib')]: Flushing completely the cache\n"
     ]
    },
    {
     "name": "stdout",
     "output_type": "stream",
     "text": [
      "\n",
      "Processing SMC_006.wav"
     ]
    },
    {
     "name": "stderr",
     "output_type": "stream",
     "text": [
      "WARNING:root:[CacheManager(cachedir='/tmp/librosa/joblib')]: Flushing completely the cache\n"
     ]
    },
    {
     "name": "stdout",
     "output_type": "stream",
     "text": [
      "\n",
      "Processing SMC_007.wav"
     ]
    },
    {
     "name": "stderr",
     "output_type": "stream",
     "text": [
      "WARNING:root:[CacheManager(cachedir='/tmp/librosa/joblib')]: Flushing completely the cache\n"
     ]
    },
    {
     "name": "stdout",
     "output_type": "stream",
     "text": [
      "\n",
      "Processing SMC_008.wav"
     ]
    },
    {
     "name": "stderr",
     "output_type": "stream",
     "text": [
      "WARNING:root:[CacheManager(cachedir='/tmp/librosa/joblib')]: Flushing completely the cache\n"
     ]
    },
    {
     "name": "stdout",
     "output_type": "stream",
     "text": [
      "\n",
      "Processing SMC_009.wav"
     ]
    },
    {
     "name": "stderr",
     "output_type": "stream",
     "text": [
      "WARNING:root:[CacheManager(cachedir='/tmp/librosa/joblib')]: Flushing completely the cache\n"
     ]
    },
    {
     "name": "stdout",
     "output_type": "stream",
     "text": [
      "\n",
      "Processing SMC_010.wav"
     ]
    },
    {
     "name": "stderr",
     "output_type": "stream",
     "text": [
      "WARNING:root:[CacheManager(cachedir='/tmp/librosa/joblib')]: Flushing completely the cache\n"
     ]
    },
    {
     "name": "stdout",
     "output_type": "stream",
     "text": [
      "\n",
      "Processing SMC_011.wav"
     ]
    },
    {
     "name": "stderr",
     "output_type": "stream",
     "text": [
      "WARNING:root:[CacheManager(cachedir='/tmp/librosa/joblib')]: Flushing completely the cache\n"
     ]
    },
    {
     "name": "stdout",
     "output_type": "stream",
     "text": [
      "\n",
      "Processing SMC_012.wav"
     ]
    },
    {
     "name": "stderr",
     "output_type": "stream",
     "text": [
      "WARNING:root:[CacheManager(cachedir='/tmp/librosa/joblib')]: Flushing completely the cache\n"
     ]
    },
    {
     "name": "stdout",
     "output_type": "stream",
     "text": [
      "\n",
      "Processing SMC_013.wav"
     ]
    },
    {
     "name": "stderr",
     "output_type": "stream",
     "text": [
      "WARNING:root:[CacheManager(cachedir='/tmp/librosa/joblib')]: Flushing completely the cache\n"
     ]
    },
    {
     "name": "stdout",
     "output_type": "stream",
     "text": [
      "\n",
      "Processing SMC_014.wav"
     ]
    },
    {
     "name": "stderr",
     "output_type": "stream",
     "text": [
      "WARNING:root:[CacheManager(cachedir='/tmp/librosa/joblib')]: Flushing completely the cache\n"
     ]
    },
    {
     "name": "stdout",
     "output_type": "stream",
     "text": [
      "\n",
      "Processing SMC_015.wav"
     ]
    },
    {
     "name": "stderr",
     "output_type": "stream",
     "text": [
      "WARNING:root:[CacheManager(cachedir='/tmp/librosa/joblib')]: Flushing completely the cache\n"
     ]
    },
    {
     "name": "stdout",
     "output_type": "stream",
     "text": [
      "\n",
      "Processing SMC_016.wav"
     ]
    },
    {
     "name": "stderr",
     "output_type": "stream",
     "text": [
      "WARNING:root:[CacheManager(cachedir='/tmp/librosa/joblib')]: Flushing completely the cache\n"
     ]
    },
    {
     "name": "stdout",
     "output_type": "stream",
     "text": [
      "\n",
      "Processing SMC_017.wav"
     ]
    },
    {
     "name": "stderr",
     "output_type": "stream",
     "text": [
      "WARNING:root:[CacheManager(cachedir='/tmp/librosa/joblib')]: Flushing completely the cache\n"
     ]
    },
    {
     "name": "stdout",
     "output_type": "stream",
     "text": [
      "\n",
      "Processing SMC_018.wav"
     ]
    },
    {
     "name": "stderr",
     "output_type": "stream",
     "text": [
      "WARNING:root:[CacheManager(cachedir='/tmp/librosa/joblib')]: Flushing completely the cache\n"
     ]
    },
    {
     "name": "stdout",
     "output_type": "stream",
     "text": [
      "\n",
      "Processing SMC_019.wav"
     ]
    },
    {
     "name": "stderr",
     "output_type": "stream",
     "text": [
      "WARNING:root:[CacheManager(cachedir='/tmp/librosa/joblib')]: Flushing completely the cache\n"
     ]
    },
    {
     "name": "stdout",
     "output_type": "stream",
     "text": [
      "\n",
      "Processing SMC_021.wav"
     ]
    },
    {
     "name": "stderr",
     "output_type": "stream",
     "text": [
      "WARNING:root:[CacheManager(cachedir='/tmp/librosa/joblib')]: Flushing completely the cache\n"
     ]
    },
    {
     "name": "stdout",
     "output_type": "stream",
     "text": [
      "\n",
      "Processing SMC_022.wav"
     ]
    },
    {
     "name": "stderr",
     "output_type": "stream",
     "text": [
      "WARNING:root:[CacheManager(cachedir='/tmp/librosa/joblib')]: Flushing completely the cache\n"
     ]
    },
    {
     "name": "stdout",
     "output_type": "stream",
     "text": [
      "\n",
      "Processing SMC_023.wav"
     ]
    },
    {
     "name": "stderr",
     "output_type": "stream",
     "text": [
      "WARNING:root:[CacheManager(cachedir='/tmp/librosa/joblib')]: Flushing completely the cache\n"
     ]
    },
    {
     "name": "stdout",
     "output_type": "stream",
     "text": [
      "\n",
      "Processing SMC_024.wav"
     ]
    },
    {
     "name": "stderr",
     "output_type": "stream",
     "text": [
      "WARNING:root:[CacheManager(cachedir='/tmp/librosa/joblib')]: Flushing completely the cache\n"
     ]
    },
    {
     "name": "stdout",
     "output_type": "stream",
     "text": [
      "\n",
      "Processing SMC_026.wav"
     ]
    },
    {
     "name": "stderr",
     "output_type": "stream",
     "text": [
      "WARNING:root:[CacheManager(cachedir='/tmp/librosa/joblib')]: Flushing completely the cache\n"
     ]
    },
    {
     "name": "stdout",
     "output_type": "stream",
     "text": [
      "\n",
      "Processing SMC_027.wav"
     ]
    },
    {
     "name": "stderr",
     "output_type": "stream",
     "text": [
      "WARNING:root:[CacheManager(cachedir='/tmp/librosa/joblib')]: Flushing completely the cache\n"
     ]
    },
    {
     "name": "stdout",
     "output_type": "stream",
     "text": [
      "\n",
      "Processing SMC_028.wav"
     ]
    },
    {
     "name": "stderr",
     "output_type": "stream",
     "text": [
      "WARNING:root:[CacheManager(cachedir='/tmp/librosa/joblib')]: Flushing completely the cache\n"
     ]
    },
    {
     "name": "stdout",
     "output_type": "stream",
     "text": [
      "\n",
      "Processing SMC_030.wav"
     ]
    },
    {
     "name": "stderr",
     "output_type": "stream",
     "text": [
      "WARNING:root:[CacheManager(cachedir='/tmp/librosa/joblib')]: Flushing completely the cache\n"
     ]
    },
    {
     "name": "stdout",
     "output_type": "stream",
     "text": [
      "\n",
      "Processing SMC_032.wav"
     ]
    },
    {
     "name": "stderr",
     "output_type": "stream",
     "text": [
      "WARNING:root:[CacheManager(cachedir='/tmp/librosa/joblib')]: Flushing completely the cache\n"
     ]
    },
    {
     "name": "stdout",
     "output_type": "stream",
     "text": [
      "\n",
      "Processing SMC_033.wav"
     ]
    },
    {
     "name": "stderr",
     "output_type": "stream",
     "text": [
      "WARNING:root:[CacheManager(cachedir='/tmp/librosa/joblib')]: Flushing completely the cache\n"
     ]
    },
    {
     "name": "stdout",
     "output_type": "stream",
     "text": [
      "\n",
      "Processing SMC_034.wav"
     ]
    },
    {
     "name": "stderr",
     "output_type": "stream",
     "text": [
      "WARNING:root:[CacheManager(cachedir='/tmp/librosa/joblib')]: Flushing completely the cache\n"
     ]
    },
    {
     "name": "stdout",
     "output_type": "stream",
     "text": [
      "\n",
      "Processing SMC_035.wav"
     ]
    },
    {
     "name": "stderr",
     "output_type": "stream",
     "text": [
      "WARNING:root:[CacheManager(cachedir='/tmp/librosa/joblib')]: Flushing completely the cache\n"
     ]
    },
    {
     "name": "stdout",
     "output_type": "stream",
     "text": [
      "\n",
      "Processing SMC_036.wav"
     ]
    },
    {
     "name": "stderr",
     "output_type": "stream",
     "text": [
      "WARNING:root:[CacheManager(cachedir='/tmp/librosa/joblib')]: Flushing completely the cache\n"
     ]
    },
    {
     "name": "stdout",
     "output_type": "stream",
     "text": [
      "\n",
      "Processing SMC_037.wav"
     ]
    },
    {
     "name": "stderr",
     "output_type": "stream",
     "text": [
      "WARNING:root:[CacheManager(cachedir='/tmp/librosa/joblib')]: Flushing completely the cache\n"
     ]
    },
    {
     "name": "stdout",
     "output_type": "stream",
     "text": [
      "\n",
      "Processing SMC_038.wav"
     ]
    },
    {
     "name": "stderr",
     "output_type": "stream",
     "text": [
      "WARNING:root:[CacheManager(cachedir='/tmp/librosa/joblib')]: Flushing completely the cache\n"
     ]
    },
    {
     "name": "stdout",
     "output_type": "stream",
     "text": [
      "\n",
      "Processing SMC_041.wav"
     ]
    },
    {
     "name": "stderr",
     "output_type": "stream",
     "text": [
      "WARNING:root:[CacheManager(cachedir='/tmp/librosa/joblib')]: Flushing completely the cache\n"
     ]
    },
    {
     "name": "stdout",
     "output_type": "stream",
     "text": [
      "\n",
      "Processing SMC_042.wav"
     ]
    },
    {
     "name": "stderr",
     "output_type": "stream",
     "text": [
      "WARNING:root:[CacheManager(cachedir='/tmp/librosa/joblib')]: Flushing completely the cache\n"
     ]
    },
    {
     "name": "stdout",
     "output_type": "stream",
     "text": [
      "\n",
      "Processing SMC_043.wav"
     ]
    },
    {
     "name": "stderr",
     "output_type": "stream",
     "text": [
      "WARNING:root:[CacheManager(cachedir='/tmp/librosa/joblib')]: Flushing completely the cache\n"
     ]
    },
    {
     "name": "stdout",
     "output_type": "stream",
     "text": [
      "\n",
      "Processing SMC_044.wav"
     ]
    },
    {
     "name": "stderr",
     "output_type": "stream",
     "text": [
      "WARNING:root:[CacheManager(cachedir='/tmp/librosa/joblib')]: Flushing completely the cache\n"
     ]
    },
    {
     "name": "stdout",
     "output_type": "stream",
     "text": [
      "\n",
      "Processing SMC_046.wav"
     ]
    },
    {
     "name": "stderr",
     "output_type": "stream",
     "text": [
      "WARNING:root:[CacheManager(cachedir='/tmp/librosa/joblib')]: Flushing completely the cache\n"
     ]
    },
    {
     "name": "stdout",
     "output_type": "stream",
     "text": [
      "\n",
      "Processing SMC_047.wav"
     ]
    },
    {
     "name": "stderr",
     "output_type": "stream",
     "text": [
      "WARNING:root:[CacheManager(cachedir='/tmp/librosa/joblib')]: Flushing completely the cache\n"
     ]
    },
    {
     "name": "stdout",
     "output_type": "stream",
     "text": [
      "\n",
      "Processing SMC_048.wav"
     ]
    },
    {
     "name": "stderr",
     "output_type": "stream",
     "text": [
      "WARNING:root:[CacheManager(cachedir='/tmp/librosa/joblib')]: Flushing completely the cache\n"
     ]
    },
    {
     "name": "stdout",
     "output_type": "stream",
     "text": [
      "\n",
      "Processing SMC_051.wav"
     ]
    },
    {
     "name": "stderr",
     "output_type": "stream",
     "text": [
      "WARNING:root:[CacheManager(cachedir='/tmp/librosa/joblib')]: Flushing completely the cache\n"
     ]
    },
    {
     "name": "stdout",
     "output_type": "stream",
     "text": [
      "\n",
      "Processing SMC_052.wav"
     ]
    },
    {
     "name": "stderr",
     "output_type": "stream",
     "text": [
      "WARNING:root:[CacheManager(cachedir='/tmp/librosa/joblib')]: Flushing completely the cache\n"
     ]
    },
    {
     "name": "stdout",
     "output_type": "stream",
     "text": [
      "\n",
      "Processing SMC_054.wav"
     ]
    },
    {
     "name": "stderr",
     "output_type": "stream",
     "text": [
      "WARNING:root:[CacheManager(cachedir='/tmp/librosa/joblib')]: Flushing completely the cache\n"
     ]
    },
    {
     "name": "stdout",
     "output_type": "stream",
     "text": [
      "\n",
      "Processing SMC_055.wav"
     ]
    },
    {
     "name": "stderr",
     "output_type": "stream",
     "text": [
      "WARNING:root:[CacheManager(cachedir='/tmp/librosa/joblib')]: Flushing completely the cache\n"
     ]
    },
    {
     "name": "stdout",
     "output_type": "stream",
     "text": [
      "\n",
      "Processing SMC_056.wav"
     ]
    },
    {
     "name": "stderr",
     "output_type": "stream",
     "text": [
      "WARNING:root:[CacheManager(cachedir='/tmp/librosa/joblib')]: Flushing completely the cache\n"
     ]
    },
    {
     "name": "stdout",
     "output_type": "stream",
     "text": [
      "\n",
      "Processing SMC_057.wav"
     ]
    },
    {
     "name": "stderr",
     "output_type": "stream",
     "text": [
      "WARNING:root:[CacheManager(cachedir='/tmp/librosa/joblib')]: Flushing completely the cache\n"
     ]
    },
    {
     "name": "stdout",
     "output_type": "stream",
     "text": [
      "\n",
      "Processing SMC_058.wav"
     ]
    },
    {
     "name": "stderr",
     "output_type": "stream",
     "text": [
      "WARNING:root:[CacheManager(cachedir='/tmp/librosa/joblib')]: Flushing completely the cache\n"
     ]
    },
    {
     "name": "stdout",
     "output_type": "stream",
     "text": [
      "\n",
      "Processing SMC_059.wav"
     ]
    },
    {
     "name": "stderr",
     "output_type": "stream",
     "text": [
      "WARNING:root:[CacheManager(cachedir='/tmp/librosa/joblib')]: Flushing completely the cache\n"
     ]
    },
    {
     "name": "stdout",
     "output_type": "stream",
     "text": [
      "\n",
      "Processing SMC_060.wav"
     ]
    },
    {
     "name": "stderr",
     "output_type": "stream",
     "text": [
      "WARNING:root:[CacheManager(cachedir='/tmp/librosa/joblib')]: Flushing completely the cache\n"
     ]
    },
    {
     "name": "stdout",
     "output_type": "stream",
     "text": [
      "\n",
      "Processing SMC_061.wav"
     ]
    },
    {
     "name": "stderr",
     "output_type": "stream",
     "text": [
      "WARNING:root:[CacheManager(cachedir='/tmp/librosa/joblib')]: Flushing completely the cache\n"
     ]
    },
    {
     "name": "stdout",
     "output_type": "stream",
     "text": [
      "\n",
      "Processing SMC_063.wav"
     ]
    },
    {
     "name": "stderr",
     "output_type": "stream",
     "text": [
      "WARNING:root:[CacheManager(cachedir='/tmp/librosa/joblib')]: Flushing completely the cache\n"
     ]
    },
    {
     "name": "stdout",
     "output_type": "stream",
     "text": [
      "\n",
      "Processing SMC_064.wav"
     ]
    },
    {
     "name": "stderr",
     "output_type": "stream",
     "text": [
      "WARNING:root:[CacheManager(cachedir='/tmp/librosa/joblib')]: Flushing completely the cache\n"
     ]
    },
    {
     "name": "stdout",
     "output_type": "stream",
     "text": [
      "\n",
      "Processing SMC_065.wav"
     ]
    },
    {
     "name": "stderr",
     "output_type": "stream",
     "text": [
      "WARNING:root:[CacheManager(cachedir='/tmp/librosa/joblib')]: Flushing completely the cache\n"
     ]
    },
    {
     "name": "stdout",
     "output_type": "stream",
     "text": [
      "\n",
      "Processing SMC_066.wav"
     ]
    },
    {
     "name": "stderr",
     "output_type": "stream",
     "text": [
      "WARNING:root:[CacheManager(cachedir='/tmp/librosa/joblib')]: Flushing completely the cache\n"
     ]
    },
    {
     "name": "stdout",
     "output_type": "stream",
     "text": [
      "\n",
      "Processing SMC_067.wav"
     ]
    },
    {
     "name": "stderr",
     "output_type": "stream",
     "text": [
      "WARNING:root:[CacheManager(cachedir='/tmp/librosa/joblib')]: Flushing completely the cache\n"
     ]
    },
    {
     "name": "stdout",
     "output_type": "stream",
     "text": [
      "\n",
      "Processing SMC_068.wav"
     ]
    },
    {
     "name": "stderr",
     "output_type": "stream",
     "text": [
      "WARNING:root:[CacheManager(cachedir='/tmp/librosa/joblib')]: Flushing completely the cache\n"
     ]
    },
    {
     "name": "stdout",
     "output_type": "stream",
     "text": [
      "\n",
      "Processing SMC_069.wav"
     ]
    },
    {
     "name": "stderr",
     "output_type": "stream",
     "text": [
      "WARNING:root:[CacheManager(cachedir='/tmp/librosa/joblib')]: Flushing completely the cache\n"
     ]
    },
    {
     "name": "stdout",
     "output_type": "stream",
     "text": [
      "\n",
      "Processing SMC_071.wav"
     ]
    },
    {
     "name": "stderr",
     "output_type": "stream",
     "text": [
      "WARNING:root:[CacheManager(cachedir='/tmp/librosa/joblib')]: Flushing completely the cache\n"
     ]
    },
    {
     "name": "stdout",
     "output_type": "stream",
     "text": [
      "\n",
      "Processing SMC_072.wav"
     ]
    },
    {
     "name": "stderr",
     "output_type": "stream",
     "text": [
      "WARNING:root:[CacheManager(cachedir='/tmp/librosa/joblib')]: Flushing completely the cache\n"
     ]
    },
    {
     "name": "stdout",
     "output_type": "stream",
     "text": [
      "\n",
      "Processing SMC_073.wav"
     ]
    },
    {
     "name": "stderr",
     "output_type": "stream",
     "text": [
      "WARNING:root:[CacheManager(cachedir='/tmp/librosa/joblib')]: Flushing completely the cache\n"
     ]
    },
    {
     "name": "stdout",
     "output_type": "stream",
     "text": [
      "\n",
      "Processing SMC_074.wav"
     ]
    },
    {
     "name": "stderr",
     "output_type": "stream",
     "text": [
      "WARNING:root:[CacheManager(cachedir='/tmp/librosa/joblib')]: Flushing completely the cache\n"
     ]
    },
    {
     "name": "stdout",
     "output_type": "stream",
     "text": [
      "\n",
      "Processing SMC_075.wav"
     ]
    },
    {
     "name": "stderr",
     "output_type": "stream",
     "text": [
      "WARNING:root:[CacheManager(cachedir='/tmp/librosa/joblib')]: Flushing completely the cache\n"
     ]
    },
    {
     "name": "stdout",
     "output_type": "stream",
     "text": [
      "\n",
      "Processing SMC_076.wav"
     ]
    },
    {
     "name": "stderr",
     "output_type": "stream",
     "text": [
      "WARNING:root:[CacheManager(cachedir='/tmp/librosa/joblib')]: Flushing completely the cache\n"
     ]
    },
    {
     "name": "stdout",
     "output_type": "stream",
     "text": [
      "\n",
      "Processing SMC_079.wav"
     ]
    },
    {
     "name": "stderr",
     "output_type": "stream",
     "text": [
      "WARNING:root:[CacheManager(cachedir='/tmp/librosa/joblib')]: Flushing completely the cache\n"
     ]
    },
    {
     "name": "stdout",
     "output_type": "stream",
     "text": [
      "\n",
      "Processing SMC_080.wav"
     ]
    },
    {
     "name": "stderr",
     "output_type": "stream",
     "text": [
      "WARNING:root:[CacheManager(cachedir='/tmp/librosa/joblib')]: Flushing completely the cache\n"
     ]
    },
    {
     "name": "stdout",
     "output_type": "stream",
     "text": [
      "\n",
      "Processing SMC_082.wav"
     ]
    },
    {
     "name": "stderr",
     "output_type": "stream",
     "text": [
      "WARNING:root:[CacheManager(cachedir='/tmp/librosa/joblib')]: Flushing completely the cache\n"
     ]
    },
    {
     "name": "stdout",
     "output_type": "stream",
     "text": [
      "\n",
      "Processing SMC_084.wav"
     ]
    },
    {
     "name": "stderr",
     "output_type": "stream",
     "text": [
      "WARNING:root:[CacheManager(cachedir='/tmp/librosa/joblib')]: Flushing completely the cache\n"
     ]
    },
    {
     "name": "stdout",
     "output_type": "stream",
     "text": [
      "\n",
      "Processing SMC_085.wav"
     ]
    },
    {
     "name": "stderr",
     "output_type": "stream",
     "text": [
      "WARNING:root:[CacheManager(cachedir='/tmp/librosa/joblib')]: Flushing completely the cache\n"
     ]
    },
    {
     "name": "stdout",
     "output_type": "stream",
     "text": [
      "\n",
      "Processing SMC_086.wav"
     ]
    },
    {
     "name": "stderr",
     "output_type": "stream",
     "text": [
      "WARNING:root:[CacheManager(cachedir='/tmp/librosa/joblib')]: Flushing completely the cache\n"
     ]
    },
    {
     "name": "stdout",
     "output_type": "stream",
     "text": [
      "\n",
      "Processing SMC_087.wav"
     ]
    },
    {
     "name": "stderr",
     "output_type": "stream",
     "text": [
      "WARNING:root:[CacheManager(cachedir='/tmp/librosa/joblib')]: Flushing completely the cache\n"
     ]
    },
    {
     "name": "stdout",
     "output_type": "stream",
     "text": [
      "\n",
      "Processing SMC_088.wav"
     ]
    },
    {
     "name": "stderr",
     "output_type": "stream",
     "text": [
      "WARNING:root:[CacheManager(cachedir='/tmp/librosa/joblib')]: Flushing completely the cache\n"
     ]
    },
    {
     "name": "stdout",
     "output_type": "stream",
     "text": [
      "\n",
      "Processing SMC_089.wav"
     ]
    },
    {
     "name": "stderr",
     "output_type": "stream",
     "text": [
      "WARNING:root:[CacheManager(cachedir='/tmp/librosa/joblib')]: Flushing completely the cache\n"
     ]
    },
    {
     "name": "stdout",
     "output_type": "stream",
     "text": [
      "\n",
      "Processing SMC_092.wav"
     ]
    },
    {
     "name": "stderr",
     "output_type": "stream",
     "text": [
      "WARNING:root:[CacheManager(cachedir='/tmp/librosa/joblib')]: Flushing completely the cache\n"
     ]
    },
    {
     "name": "stdout",
     "output_type": "stream",
     "text": [
      "\n",
      "Processing SMC_093.wav"
     ]
    },
    {
     "name": "stderr",
     "output_type": "stream",
     "text": [
      "WARNING:root:[CacheManager(cachedir='/tmp/librosa/joblib')]: Flushing completely the cache\n"
     ]
    },
    {
     "name": "stdout",
     "output_type": "stream",
     "text": [
      "\n",
      "Processing SMC_095.wav"
     ]
    },
    {
     "name": "stderr",
     "output_type": "stream",
     "text": [
      "WARNING:root:[CacheManager(cachedir='/tmp/librosa/joblib')]: Flushing completely the cache\n"
     ]
    },
    {
     "name": "stdout",
     "output_type": "stream",
     "text": [
      "\n",
      "Processing SMC_096.wav"
     ]
    },
    {
     "name": "stderr",
     "output_type": "stream",
     "text": [
      "WARNING:root:[CacheManager(cachedir='/tmp/librosa/joblib')]: Flushing completely the cache\n"
     ]
    },
    {
     "name": "stdout",
     "output_type": "stream",
     "text": [
      "\n",
      "Processing SMC_098.wav"
     ]
    },
    {
     "name": "stderr",
     "output_type": "stream",
     "text": [
      "WARNING:root:[CacheManager(cachedir='/tmp/librosa/joblib')]: Flushing completely the cache\n"
     ]
    },
    {
     "name": "stdout",
     "output_type": "stream",
     "text": [
      "\n",
      "Processing SMC_099.wav"
     ]
    },
    {
     "name": "stderr",
     "output_type": "stream",
     "text": [
      "WARNING:root:[CacheManager(cachedir='/tmp/librosa/joblib')]: Flushing completely the cache\n"
     ]
    },
    {
     "name": "stdout",
     "output_type": "stream",
     "text": [
      "\n",
      "Processing SMC_100.wav"
     ]
    },
    {
     "name": "stderr",
     "output_type": "stream",
     "text": [
      "WARNING:root:[CacheManager(cachedir='/tmp/librosa/joblib')]: Flushing completely the cache\n"
     ]
    },
    {
     "name": "stdout",
     "output_type": "stream",
     "text": [
      "\n",
      "Processing SMC_101.wav"
     ]
    },
    {
     "name": "stderr",
     "output_type": "stream",
     "text": [
      "WARNING:root:[CacheManager(cachedir='/tmp/librosa/joblib')]: Flushing completely the cache\n"
     ]
    },
    {
     "name": "stdout",
     "output_type": "stream",
     "text": [
      "\n",
      "Processing SMC_103.wav"
     ]
    },
    {
     "name": "stderr",
     "output_type": "stream",
     "text": [
      "WARNING:root:[CacheManager(cachedir='/tmp/librosa/joblib')]: Flushing completely the cache\n"
     ]
    },
    {
     "name": "stdout",
     "output_type": "stream",
     "text": [
      "\n",
      "Processing SMC_104.wav"
     ]
    },
    {
     "name": "stderr",
     "output_type": "stream",
     "text": [
      "WARNING:root:[CacheManager(cachedir='/tmp/librosa/joblib')]: Flushing completely the cache\n"
     ]
    },
    {
     "name": "stdout",
     "output_type": "stream",
     "text": [
      "\n",
      "Processing SMC_105.wav"
     ]
    },
    {
     "name": "stderr",
     "output_type": "stream",
     "text": [
      "WARNING:root:[CacheManager(cachedir='/tmp/librosa/joblib')]: Flushing completely the cache\n"
     ]
    },
    {
     "name": "stdout",
     "output_type": "stream",
     "text": [
      "\n",
      "Processing SMC_106.wav"
     ]
    },
    {
     "name": "stderr",
     "output_type": "stream",
     "text": [
      "WARNING:root:[CacheManager(cachedir='/tmp/librosa/joblib')]: Flushing completely the cache\n"
     ]
    },
    {
     "name": "stdout",
     "output_type": "stream",
     "text": [
      "\n",
      "Processing SMC_109.wav"
     ]
    },
    {
     "name": "stderr",
     "output_type": "stream",
     "text": [
      "WARNING:root:[CacheManager(cachedir='/tmp/librosa/joblib')]: Flushing completely the cache\n"
     ]
    },
    {
     "name": "stdout",
     "output_type": "stream",
     "text": [
      "\n",
      "Processing SMC_111.wav"
     ]
    },
    {
     "name": "stderr",
     "output_type": "stream",
     "text": [
      "WARNING:root:[CacheManager(cachedir='/tmp/librosa/joblib')]: Flushing completely the cache\n"
     ]
    },
    {
     "name": "stdout",
     "output_type": "stream",
     "text": [
      "\n",
      "Processing SMC_113.wav"
     ]
    },
    {
     "name": "stderr",
     "output_type": "stream",
     "text": [
      "WARNING:root:[CacheManager(cachedir='/tmp/librosa/joblib')]: Flushing completely the cache\n"
     ]
    },
    {
     "name": "stdout",
     "output_type": "stream",
     "text": [
      "\n",
      "Processing SMC_114.wav"
     ]
    },
    {
     "name": "stderr",
     "output_type": "stream",
     "text": [
      "WARNING:root:[CacheManager(cachedir='/tmp/librosa/joblib')]: Flushing completely the cache\n"
     ]
    },
    {
     "name": "stdout",
     "output_type": "stream",
     "text": [
      "\n",
      "Processing SMC_116.wav"
     ]
    },
    {
     "name": "stderr",
     "output_type": "stream",
     "text": [
      "WARNING:root:[CacheManager(cachedir='/tmp/librosa/joblib')]: Flushing completely the cache\n"
     ]
    },
    {
     "name": "stdout",
     "output_type": "stream",
     "text": [
      "\n",
      "Processing SMC_117.wav"
     ]
    },
    {
     "name": "stderr",
     "output_type": "stream",
     "text": [
      "WARNING:root:[CacheManager(cachedir='/tmp/librosa/joblib')]: Flushing completely the cache\n"
     ]
    },
    {
     "name": "stdout",
     "output_type": "stream",
     "text": [
      "\n",
      "Processing SMC_118.wav"
     ]
    },
    {
     "name": "stderr",
     "output_type": "stream",
     "text": [
      "WARNING:root:[CacheManager(cachedir='/tmp/librosa/joblib')]: Flushing completely the cache\n"
     ]
    },
    {
     "name": "stdout",
     "output_type": "stream",
     "text": [
      "\n",
      "Processing SMC_119.wav"
     ]
    },
    {
     "name": "stderr",
     "output_type": "stream",
     "text": [
      "WARNING:root:[CacheManager(cachedir='/tmp/librosa/joblib')]: Flushing completely the cache\n"
     ]
    },
    {
     "name": "stdout",
     "output_type": "stream",
     "text": [
      "\n",
      "Processing SMC_120.wav"
     ]
    },
    {
     "name": "stderr",
     "output_type": "stream",
     "text": [
      "WARNING:root:[CacheManager(cachedir='/tmp/librosa/joblib')]: Flushing completely the cache\n"
     ]
    },
    {
     "name": "stdout",
     "output_type": "stream",
     "text": [
      "\n",
      "Processing SMC_121.wav"
     ]
    },
    {
     "name": "stderr",
     "output_type": "stream",
     "text": [
      "WARNING:root:[CacheManager(cachedir='/tmp/librosa/joblib')]: Flushing completely the cache\n"
     ]
    },
    {
     "name": "stdout",
     "output_type": "stream",
     "text": [
      "\n",
      "Processing SMC_124.wav"
     ]
    },
    {
     "name": "stderr",
     "output_type": "stream",
     "text": [
      "WARNING:root:[CacheManager(cachedir='/tmp/librosa/joblib')]: Flushing completely the cache\n"
     ]
    },
    {
     "name": "stdout",
     "output_type": "stream",
     "text": [
      "\n",
      "Processing SMC_126.wav"
     ]
    },
    {
     "name": "stderr",
     "output_type": "stream",
     "text": [
      "WARNING:root:[CacheManager(cachedir='/tmp/librosa/joblib')]: Flushing completely the cache\n"
     ]
    },
    {
     "name": "stdout",
     "output_type": "stream",
     "text": [
      "\n",
      "Processing SMC_127.wav"
     ]
    },
    {
     "name": "stderr",
     "output_type": "stream",
     "text": [
      "WARNING:root:[CacheManager(cachedir='/tmp/librosa/joblib')]: Flushing completely the cache\n"
     ]
    },
    {
     "name": "stdout",
     "output_type": "stream",
     "text": [
      "\n",
      "Processing SMC_130.wav"
     ]
    },
    {
     "name": "stderr",
     "output_type": "stream",
     "text": [
      "WARNING:root:[CacheManager(cachedir='/tmp/librosa/joblib')]: Flushing completely the cache\n"
     ]
    },
    {
     "name": "stdout",
     "output_type": "stream",
     "text": [
      "\n",
      "Processing SMC_133.wav"
     ]
    },
    {
     "name": "stderr",
     "output_type": "stream",
     "text": [
      "WARNING:root:[CacheManager(cachedir='/tmp/librosa/joblib')]: Flushing completely the cache\n"
     ]
    },
    {
     "name": "stdout",
     "output_type": "stream",
     "text": [
      "\n",
      "Processing SMC_135.wav"
     ]
    },
    {
     "name": "stderr",
     "output_type": "stream",
     "text": [
      "WARNING:root:[CacheManager(cachedir='/tmp/librosa/joblib')]: Flushing completely the cache\n"
     ]
    },
    {
     "name": "stdout",
     "output_type": "stream",
     "text": [
      "\n",
      "Processing SMC_137.wav"
     ]
    },
    {
     "name": "stderr",
     "output_type": "stream",
     "text": [
      "WARNING:root:[CacheManager(cachedir='/tmp/librosa/joblib')]: Flushing completely the cache\n"
     ]
    },
    {
     "name": "stdout",
     "output_type": "stream",
     "text": [
      "\n",
      "Processing SMC_139.wav"
     ]
    },
    {
     "name": "stderr",
     "output_type": "stream",
     "text": [
      "WARNING:root:[CacheManager(cachedir='/tmp/librosa/joblib')]: Flushing completely the cache\n"
     ]
    },
    {
     "name": "stdout",
     "output_type": "stream",
     "text": [
      "\n",
      "Processing SMC_140.wav"
     ]
    },
    {
     "name": "stderr",
     "output_type": "stream",
     "text": [
      "WARNING:root:[CacheManager(cachedir='/tmp/librosa/joblib')]: Flushing completely the cache\n"
     ]
    },
    {
     "name": "stdout",
     "output_type": "stream",
     "text": [
      "\n",
      "Processing SMC_142.wav"
     ]
    },
    {
     "name": "stderr",
     "output_type": "stream",
     "text": [
      "WARNING:root:[CacheManager(cachedir='/tmp/librosa/joblib')]: Flushing completely the cache\n"
     ]
    },
    {
     "name": "stdout",
     "output_type": "stream",
     "text": [
      "\n",
      "Processing SMC_143.wav"
     ]
    },
    {
     "name": "stderr",
     "output_type": "stream",
     "text": [
      "WARNING:root:[CacheManager(cachedir='/tmp/librosa/joblib')]: Flushing completely the cache\n"
     ]
    },
    {
     "name": "stdout",
     "output_type": "stream",
     "text": [
      "\n",
      "Processing SMC_146.wav"
     ]
    },
    {
     "name": "stderr",
     "output_type": "stream",
     "text": [
      "WARNING:root:[CacheManager(cachedir='/tmp/librosa/joblib')]: Flushing completely the cache\n"
     ]
    },
    {
     "name": "stdout",
     "output_type": "stream",
     "text": [
      "\n",
      "Processing SMC_147.wav"
     ]
    },
    {
     "name": "stderr",
     "output_type": "stream",
     "text": [
      "WARNING:root:[CacheManager(cachedir='/tmp/librosa/joblib')]: Flushing completely the cache\n"
     ]
    },
    {
     "name": "stdout",
     "output_type": "stream",
     "text": [
      "\n",
      "Processing SMC_148.wav"
     ]
    },
    {
     "name": "stderr",
     "output_type": "stream",
     "text": [
      "WARNING:root:[CacheManager(cachedir='/tmp/librosa/joblib')]: Flushing completely the cache\n"
     ]
    },
    {
     "name": "stdout",
     "output_type": "stream",
     "text": [
      "\n",
      "Processing SMC_149.wav"
     ]
    },
    {
     "name": "stderr",
     "output_type": "stream",
     "text": [
      "WARNING:root:[CacheManager(cachedir='/tmp/librosa/joblib')]: Flushing completely the cache\n"
     ]
    },
    {
     "name": "stdout",
     "output_type": "stream",
     "text": [
      "\n",
      "Processing SMC_150.wav"
     ]
    },
    {
     "name": "stderr",
     "output_type": "stream",
     "text": [
      "WARNING:root:[CacheManager(cachedir='/tmp/librosa/joblib')]: Flushing completely the cache\n"
     ]
    },
    {
     "name": "stdout",
     "output_type": "stream",
     "text": [
      "\n",
      "Processing SMC_151.wav"
     ]
    },
    {
     "name": "stderr",
     "output_type": "stream",
     "text": [
      "WARNING:root:[CacheManager(cachedir='/tmp/librosa/joblib')]: Flushing completely the cache\n"
     ]
    },
    {
     "name": "stdout",
     "output_type": "stream",
     "text": [
      "\n",
      "Processing SMC_152.wav"
     ]
    },
    {
     "name": "stderr",
     "output_type": "stream",
     "text": [
      "WARNING:root:[CacheManager(cachedir='/tmp/librosa/joblib')]: Flushing completely the cache\n"
     ]
    },
    {
     "name": "stdout",
     "output_type": "stream",
     "text": [
      "\n",
      "Processing SMC_153.wav"
     ]
    },
    {
     "name": "stderr",
     "output_type": "stream",
     "text": [
      "WARNING:root:[CacheManager(cachedir='/tmp/librosa/joblib')]: Flushing completely the cache\n"
     ]
    },
    {
     "name": "stdout",
     "output_type": "stream",
     "text": [
      "\n",
      "Processing SMC_154.wav"
     ]
    },
    {
     "name": "stderr",
     "output_type": "stream",
     "text": [
      "WARNING:root:[CacheManager(cachedir='/tmp/librosa/joblib')]: Flushing completely the cache\n"
     ]
    },
    {
     "name": "stdout",
     "output_type": "stream",
     "text": [
      "\n",
      "Processing SMC_157.wav"
     ]
    },
    {
     "name": "stderr",
     "output_type": "stream",
     "text": [
      "WARNING:root:[CacheManager(cachedir='/tmp/librosa/joblib')]: Flushing completely the cache\n"
     ]
    },
    {
     "name": "stdout",
     "output_type": "stream",
     "text": [
      "\n",
      "Processing SMC_158.wav"
     ]
    },
    {
     "name": "stderr",
     "output_type": "stream",
     "text": [
      "WARNING:root:[CacheManager(cachedir='/tmp/librosa/joblib')]: Flushing completely the cache\n"
     ]
    },
    {
     "name": "stdout",
     "output_type": "stream",
     "text": [
      "\n",
      "Processing SMC_159.wav"
     ]
    },
    {
     "name": "stderr",
     "output_type": "stream",
     "text": [
      "WARNING:root:[CacheManager(cachedir='/tmp/librosa/joblib')]: Flushing completely the cache\n"
     ]
    },
    {
     "name": "stdout",
     "output_type": "stream",
     "text": [
      "\n",
      "Processing SMC_161.wav"
     ]
    },
    {
     "name": "stderr",
     "output_type": "stream",
     "text": [
      "WARNING:root:[CacheManager(cachedir='/tmp/librosa/joblib')]: Flushing completely the cache\n"
     ]
    },
    {
     "name": "stdout",
     "output_type": "stream",
     "text": [
      "\n",
      "Processing SMC_166.wav"
     ]
    },
    {
     "name": "stderr",
     "output_type": "stream",
     "text": [
      "WARNING:root:[CacheManager(cachedir='/tmp/librosa/joblib')]: Flushing completely the cache\n"
     ]
    },
    {
     "name": "stdout",
     "output_type": "stream",
     "text": [
      "\n",
      "Processing SMC_167.wav"
     ]
    },
    {
     "name": "stderr",
     "output_type": "stream",
     "text": [
      "WARNING:root:[CacheManager(cachedir='/tmp/librosa/joblib')]: Flushing completely the cache\n"
     ]
    },
    {
     "name": "stdout",
     "output_type": "stream",
     "text": [
      "\n",
      "Processing SMC_168.wav"
     ]
    },
    {
     "name": "stderr",
     "output_type": "stream",
     "text": [
      "WARNING:root:[CacheManager(cachedir='/tmp/librosa/joblib')]: Flushing completely the cache\n"
     ]
    },
    {
     "name": "stdout",
     "output_type": "stream",
     "text": [
      "\n",
      "Processing SMC_169.wav"
     ]
    },
    {
     "name": "stderr",
     "output_type": "stream",
     "text": [
      "WARNING:root:[CacheManager(cachedir='/tmp/librosa/joblib')]: Flushing completely the cache\n"
     ]
    },
    {
     "name": "stdout",
     "output_type": "stream",
     "text": [
      "\n",
      "Processing SMC_170.wav"
     ]
    },
    {
     "name": "stderr",
     "output_type": "stream",
     "text": [
      "WARNING:root:[CacheManager(cachedir='/tmp/librosa/joblib')]: Flushing completely the cache\n"
     ]
    },
    {
     "name": "stdout",
     "output_type": "stream",
     "text": [
      "\n",
      "Processing SMC_171.wav"
     ]
    },
    {
     "name": "stderr",
     "output_type": "stream",
     "text": [
      "WARNING:root:[CacheManager(cachedir='/tmp/librosa/joblib')]: Flushing completely the cache\n"
     ]
    },
    {
     "name": "stdout",
     "output_type": "stream",
     "text": [
      "\n",
      "Processing SMC_172.wav"
     ]
    },
    {
     "name": "stderr",
     "output_type": "stream",
     "text": [
      "WARNING:root:[CacheManager(cachedir='/tmp/librosa/joblib')]: Flushing completely the cache\n"
     ]
    },
    {
     "name": "stdout",
     "output_type": "stream",
     "text": [
      "\n",
      "Processing SMC_173.wav"
     ]
    },
    {
     "name": "stderr",
     "output_type": "stream",
     "text": [
      "WARNING:root:[CacheManager(cachedir='/tmp/librosa/joblib')]: Flushing completely the cache\n"
     ]
    },
    {
     "name": "stdout",
     "output_type": "stream",
     "text": [
      "\n",
      "Processing SMC_174.wav"
     ]
    },
    {
     "name": "stderr",
     "output_type": "stream",
     "text": [
      "WARNING:root:[CacheManager(cachedir='/tmp/librosa/joblib')]: Flushing completely the cache\n"
     ]
    },
    {
     "name": "stdout",
     "output_type": "stream",
     "text": [
      "\n",
      "Processing SMC_175.wav"
     ]
    },
    {
     "name": "stderr",
     "output_type": "stream",
     "text": [
      "WARNING:root:[CacheManager(cachedir='/tmp/librosa/joblib')]: Flushing completely the cache\n"
     ]
    },
    {
     "name": "stdout",
     "output_type": "stream",
     "text": [
      "\n",
      "Processing SMC_176.wav"
     ]
    },
    {
     "name": "stderr",
     "output_type": "stream",
     "text": [
      "WARNING:root:[CacheManager(cachedir='/tmp/librosa/joblib')]: Flushing completely the cache\n"
     ]
    },
    {
     "name": "stdout",
     "output_type": "stream",
     "text": [
      "\n",
      "Processing SMC_178.wav"
     ]
    },
    {
     "name": "stderr",
     "output_type": "stream",
     "text": [
      "WARNING:root:[CacheManager(cachedir='/tmp/librosa/joblib')]: Flushing completely the cache\n"
     ]
    },
    {
     "name": "stdout",
     "output_type": "stream",
     "text": [
      "\n",
      "Processing SMC_179.wav"
     ]
    },
    {
     "name": "stderr",
     "output_type": "stream",
     "text": [
      "WARNING:root:[CacheManager(cachedir='/tmp/librosa/joblib')]: Flushing completely the cache\n"
     ]
    },
    {
     "name": "stdout",
     "output_type": "stream",
     "text": [
      "\n",
      "Processing SMC_181.wav"
     ]
    },
    {
     "name": "stderr",
     "output_type": "stream",
     "text": [
      "WARNING:root:[CacheManager(cachedir='/tmp/librosa/joblib')]: Flushing completely the cache\n"
     ]
    },
    {
     "name": "stdout",
     "output_type": "stream",
     "text": [
      "\n",
      "Processing SMC_182.wav"
     ]
    },
    {
     "name": "stderr",
     "output_type": "stream",
     "text": [
      "WARNING:root:[CacheManager(cachedir='/tmp/librosa/joblib')]: Flushing completely the cache\n"
     ]
    },
    {
     "name": "stdout",
     "output_type": "stream",
     "text": [
      "\n",
      "Processing SMC_184.wav"
     ]
    },
    {
     "name": "stderr",
     "output_type": "stream",
     "text": [
      "WARNING:root:[CacheManager(cachedir='/tmp/librosa/joblib')]: Flushing completely the cache\n"
     ]
    },
    {
     "name": "stdout",
     "output_type": "stream",
     "text": [
      "\n",
      "Processing SMC_187.wav"
     ]
    },
    {
     "name": "stderr",
     "output_type": "stream",
     "text": [
      "WARNING:root:[CacheManager(cachedir='/tmp/librosa/joblib')]: Flushing completely the cache\n"
     ]
    },
    {
     "name": "stdout",
     "output_type": "stream",
     "text": [
      "\n",
      "Processing SMC_188.wav"
     ]
    },
    {
     "name": "stderr",
     "output_type": "stream",
     "text": [
      "WARNING:root:[CacheManager(cachedir='/tmp/librosa/joblib')]: Flushing completely the cache\n"
     ]
    },
    {
     "name": "stdout",
     "output_type": "stream",
     "text": [
      "\n",
      "Processing SMC_190.wav"
     ]
    },
    {
     "name": "stderr",
     "output_type": "stream",
     "text": [
      "WARNING:root:[CacheManager(cachedir='/tmp/librosa/joblib')]: Flushing completely the cache\n"
     ]
    },
    {
     "name": "stdout",
     "output_type": "stream",
     "text": [
      "\n",
      "Processing SMC_192.wav"
     ]
    },
    {
     "name": "stderr",
     "output_type": "stream",
     "text": [
      "WARNING:root:[CacheManager(cachedir='/tmp/librosa/joblib')]: Flushing completely the cache\n"
     ]
    },
    {
     "name": "stdout",
     "output_type": "stream",
     "text": [
      "\n",
      "Processing SMC_193.wav"
     ]
    },
    {
     "name": "stderr",
     "output_type": "stream",
     "text": [
      "WARNING:root:[CacheManager(cachedir='/tmp/librosa/joblib')]: Flushing completely the cache\n"
     ]
    },
    {
     "name": "stdout",
     "output_type": "stream",
     "text": [
      "\n",
      "Processing SMC_194.wav"
     ]
    },
    {
     "name": "stderr",
     "output_type": "stream",
     "text": [
      "WARNING:root:[CacheManager(cachedir='/tmp/librosa/joblib')]: Flushing completely the cache\n"
     ]
    },
    {
     "name": "stdout",
     "output_type": "stream",
     "text": [
      "\n",
      "Processing SMC_195.wav"
     ]
    },
    {
     "name": "stderr",
     "output_type": "stream",
     "text": [
      "WARNING:root:[CacheManager(cachedir='/tmp/librosa/joblib')]: Flushing completely the cache\n"
     ]
    },
    {
     "name": "stdout",
     "output_type": "stream",
     "text": [
      "\n",
      "Processing SMC_197.wav"
     ]
    },
    {
     "name": "stderr",
     "output_type": "stream",
     "text": [
      "WARNING:root:[CacheManager(cachedir='/tmp/librosa/joblib')]: Flushing completely the cache\n"
     ]
    },
    {
     "name": "stdout",
     "output_type": "stream",
     "text": [
      "\n",
      "Processing SMC_198.wav"
     ]
    },
    {
     "name": "stderr",
     "output_type": "stream",
     "text": [
      "WARNING:root:[CacheManager(cachedir='/tmp/librosa/joblib')]: Flushing completely the cache\n"
     ]
    },
    {
     "name": "stdout",
     "output_type": "stream",
     "text": [
      "\n",
      "Processing SMC_199.wav"
     ]
    },
    {
     "name": "stderr",
     "output_type": "stream",
     "text": [
      "WARNING:root:[CacheManager(cachedir='/tmp/librosa/joblib')]: Flushing completely the cache\n"
     ]
    },
    {
     "name": "stdout",
     "output_type": "stream",
     "text": [
      "\n",
      "Processing SMC_202.wav"
     ]
    },
    {
     "name": "stderr",
     "output_type": "stream",
     "text": [
      "WARNING:root:[CacheManager(cachedir='/tmp/librosa/joblib')]: Flushing completely the cache\n"
     ]
    },
    {
     "name": "stdout",
     "output_type": "stream",
     "text": [
      "\n",
      "Processing SMC_203.wav"
     ]
    },
    {
     "name": "stderr",
     "output_type": "stream",
     "text": [
      "WARNING:root:[CacheManager(cachedir='/tmp/librosa/joblib')]: Flushing completely the cache\n"
     ]
    },
    {
     "name": "stdout",
     "output_type": "stream",
     "text": [
      "\n",
      "Processing SMC_204.wav"
     ]
    },
    {
     "name": "stderr",
     "output_type": "stream",
     "text": [
      "WARNING:root:[CacheManager(cachedir='/tmp/librosa/joblib')]: Flushing completely the cache\n"
     ]
    },
    {
     "name": "stdout",
     "output_type": "stream",
     "text": [
      "\n",
      "Processing SMC_205.wav"
     ]
    },
    {
     "name": "stderr",
     "output_type": "stream",
     "text": [
      "WARNING:root:[CacheManager(cachedir='/tmp/librosa/joblib')]: Flushing completely the cache\n"
     ]
    },
    {
     "name": "stdout",
     "output_type": "stream",
     "text": [
      "\n",
      "Processing SMC_206.wav"
     ]
    },
    {
     "name": "stderr",
     "output_type": "stream",
     "text": [
      "WARNING:root:[CacheManager(cachedir='/tmp/librosa/joblib')]: Flushing completely the cache\n"
     ]
    },
    {
     "name": "stdout",
     "output_type": "stream",
     "text": [
      "\n",
      "Processing SMC_207.wav"
     ]
    },
    {
     "name": "stderr",
     "output_type": "stream",
     "text": [
      "WARNING:root:[CacheManager(cachedir='/tmp/librosa/joblib')]: Flushing completely the cache\n"
     ]
    },
    {
     "name": "stdout",
     "output_type": "stream",
     "text": [
      "\n",
      "Processing SMC_208.wav"
     ]
    },
    {
     "name": "stderr",
     "output_type": "stream",
     "text": [
      "WARNING:root:[CacheManager(cachedir='/tmp/librosa/joblib')]: Flushing completely the cache\n"
     ]
    },
    {
     "name": "stdout",
     "output_type": "stream",
     "text": [
      "\n",
      "Processing SMC_209.wav"
     ]
    },
    {
     "name": "stderr",
     "output_type": "stream",
     "text": [
      "WARNING:root:[CacheManager(cachedir='/tmp/librosa/joblib')]: Flushing completely the cache\n"
     ]
    },
    {
     "name": "stdout",
     "output_type": "stream",
     "text": [
      "\n",
      "Processing SMC_211.wav"
     ]
    },
    {
     "name": "stderr",
     "output_type": "stream",
     "text": [
      "WARNING:root:[CacheManager(cachedir='/tmp/librosa/joblib')]: Flushing completely the cache\n"
     ]
    },
    {
     "name": "stdout",
     "output_type": "stream",
     "text": [
      "\n",
      "Processing SMC_212.wav"
     ]
    },
    {
     "name": "stderr",
     "output_type": "stream",
     "text": [
      "WARNING:root:[CacheManager(cachedir='/tmp/librosa/joblib')]: Flushing completely the cache\n"
     ]
    },
    {
     "name": "stdout",
     "output_type": "stream",
     "text": [
      "\n",
      "Processing SMC_213.wav"
     ]
    },
    {
     "name": "stderr",
     "output_type": "stream",
     "text": [
      "WARNING:root:[CacheManager(cachedir='/tmp/librosa/joblib')]: Flushing completely the cache\n"
     ]
    },
    {
     "name": "stdout",
     "output_type": "stream",
     "text": [
      "\n",
      "Processing SMC_214.wav"
     ]
    },
    {
     "name": "stderr",
     "output_type": "stream",
     "text": [
      "WARNING:root:[CacheManager(cachedir='/tmp/librosa/joblib')]: Flushing completely the cache\n"
     ]
    },
    {
     "name": "stdout",
     "output_type": "stream",
     "text": [
      "\n",
      "Processing SMC_215.wav"
     ]
    },
    {
     "name": "stderr",
     "output_type": "stream",
     "text": [
      "WARNING:root:[CacheManager(cachedir='/tmp/librosa/joblib')]: Flushing completely the cache\n"
     ]
    },
    {
     "name": "stdout",
     "output_type": "stream",
     "text": [
      "\n",
      "Processing SMC_216.wav"
     ]
    },
    {
     "name": "stderr",
     "output_type": "stream",
     "text": [
      "WARNING:root:[CacheManager(cachedir='/tmp/librosa/joblib')]: Flushing completely the cache\n"
     ]
    },
    {
     "name": "stdout",
     "output_type": "stream",
     "text": [
      "\n",
      "Processing SMC_217.wav"
     ]
    },
    {
     "name": "stderr",
     "output_type": "stream",
     "text": [
      "WARNING:root:[CacheManager(cachedir='/tmp/librosa/joblib')]: Flushing completely the cache\n"
     ]
    },
    {
     "name": "stdout",
     "output_type": "stream",
     "text": [
      "\n",
      "Processing SMC_219.wav"
     ]
    },
    {
     "name": "stderr",
     "output_type": "stream",
     "text": [
      "WARNING:root:[CacheManager(cachedir='/tmp/librosa/joblib')]: Flushing completely the cache\n"
     ]
    },
    {
     "name": "stdout",
     "output_type": "stream",
     "text": [
      "\n",
      "Processing SMC_220.wav"
     ]
    },
    {
     "name": "stderr",
     "output_type": "stream",
     "text": [
      "WARNING:root:[CacheManager(cachedir='/tmp/librosa/joblib')]: Flushing completely the cache\n"
     ]
    },
    {
     "name": "stdout",
     "output_type": "stream",
     "text": [
      "\n",
      "Processing SMC_221.wav"
     ]
    },
    {
     "name": "stderr",
     "output_type": "stream",
     "text": [
      "WARNING:root:[CacheManager(cachedir='/tmp/librosa/joblib')]: Flushing completely the cache\n"
     ]
    },
    {
     "name": "stdout",
     "output_type": "stream",
     "text": [
      "\n",
      "Processing SMC_222.wav"
     ]
    },
    {
     "name": "stderr",
     "output_type": "stream",
     "text": [
      "WARNING:root:[CacheManager(cachedir='/tmp/librosa/joblib')]: Flushing completely the cache\n"
     ]
    },
    {
     "name": "stdout",
     "output_type": "stream",
     "text": [
      "\n",
      "Processing SMC_223.wav"
     ]
    },
    {
     "name": "stderr",
     "output_type": "stream",
     "text": [
      "WARNING:root:[CacheManager(cachedir='/tmp/librosa/joblib')]: Flushing completely the cache\n"
     ]
    },
    {
     "name": "stdout",
     "output_type": "stream",
     "text": [
      "\n",
      "Processing SMC_224.wav"
     ]
    },
    {
     "name": "stderr",
     "output_type": "stream",
     "text": [
      "WARNING:root:[CacheManager(cachedir='/tmp/librosa/joblib')]: Flushing completely the cache\n"
     ]
    },
    {
     "name": "stdout",
     "output_type": "stream",
     "text": [
      "\n",
      "Processing SMC_225.wav"
     ]
    },
    {
     "name": "stderr",
     "output_type": "stream",
     "text": [
      "WARNING:root:[CacheManager(cachedir='/tmp/librosa/joblib')]: Flushing completely the cache\n"
     ]
    },
    {
     "name": "stdout",
     "output_type": "stream",
     "text": [
      "\n",
      "Processing SMC_226.wav"
     ]
    },
    {
     "name": "stderr",
     "output_type": "stream",
     "text": [
      "WARNING:root:[CacheManager(cachedir='/tmp/librosa/joblib')]: Flushing completely the cache\n"
     ]
    },
    {
     "name": "stdout",
     "output_type": "stream",
     "text": [
      "\n",
      "Processing SMC_227.wav"
     ]
    },
    {
     "name": "stderr",
     "output_type": "stream",
     "text": [
      "WARNING:root:[CacheManager(cachedir='/tmp/librosa/joblib')]: Flushing completely the cache\n"
     ]
    },
    {
     "name": "stdout",
     "output_type": "stream",
     "text": [
      "\n",
      "Processing SMC_229.wav"
     ]
    },
    {
     "name": "stderr",
     "output_type": "stream",
     "text": [
      "WARNING:root:[CacheManager(cachedir='/tmp/librosa/joblib')]: Flushing completely the cache\n"
     ]
    },
    {
     "name": "stdout",
     "output_type": "stream",
     "text": [
      "\n",
      "Processing SMC_232.wav"
     ]
    },
    {
     "name": "stderr",
     "output_type": "stream",
     "text": [
      "WARNING:root:[CacheManager(cachedir='/tmp/librosa/joblib')]: Flushing completely the cache\n"
     ]
    },
    {
     "name": "stdout",
     "output_type": "stream",
     "text": [
      "\n",
      "Processing SMC_235.wav"
     ]
    },
    {
     "name": "stderr",
     "output_type": "stream",
     "text": [
      "WARNING:root:[CacheManager(cachedir='/tmp/librosa/joblib')]: Flushing completely the cache\n"
     ]
    },
    {
     "name": "stdout",
     "output_type": "stream",
     "text": [
      "\n",
      "Processing SMC_236.wav"
     ]
    },
    {
     "name": "stderr",
     "output_type": "stream",
     "text": [
      "WARNING:root:[CacheManager(cachedir='/tmp/librosa/joblib')]: Flushing completely the cache\n"
     ]
    },
    {
     "name": "stdout",
     "output_type": "stream",
     "text": [
      "\n",
      "Processing SMC_237.wav"
     ]
    },
    {
     "name": "stderr",
     "output_type": "stream",
     "text": [
      "WARNING:root:[CacheManager(cachedir='/tmp/librosa/joblib')]: Flushing completely the cache\n"
     ]
    },
    {
     "name": "stdout",
     "output_type": "stream",
     "text": [
      "\n",
      "Processing SMC_239.wav"
     ]
    },
    {
     "name": "stderr",
     "output_type": "stream",
     "text": [
      "WARNING:root:[CacheManager(cachedir='/tmp/librosa/joblib')]: Flushing completely the cache\n"
     ]
    },
    {
     "name": "stdout",
     "output_type": "stream",
     "text": [
      "\n",
      "Processing SMC_241.wav"
     ]
    },
    {
     "name": "stderr",
     "output_type": "stream",
     "text": [
      "WARNING:root:[CacheManager(cachedir='/tmp/librosa/joblib')]: Flushing completely the cache\n"
     ]
    },
    {
     "name": "stdout",
     "output_type": "stream",
     "text": [
      "\n",
      "Processing SMC_242.wav"
     ]
    },
    {
     "name": "stderr",
     "output_type": "stream",
     "text": [
      "WARNING:root:[CacheManager(cachedir='/tmp/librosa/joblib')]: Flushing completely the cache\n"
     ]
    },
    {
     "name": "stdout",
     "output_type": "stream",
     "text": [
      "\n",
      "Processing SMC_243.wav"
     ]
    },
    {
     "name": "stderr",
     "output_type": "stream",
     "text": [
      "WARNING:root:[CacheManager(cachedir='/tmp/librosa/joblib')]: Flushing completely the cache\n"
     ]
    },
    {
     "name": "stdout",
     "output_type": "stream",
     "text": [
      "\n",
      "Processing SMC_244.wav"
     ]
    },
    {
     "name": "stderr",
     "output_type": "stream",
     "text": [
      "WARNING:root:[CacheManager(cachedir='/tmp/librosa/joblib')]: Flushing completely the cache\n"
     ]
    },
    {
     "name": "stdout",
     "output_type": "stream",
     "text": [
      "\n",
      "Processing SMC_248.wav"
     ]
    },
    {
     "name": "stderr",
     "output_type": "stream",
     "text": [
      "WARNING:root:[CacheManager(cachedir='/tmp/librosa/joblib')]: Flushing completely the cache\n"
     ]
    },
    {
     "name": "stdout",
     "output_type": "stream",
     "text": [
      "\n",
      "Processing SMC_249.wav"
     ]
    },
    {
     "name": "stderr",
     "output_type": "stream",
     "text": [
      "WARNING:root:[CacheManager(cachedir='/tmp/librosa/joblib')]: Flushing completely the cache\n"
     ]
    },
    {
     "name": "stdout",
     "output_type": "stream",
     "text": [
      "\n",
      "Processing SMC_251.wav"
     ]
    },
    {
     "name": "stderr",
     "output_type": "stream",
     "text": [
      "WARNING:root:[CacheManager(cachedir='/tmp/librosa/joblib')]: Flushing completely the cache\n"
     ]
    },
    {
     "name": "stdout",
     "output_type": "stream",
     "text": [
      "\n",
      "Processing SMC_252.wav"
     ]
    },
    {
     "name": "stderr",
     "output_type": "stream",
     "text": [
      "WARNING:root:[CacheManager(cachedir='/tmp/librosa/joblib')]: Flushing completely the cache\n"
     ]
    },
    {
     "name": "stdout",
     "output_type": "stream",
     "text": [
      "\n",
      "Processing SMC_253.wav"
     ]
    },
    {
     "name": "stderr",
     "output_type": "stream",
     "text": [
      "WARNING:root:[CacheManager(cachedir='/tmp/librosa/joblib')]: Flushing completely the cache\n"
     ]
    },
    {
     "name": "stdout",
     "output_type": "stream",
     "text": [
      "\n",
      "Processing SMC_254.wav"
     ]
    },
    {
     "name": "stderr",
     "output_type": "stream",
     "text": [
      "WARNING:root:[CacheManager(cachedir='/tmp/librosa/joblib')]: Flushing completely the cache\n"
     ]
    },
    {
     "name": "stdout",
     "output_type": "stream",
     "text": [
      "\n",
      "Processing SMC_255.wav"
     ]
    },
    {
     "name": "stderr",
     "output_type": "stream",
     "text": [
      "WARNING:root:[CacheManager(cachedir='/tmp/librosa/joblib')]: Flushing completely the cache\n"
     ]
    },
    {
     "name": "stdout",
     "output_type": "stream",
     "text": [
      "\n",
      "Processing SMC_256.wav"
     ]
    },
    {
     "name": "stderr",
     "output_type": "stream",
     "text": [
      "WARNING:root:[CacheManager(cachedir='/tmp/librosa/joblib')]: Flushing completely the cache\n"
     ]
    },
    {
     "name": "stdout",
     "output_type": "stream",
     "text": [
      "\n",
      "Processing SMC_257.wav"
     ]
    },
    {
     "name": "stderr",
     "output_type": "stream",
     "text": [
      "WARNING:root:[CacheManager(cachedir='/tmp/librosa/joblib')]: Flushing completely the cache\n"
     ]
    },
    {
     "name": "stdout",
     "output_type": "stream",
     "text": [
      "\n",
      "Processing SMC_258.wav"
     ]
    },
    {
     "name": "stderr",
     "output_type": "stream",
     "text": [
      "WARNING:root:[CacheManager(cachedir='/tmp/librosa/joblib')]: Flushing completely the cache\n"
     ]
    },
    {
     "name": "stdout",
     "output_type": "stream",
     "text": [
      "\n",
      "Processing SMC_259.wav"
     ]
    },
    {
     "name": "stderr",
     "output_type": "stream",
     "text": [
      "WARNING:root:[CacheManager(cachedir='/tmp/librosa/joblib')]: Flushing completely the cache\n"
     ]
    },
    {
     "name": "stdout",
     "output_type": "stream",
     "text": [
      "\n",
      "Processing SMC_260.wav"
     ]
    },
    {
     "name": "stderr",
     "output_type": "stream",
     "text": [
      "WARNING:root:[CacheManager(cachedir='/tmp/librosa/joblib')]: Flushing completely the cache\n"
     ]
    },
    {
     "name": "stdout",
     "output_type": "stream",
     "text": [
      "\n",
      "Processing SMC_261.wav"
     ]
    },
    {
     "name": "stderr",
     "output_type": "stream",
     "text": [
      "WARNING:root:[CacheManager(cachedir='/tmp/librosa/joblib')]: Flushing completely the cache\n"
     ]
    },
    {
     "name": "stdout",
     "output_type": "stream",
     "text": [
      "\n",
      "Processing SMC_262.wav"
     ]
    },
    {
     "name": "stderr",
     "output_type": "stream",
     "text": [
      "WARNING:root:[CacheManager(cachedir='/tmp/librosa/joblib')]: Flushing completely the cache\n"
     ]
    },
    {
     "name": "stdout",
     "output_type": "stream",
     "text": [
      "\n",
      "Processing SMC_263.wav"
     ]
    },
    {
     "name": "stderr",
     "output_type": "stream",
     "text": [
      "WARNING:root:[CacheManager(cachedir='/tmp/librosa/joblib')]: Flushing completely the cache\n"
     ]
    },
    {
     "name": "stdout",
     "output_type": "stream",
     "text": [
      "\n",
      "Processing SMC_264.wav"
     ]
    },
    {
     "name": "stderr",
     "output_type": "stream",
     "text": [
      "WARNING:root:[CacheManager(cachedir='/tmp/librosa/joblib')]: Flushing completely the cache\n"
     ]
    },
    {
     "name": "stdout",
     "output_type": "stream",
     "text": [
      "\n",
      "Processing SMC_265.wav"
     ]
    },
    {
     "name": "stderr",
     "output_type": "stream",
     "text": [
      "WARNING:root:[CacheManager(cachedir='/tmp/librosa/joblib')]: Flushing completely the cache\n"
     ]
    },
    {
     "name": "stdout",
     "output_type": "stream",
     "text": [
      "\n",
      "Processing SMC_266.wav"
     ]
    },
    {
     "name": "stderr",
     "output_type": "stream",
     "text": [
      "WARNING:root:[CacheManager(cachedir='/tmp/librosa/joblib')]: Flushing completely the cache\n"
     ]
    },
    {
     "name": "stdout",
     "output_type": "stream",
     "text": [
      "\n",
      "Processing SMC_269.wav"
     ]
    },
    {
     "name": "stderr",
     "output_type": "stream",
     "text": [
      "WARNING:root:[CacheManager(cachedir='/tmp/librosa/joblib')]: Flushing completely the cache\n"
     ]
    },
    {
     "name": "stdout",
     "output_type": "stream",
     "text": [
      "\n",
      "Processing SMC_271.wav"
     ]
    },
    {
     "name": "stderr",
     "output_type": "stream",
     "text": [
      "WARNING:root:[CacheManager(cachedir='/tmp/librosa/joblib')]: Flushing completely the cache\n"
     ]
    },
    {
     "name": "stdout",
     "output_type": "stream",
     "text": [
      "\n",
      "Processing SMC_272.wav"
     ]
    },
    {
     "name": "stderr",
     "output_type": "stream",
     "text": [
      "WARNING:root:[CacheManager(cachedir='/tmp/librosa/joblib')]: Flushing completely the cache\n"
     ]
    },
    {
     "name": "stdout",
     "output_type": "stream",
     "text": [
      "\n",
      "Processing SMC_273.wav"
     ]
    },
    {
     "name": "stderr",
     "output_type": "stream",
     "text": [
      "WARNING:root:[CacheManager(cachedir='/tmp/librosa/joblib')]: Flushing completely the cache\n"
     ]
    },
    {
     "name": "stdout",
     "output_type": "stream",
     "text": [
      "\n",
      "Processing SMC_274.wav"
     ]
    },
    {
     "name": "stderr",
     "output_type": "stream",
     "text": [
      "WARNING:root:[CacheManager(cachedir='/tmp/librosa/joblib')]: Flushing completely the cache\n"
     ]
    },
    {
     "name": "stdout",
     "output_type": "stream",
     "text": [
      "\n",
      "Processing SMC_275.wav"
     ]
    },
    {
     "name": "stderr",
     "output_type": "stream",
     "text": [
      "WARNING:root:[CacheManager(cachedir='/tmp/librosa/joblib')]: Flushing completely the cache\n"
     ]
    },
    {
     "name": "stdout",
     "output_type": "stream",
     "text": [
      "\n",
      "Processing SMC_276.wav"
     ]
    },
    {
     "name": "stderr",
     "output_type": "stream",
     "text": [
      "WARNING:root:[CacheManager(cachedir='/tmp/librosa/joblib')]: Flushing completely the cache\n"
     ]
    },
    {
     "name": "stdout",
     "output_type": "stream",
     "text": [
      "\n",
      "Processing SMC_277.wav"
     ]
    },
    {
     "name": "stderr",
     "output_type": "stream",
     "text": [
      "WARNING:root:[CacheManager(cachedir='/tmp/librosa/joblib')]: Flushing completely the cache\n"
     ]
    },
    {
     "name": "stdout",
     "output_type": "stream",
     "text": [
      "\n",
      "Processing SMC_278.wav"
     ]
    },
    {
     "name": "stderr",
     "output_type": "stream",
     "text": [
      "WARNING:root:[CacheManager(cachedir='/tmp/librosa/joblib')]: Flushing completely the cache\n"
     ]
    },
    {
     "name": "stdout",
     "output_type": "stream",
     "text": [
      "\n",
      "Processing SMC_279.wav"
     ]
    },
    {
     "name": "stderr",
     "output_type": "stream",
     "text": [
      "WARNING:root:[CacheManager(cachedir='/tmp/librosa/joblib')]: Flushing completely the cache\n"
     ]
    },
    {
     "name": "stdout",
     "output_type": "stream",
     "text": [
      "\n",
      "Processing SMC_280.wav"
     ]
    },
    {
     "name": "stderr",
     "output_type": "stream",
     "text": [
      "WARNING:root:[CacheManager(cachedir='/tmp/librosa/joblib')]: Flushing completely the cache\n"
     ]
    },
    {
     "name": "stdout",
     "output_type": "stream",
     "text": [
      "\n",
      "Processing SMC_281.wav"
     ]
    },
    {
     "name": "stderr",
     "output_type": "stream",
     "text": [
      "WARNING:root:[CacheManager(cachedir='/tmp/librosa/joblib')]: Flushing completely the cache\n"
     ]
    },
    {
     "name": "stdout",
     "output_type": "stream",
     "text": [
      "\n",
      "Processing SMC_282.wav"
     ]
    },
    {
     "name": "stderr",
     "output_type": "stream",
     "text": [
      "WARNING:root:[CacheManager(cachedir='/tmp/librosa/joblib')]: Flushing completely the cache\n"
     ]
    },
    {
     "name": "stdout",
     "output_type": "stream",
     "text": [
      "\n",
      "Processing SMC_283.wav"
     ]
    },
    {
     "name": "stderr",
     "output_type": "stream",
     "text": [
      "WARNING:root:[CacheManager(cachedir='/tmp/librosa/joblib')]: Flushing completely the cache\n"
     ]
    },
    {
     "name": "stdout",
     "output_type": "stream",
     "text": [
      "\n",
      "Processing SMC_284.wav"
     ]
    },
    {
     "name": "stderr",
     "output_type": "stream",
     "text": [
      "WARNING:root:[CacheManager(cachedir='/tmp/librosa/joblib')]: Flushing completely the cache\n"
     ]
    },
    {
     "name": "stdout",
     "output_type": "stream",
     "text": [
      "\n",
      "Processing SMC_285.wav"
     ]
    },
    {
     "name": "stderr",
     "output_type": "stream",
     "text": [
      "WARNING:root:[CacheManager(cachedir='/tmp/librosa/joblib')]: Flushing completely the cache\n"
     ]
    },
    {
     "name": "stdout",
     "output_type": "stream",
     "text": [
      "\n",
      "Processing SMC_286.wav"
     ]
    },
    {
     "name": "stderr",
     "output_type": "stream",
     "text": [
      "WARNING:root:[CacheManager(cachedir='/tmp/librosa/joblib')]: Flushing completely the cache\n"
     ]
    },
    {
     "name": "stdout",
     "output_type": "stream",
     "text": [
      "\n",
      "Processing SMC_287.wav"
     ]
    },
    {
     "name": "stderr",
     "output_type": "stream",
     "text": [
      "WARNING:root:[CacheManager(cachedir='/tmp/librosa/joblib')]: Flushing completely the cache\n"
     ]
    },
    {
     "name": "stdout",
     "output_type": "stream",
     "text": [
      "\n",
      "Processing SMC_288.wav"
     ]
    },
    {
     "name": "stderr",
     "output_type": "stream",
     "text": [
      "WARNING:root:[CacheManager(cachedir='/tmp/librosa/joblib')]: Flushing completely the cache\n"
     ]
    },
    {
     "name": "stdout",
     "output_type": "stream",
     "text": [
      "\n",
      "Processing SMC_289.wav"
     ]
    },
    {
     "name": "stderr",
     "output_type": "stream",
     "text": [
      "WARNING:root:[CacheManager(cachedir='/tmp/librosa/joblib')]: Flushing completely the cache\n"
     ]
    },
    {
     "name": "stdout",
     "output_type": "stream",
     "text": [
      "\n"
     ]
    }
   ],
   "source": [
    "smc_results = analyze_corpus(smc_data)"
   ]
  },
  {
   "cell_type": "code",
   "execution_count": 15,
   "metadata": {
    "collapsed": false
   },
   "outputs": [],
   "source": [
    "#smc_results.to_json('/home/bmcfee/git/librosa_parameters/smc_beat_results.json', orient='records')"
   ]
  },
  {
   "cell_type": "code",
   "execution_count": 19,
   "metadata": {
    "collapsed": true
   },
   "outputs": [],
   "source": [
    "smc_results = pd.read_json('/home/bmcfee/git/librosa_parameters/smc_beat_results.json', orient='records')"
   ]
  },
  {
   "cell_type": "code",
   "execution_count": 20,
   "metadata": {
    "collapsed": false
   },
   "outputs": [],
   "source": [
    "smc_scores = smc_results.groupby(['aggregate', 'fmax', 'n_mels', 'ac_size', 'std_bpm', 'tightness']).mean()"
   ]
  },
  {
   "cell_type": "code",
   "execution_count": 21,
   "metadata": {
    "collapsed": false
   },
   "outputs": [],
   "source": [
    "best_igain = smc_scores['Information gain'].argmax()"
   ]
  },
  {
   "cell_type": "code",
   "execution_count": 22,
   "metadata": {
    "collapsed": false
   },
   "outputs": [],
   "source": [
    "best_fmeas = smc_scores['F-measure'].argmax()"
   ]
  },
  {
   "cell_type": "code",
   "execution_count": 23,
   "metadata": {
    "collapsed": false
   },
   "outputs": [],
   "source": [
    "best_amlt = smc_scores['Any Metric Level Total'].argmax()"
   ]
  },
  {
   "cell_type": "code",
   "execution_count": 29,
   "metadata": {
    "collapsed": false
   },
   "outputs": [
    {
     "data": {
      "text/html": [
       "<div style=\"max-height:1000px;max-width:1500px;overflow:auto;\">\n",
       "<table border=\"1\" class=\"dataframe\">\n",
       "  <thead>\n",
       "    <tr style=\"text-align: right;\">\n",
       "      <th></th>\n",
       "      <th></th>\n",
       "      <th></th>\n",
       "      <th></th>\n",
       "      <th></th>\n",
       "      <th></th>\n",
       "      <th>Any Metric Level Continuous</th>\n",
       "      <th>Any Metric Level Total</th>\n",
       "      <th>Cemgil</th>\n",
       "      <th>Cemgil Best Metric Level</th>\n",
       "      <th>Correct Metric Level Continuous</th>\n",
       "      <th>Correct Metric Level Total</th>\n",
       "      <th>F-measure</th>\n",
       "      <th>Goto</th>\n",
       "      <th>Information gain</th>\n",
       "      <th>P-score</th>\n",
       "      <th>index</th>\n",
       "    </tr>\n",
       "    <tr>\n",
       "      <th>aggregate</th>\n",
       "      <th>fmax</th>\n",
       "      <th>n_mels</th>\n",
       "      <th>ac_size</th>\n",
       "      <th>std_bpm</th>\n",
       "      <th>tightness</th>\n",
       "      <th></th>\n",
       "      <th></th>\n",
       "      <th></th>\n",
       "      <th></th>\n",
       "      <th></th>\n",
       "      <th></th>\n",
       "      <th></th>\n",
       "      <th></th>\n",
       "      <th></th>\n",
       "      <th></th>\n",
       "      <th></th>\n",
       "    </tr>\n",
       "  </thead>\n",
       "  <tbody>\n",
       "    <tr>\n",
       "      <th>median</th>\n",
       "      <th>8000</th>\n",
       "      <th>128</th>\n",
       "      <th>8</th>\n",
       "      <th>2</th>\n",
       "      <th>100</th>\n",
       "      <td>0.172</td>\n",
       "      <td>0.314</td>\n",
       "      <td>0.237</td>\n",
       "      <td>0.305</td>\n",
       "      <td>0.105</td>\n",
       "      <td>0.172</td>\n",
       "      <td>0.353</td>\n",
       "      <td>0.078</td>\n",
       "      <td>0.176</td>\n",
       "      <td>0.479</td>\n",
       "      <td>108</td>\n",
       "    </tr>\n",
       "    <tr>\n",
       "      <th>mean</th>\n",
       "      <th>8000</th>\n",
       "      <th>128</th>\n",
       "      <th>2</th>\n",
       "      <th>1</th>\n",
       "      <th>10</th>\n",
       "      <td>0.079</td>\n",
       "      <td>0.261</td>\n",
       "      <td>0.251</td>\n",
       "      <td>0.322</td>\n",
       "      <td>0.034</td>\n",
       "      <td>0.092</td>\n",
       "      <td>0.368</td>\n",
       "      <td>0.009</td>\n",
       "      <td>0.142</td>\n",
       "      <td>0.458</td>\n",
       "      <td>108</td>\n",
       "    </tr>\n",
       "    <tr>\n",
       "      <th>median</th>\n",
       "      <th>8000</th>\n",
       "      <th>128</th>\n",
       "      <th>8</th>\n",
       "      <th>1</th>\n",
       "      <th>50</th>\n",
       "      <td>0.154</td>\n",
       "      <td>0.334</td>\n",
       "      <td>0.243</td>\n",
       "      <td>0.303</td>\n",
       "      <td>0.097</td>\n",
       "      <td>0.173</td>\n",
       "      <td>0.361</td>\n",
       "      <td>0.078</td>\n",
       "      <td>0.174</td>\n",
       "      <td>0.493</td>\n",
       "      <td>108</td>\n",
       "    </tr>\n",
       "  </tbody>\n",
       "</table>\n",
       "</div>"
      ],
      "text/plain": [
       "                                                 Any Metric Level Continuous  \\\n",
       "aggregate fmax n_mels ac_size std_bpm tightness                                \n",
       "median    8000 128    8       2       100                              0.172   \n",
       "mean      8000 128    2       1       10                               0.079   \n",
       "median    8000 128    8       1       50                               0.154   \n",
       "\n",
       "                                                 Any Metric Level Total  \\\n",
       "aggregate fmax n_mels ac_size std_bpm tightness                           \n",
       "median    8000 128    8       2       100                         0.314   \n",
       "mean      8000 128    2       1       10                          0.261   \n",
       "median    8000 128    8       1       50                          0.334   \n",
       "\n",
       "                                                 Cemgil  \\\n",
       "aggregate fmax n_mels ac_size std_bpm tightness           \n",
       "median    8000 128    8       2       100         0.237   \n",
       "mean      8000 128    2       1       10          0.251   \n",
       "median    8000 128    8       1       50          0.243   \n",
       "\n",
       "                                                 Cemgil Best Metric Level  \\\n",
       "aggregate fmax n_mels ac_size std_bpm tightness                             \n",
       "median    8000 128    8       2       100                           0.305   \n",
       "mean      8000 128    2       1       10                            0.322   \n",
       "median    8000 128    8       1       50                            0.303   \n",
       "\n",
       "                                                 Correct Metric Level Continuous  \\\n",
       "aggregate fmax n_mels ac_size std_bpm tightness                                    \n",
       "median    8000 128    8       2       100                                  0.105   \n",
       "mean      8000 128    2       1       10                                   0.034   \n",
       "median    8000 128    8       1       50                                   0.097   \n",
       "\n",
       "                                                 Correct Metric Level Total  \\\n",
       "aggregate fmax n_mels ac_size std_bpm tightness                               \n",
       "median    8000 128    8       2       100                             0.172   \n",
       "mean      8000 128    2       1       10                              0.092   \n",
       "median    8000 128    8       1       50                              0.173   \n",
       "\n",
       "                                                 F-measure   Goto  \\\n",
       "aggregate fmax n_mels ac_size std_bpm tightness                     \n",
       "median    8000 128    8       2       100            0.353  0.078   \n",
       "mean      8000 128    2       1       10             0.368  0.009   \n",
       "median    8000 128    8       1       50             0.361  0.078   \n",
       "\n",
       "                                                 Information gain  P-score  \\\n",
       "aggregate fmax n_mels ac_size std_bpm tightness                              \n",
       "median    8000 128    8       2       100                   0.176    0.479   \n",
       "mean      8000 128    2       1       10                    0.142    0.458   \n",
       "median    8000 128    8       1       50                    0.174    0.493   \n",
       "\n",
       "                                                 index  \n",
       "aggregate fmax n_mels ac_size std_bpm tightness         \n",
       "median    8000 128    8       2       100          108  \n",
       "mean      8000 128    2       1       10           108  \n",
       "median    8000 128    8       1       50           108  "
      ]
     },
     "execution_count": 29,
     "metadata": {},
     "output_type": "execute_result"
    }
   ],
   "source": [
    "smc_scores.loc[[best_igain, best_fmeas, best_amlt]]"
   ]
  },
  {
   "cell_type": "code",
   "execution_count": 30,
   "metadata": {
    "collapsed": false
   },
   "outputs": [
    {
     "data": {
      "text/plain": [
       "Any Metric Level Continuous          0.172\n",
       "Any Metric Level Total               0.314\n",
       "Cemgil                               0.237\n",
       "Cemgil Best Metric Level             0.305\n",
       "Correct Metric Level Continuous      0.105\n",
       "Correct Metric Level Total           0.172\n",
       "F-measure                            0.353\n",
       "Goto                                 0.078\n",
       "Information gain                     0.176\n",
       "P-score                              0.479\n",
       "index                              108.000\n",
       "Name: (median, 8000.0, 128, 8, 2.0, 100), dtype: float64"
      ]
     },
     "execution_count": 30,
     "metadata": {},
     "output_type": "execute_result"
    }
   ],
   "source": [
    "smc_scores.loc[best_igain]"
   ]
  },
  {
   "cell_type": "code",
   "execution_count": 31,
   "metadata": {
    "collapsed": false
   },
   "outputs": [
    {
     "data": {
      "text/plain": [
       "Any Metric Level Continuous          0.079\n",
       "Any Metric Level Total               0.261\n",
       "Cemgil                               0.251\n",
       "Cemgil Best Metric Level             0.322\n",
       "Correct Metric Level Continuous      0.034\n",
       "Correct Metric Level Total           0.092\n",
       "F-measure                            0.368\n",
       "Goto                                 0.009\n",
       "Information gain                     0.142\n",
       "P-score                              0.458\n",
       "index                              108.000\n",
       "Name: (mean, 8000.0, 128, 2, 1.0, 10), dtype: float64"
      ]
     },
     "execution_count": 31,
     "metadata": {},
     "output_type": "execute_result"
    }
   ],
   "source": [
    "smc_scores.loc[best_fmeas]"
   ]
  },
  {
   "cell_type": "code",
   "execution_count": 32,
   "metadata": {
    "collapsed": false
   },
   "outputs": [
    {
     "data": {
      "text/plain": [
       "Any Metric Level Continuous          0.154\n",
       "Any Metric Level Total               0.334\n",
       "Cemgil                               0.243\n",
       "Cemgil Best Metric Level             0.303\n",
       "Correct Metric Level Continuous      0.097\n",
       "Correct Metric Level Total           0.173\n",
       "F-measure                            0.361\n",
       "Goto                                 0.078\n",
       "Information gain                     0.174\n",
       "P-score                              0.493\n",
       "index                              108.000\n",
       "Name: (median, 8000.0, 128, 8, 1.0, 50), dtype: float64"
      ]
     },
     "execution_count": 32,
     "metadata": {},
     "output_type": "execute_result"
    }
   ],
   "source": [
    "smc_scores.loc[best_amlt]"
   ]
  },
  {
   "cell_type": "markdown",
   "metadata": {},
   "source": [
    "---"
   ]
  },
  {
   "cell_type": "code",
   "execution_count": 12,
   "metadata": {
    "collapsed": false
   },
   "outputs": [],
   "source": [
    "beatles_data = make_beatles_corpus('/home/bmcfee/data/beatles_iso/')"
   ]
  },
  {
   "cell_type": "code",
   "execution_count": 13,
   "metadata": {
    "collapsed": true
   },
   "outputs": [
    {
     "name": "stderr",
     "output_type": "stream",
     "text": [
      "[Parallel(n_jobs=3)]: Done   1 out of  21 | elapsed:    0.0s remaining:    0.5s\n",
      "[Parallel(n_jobs=3)]: Done   5 out of  31 | elapsed:    0.0s remaining:    0.2s\n",
      "[Parallel(n_jobs=3)]: Done   3 out of  33 | elapsed:    0.0s remaining:    0.5s\n",
      "[Parallel(n_jobs=3)]: Done   8 out of  38 | elapsed:    0.1s remaining:    0.2s\n",
      "[Parallel(n_jobs=3)]: Done   7 out of  40 | elapsed:    0.1s remaining:    0.3s\n",
      "[Parallel(n_jobs=3)]: Done  17 out of  71 | elapsed:    0.1s remaining:    0.4s\n",
      "[Parallel(n_jobs=3)]: Done  26 out of 128 | elapsed:    0.2s remaining:    0.6s\n",
      "[Parallel(n_jobs=3)]: Done  33 out of 159 | elapsed:    0.2s remaining:    0.7s\n",
      "[Parallel(n_jobs=3)]: Done  37 out of 179 | elapsed:    0.2s remaining:    0.8s\n",
      "[Parallel(n_jobs=3)]: Done  55 out of 179 | elapsed: 14.0min remaining: 31.5min\n",
      "[Parallel(n_jobs=3)]: Done  73 out of 179 | elapsed: 29.2min remaining: 42.4min\n",
      "[Parallel(n_jobs=3)]: Done  91 out of 179 | elapsed: 44.9min remaining: 43.4min\n",
      "[Parallel(n_jobs=3)]: Done 109 out of 179 | elapsed: 62.1min remaining: 39.9min\n",
      "[Parallel(n_jobs=3)]: Done 127 out of 179 | elapsed: 91.0min remaining: 37.3min\n",
      "[Parallel(n_jobs=3)]: Done 145 out of 179 | elapsed: 111.6min remaining: 26.2min\n",
      "[Parallel(n_jobs=3)]: Done 163 out of 179 | elapsed: 137.8min remaining: 13.5min\n",
      "[Parallel(n_jobs=3)]: Done 179 out of 179 | elapsed: 157.0min finished\n",
      "Skipping line 286: expected 2 fields, saw 3\n",
      "\n"
     ]
    },
    {
     "name": "stdout",
     "output_type": "stream",
     "text": [
      "Cached 01_-_I_Saw_Her_Standing_There.flac\n",
      "Cached 02_-_Misery.flac\n",
      "Cached 03_-_Anna_(Go_To_Him).flac\n",
      "Cached 04_-_Chains.flac\n",
      "Cached 06_-_Ask_Me_Why.flac\n",
      "Cached 08_-_Love_Me_Do.flac\n",
      "Cached 05_-_Boys.flac\n",
      "Cached 09_-_P._S._I_Love_You.flac\n",
      "Cached 10_-_Baby_It's_You.flac\n",
      "Cached 07_-_Please_Please_Me.flac\n",
      "Cached 12_-_A_Taste_Of_Honey.flac\n",
      "Cached 13_-_There's_A_Place.flac\n",
      "Cached 11_-_Do_You_Want_To_Know_A_Secret.flac\n",
      "Cached 14_-_Twist_And_Shout.flac\n",
      "Cached 01_-_It_Won't_Be_Long.flac\n",
      "Cached 02_-_All_I've_Got_To_Do.flac\n",
      "Cached 03_-_All_My_Loving.flac\n",
      "Cached 04_-_Don't_Bother_Me.flac\n",
      "Cached 05_-_Little_Child.flac\n",
      "Cached 06_-_Till_There_Was_You.flac\n",
      "Cached 07_-_Please_Mister_Postman.flac\n",
      "Cached 08_-_Roll_Over_Beethoven.flac\n",
      "Cached 09_-_Hold_Me_Tight.flac\n",
      "Cached 10_-_You_Really_Got_A_Hold_On_Me.flac\n",
      "Cached 11_-_I_Wanna_Be_Your_Man.flac\n",
      "Cached 12_-_Devil_In_Her_Heart.flac\n",
      "Cached 14_-_Money.flac\n",
      "Cached 13_-_Not_A_Second_Time.flac\n",
      "Cached 01_-_A_Hard_Day's_Night.flac\n",
      "Cached 03_-_If_I_Fell.flac\n",
      "Cached 02_-_I_Should_Have_Known_Better.flac\n",
      "Cached 05_-_And_I_Love_Her.flac\n",
      "Cached 06_-_Tell_Me_Why.flac\n",
      "Cached 04_-_I'm_Happy_Just_To_Dance_With_You.flac\n",
      "Cached 08_-_Any_Time_At_All.flac\n",
      "Cached 09_-_I'll_Cry_Instead.flac\n",
      "Cached 07_-_Can't_Buy_Me_Love.flac\n",
      "Cached 11_-_When_I_Get_Home.flac\n",
      "Processing 13_-_I'll_Be_Back.flac\n",
      "Cached 10_-_Things_We_Said_Today.flac\n",
      "Processing 02_-_I'm_a_Loser.flac\n",
      "Processing 04_-_Rock_and_Roll_Music.flacCached 12_-_You_Can't_Do_That.flac\n",
      "Processing 05_-_I'll_Follow_the_Sun.flac\n",
      "Processing 01_-_No_Reply.flac\n",
      "\n",
      "Processing 08_-_Eight_Days_a_Week.flacProcessing 03_-_Baby's_In_Black.flacProcessing 07_-_Kansas_City-_Hey,_Hey,_Hey,_Hey.flac\n",
      "\n",
      "\n",
      "Processing 11_-_Every_Little_Thing.flacProcessing 06_-_Mr._Moonlight.flacProcessing 10_-_Honey_Don't.flac\n",
      "\n",
      "\n",
      "Processing 13_-_What_You're_Doing.flacProcessing 09_-_Words_of_Love.flacProcessing 14_-_Everybody's_Trying_to_Be_My_Baby.flac\n",
      "\n",
      "\n",
      "Processing 02_-_The_Night_Before.flacProcessing 12_-_I_Don't_Want_to_Spoil_the_Party.flacProcessing 03_-_You've_Got_To_Hide_Your_Love_Away.flac\n",
      "\n",
      "\n",
      "Processing 05_-_Another_Girl.flacProcessing 01_-_Help!.flacProcessing 06_-_You're_Going_To_Lose_That_Girl.flac\n",
      "\n",
      "\n",
      "Processing 08_-_Act_Naturally.flacProcessing 04_-_I_Need_You.flacProcessing 09_-_It's_Only_Love.flac\n",
      "\n",
      "\n",
      "Processing 11_-_Tell_Me_What_You_See.flacProcessing 07_-_Ticket_To_Ride.flacProcessing 10_-_You_Like_Me_Too_Much.flac\n",
      "\n",
      "\n",
      "Processing 01_-_Drive_My_Car.flacProcessing 12_-_I've_Just_Seen_a_Face.flacProcessing 13_-_Yesterday.flac\n",
      "\n",
      "\n",
      "Processing 03_-_You_Won't_See_Me.flacProcessing 14_-_Dizzy_Miss_Lizzy.flacProcessing 02_-_Norwegian_Wood_(This_Bird_Has_Flown).flac\n",
      "\n",
      "\n",
      "Processing 08_-_What_Goes_On.flacProcessing 05_-_Think_For_Yourself.flacProcessing 04_-_Nowhere_Man.flac\n",
      "\n",
      "\n",
      "Processing 11_-_In_My_Life.flacProcessing 07_-_Michelle.flacProcessing 06_-_The_Word.flac\n",
      "\n",
      "\n",
      "Processing 01_-_Taxman.flacProcessing 10_-_I'm_Looking_Through_You.flacProcessing 09_-_Girl.flac\n",
      "\n",
      "\n",
      "Processing 04_-_Love_You_To.flacProcessing 13_-_If_I_Needed_Someone.flacProcessing 12_-_Wait.flac\n",
      "\n",
      "\n",
      "Processing 08_-_Good_Day_Sunshine.flacProcessing 02_-_Eleanor_Rigby.flacProcessing 14_-_Run_For_Your_Life.flac\n",
      "\n",
      "\n",
      "Processing 11_-_Doctor_Robert.flacProcessing 05_-_Here,_There_And_Everywhere.flacProcessing 03_-_I'm_Only_Sleeping.flac\n",
      "\n",
      "\n",
      "Processing 14_-_Tomorrow_Never_Knows.flacProcessing 06_-_Yellow_Submarine.flacProcessing 07_-_She_Said_She_Said.flac\n",
      "\n",
      "\n",
      "Processing 04_-_Getting_Better.flacProcessing 09_-_And_Your_Bird_Can_Sing.flacProcessing 10_-_For_No_One.flac\n",
      "\n",
      "\n",
      "Processing 06_-_She's_Leaving_Home.flacProcessing 12_-_I_Want_To_Tell_You.flacProcessing 13_-_Got_To_Get_You_Into_My_Life.flac\n",
      "\n",
      "\n",
      "Processing 10_-_Lovely_Rita.flacProcessing 01_-_Sgt._Pepper's_Lonely_Hearts_Club_Band.flacProcessing 02_-_With_A_Little_Help_From_My_Friends.flac\n",
      "\n",
      "\n",
      "Processing 12_-_Sgt._Pepper's_Lonely_Hearts_Club_Band_(Reprise).flacProcessing 03_-_Lucy_In_The_Sky_With_Diamonds.flacProcessing 05_-_Fixing_A_Hole.flac\n",
      "\n",
      "\n",
      "Processing 13_-_A_Day_In_The_Life.flacProcessing 08_-_Within_You_Without_You.flacProcessing 07_-_Being_For_The_Benefit_Of_Mr._Kite!.flac\n",
      "\n",
      "\n",
      "Processing 07_-_Hello_Goodbye.flacProcessing 02_-_The_Fool_On_The_Hill.flacProcessing 09_-_When_I'm_Sixty-Four.flac\n",
      "\n",
      "\n",
      "Processing 09_-_Penny_Lane.flacProcessing 04_-_Blue_Jay_Way.flacProcessing 11_-_Good_Morning_Good_Morning.flac\n",
      "\n",
      "\n",
      "Processing CD1_-_01_-_Back_in_the_USSR.flacProcessing 08_-_Strawberry_Fields_Forever.flacProcessing 01_-_Magical_Mystery_Tour.flac\n",
      "\n",
      "\n",
      "Processing CD1_-_03_-_Glass_Onion.flacProcessing 11_-_All_You_Need_Is_Love.flacProcessing 03_-_Flying.flac\n",
      "\n",
      "\n",
      "Processing CD1_-_05_-_Wild_Honey_Pie.flacProcessing CD1_-_04_-_Ob-La-Di,_Ob-La-Da.flacProcessing 05_-_Your_Mother_Should_Know.flac\n",
      "\n",
      "\n",
      "Processing CD1_-_06_-_The_Continuing_Story_of_Bungalow_Bill.flacProcessing CD1_-_08_-_Happiness_is_a_Warm_Gun.flacProcessing 06_-_I_Am_The_Walrus.flac\n",
      "\n",
      "\n",
      "Processing CD1_-_09_-_Martha_My_Dear.flacProcessing CD1_-_10_-_I'm_So_Tired.flacProcessing 10_-_Baby_You're_A_Rich_Man.flac\n",
      "\n",
      "\n",
      "Processing CD1_-_12_-_Piggies.flacProcessing CD1_-_11_-_Black_Bird.flacProcessing CD1_-_02_-_Dear_Prudence.flac\n",
      "\n",
      "\n",
      "Processing CD1_-_13_-_Rocky_Raccoon.flacProcessing CD1_-_15_-_Why_Don't_We_Do_It_In_The_Road.flacProcessing CD1_-_07_-_While_My_Guitar_Gently_Weeps.flac\n",
      "\n",
      "\n",
      "Processing CD2_-_01_-_Birthday.flacProcessing CD1_-_16_-_I_Will.flacProcessing CD1_-_14_-_Don't_Pass_Me_By.flac\n",
      "\n",
      "\n",
      "Processing CD2_-_04_-_Everybody's_Got_Something_To_Hide_Except_Me_and_My_Monkey.flacProcessing CD1_-_17_-_Julia.flacProcessing CD2_-_02_-_Yer_Blues.flac\n",
      "\n",
      "\n",
      "Processing CD2_-_06_-_Helter_Skelter.flacProcessing CD2_-_03_-_Mother_Nature's_Son.flacProcessing CD2_-_07_-_Long_Long_Long.flac\n",
      "\n",
      "\n",
      "Processing CD2_-_10_-_Savoy_Truffle.flacProcessing CD2_-_05_-_Sexy_Sadie.flacProcessing CD2_-_09_-_Honey_Pie.flac\n",
      "\n",
      "\n",
      "Processing 01_-_Come_Together.flacProcessing CD2_-_08_-_Revolution_1.flacProcessing CD2_-_11_-_Cry_Baby_Cry.flac\n",
      "\n",
      "\n",
      "Processing 05_-_Octopus's_Garden.flacProcessing CD2_-_13_-_Good_Night.flacProcessing 02_-_Something.flac\n",
      "\n",
      "\n",
      "Processing 08_-_Because.flacProcessing 03_-_Maxwell's_Silver_Hammer.flacProcessing 04_-_Oh!_Darling.flac\n",
      "\n",
      "\n",
      "Processing 09_-_You_Never_Give_Me_Your_Money.flacProcessing 06_-_I_Want_You.flacProcessing 07_-_Here_Comes_The_Sun.flac\n",
      "\n",
      "\n",
      "Processing 14_-_Golden_Slumbers.flacProcessing 04_-_I_Me_Mine.flacProcessing 10_-_Sun_King.flac\n",
      "\n",
      "\n",
      "Processing 16_-_The_End.flacProcessing 07_-_Maggie_Mae.flacProcessing 11_-_Mean_Mr_Mustard.flac\n",
      "\n",
      "\n",
      "Processing 02_-_Dig_a_Pony.flacProcessing 08_-_I've_Got_A_Feeling.flacProcessing 12_-_Polythene_Pam.flac\n",
      "\n",
      "\n",
      "Processing 05_-_Dig_It.flacProcessing 11_-_For_You_Blue.flacProcessing 13_-_She_Came_In_Through_The_Bathroom_Window.flac\n",
      "\n",
      "\n",
      "Processing 06_-_Let_It_Be.flac\n",
      "Processing 15_-_Carry_That_Weight.flacProcessing 10_-_The_Long_and_Winding_Road.flac\n",
      "\n",
      "Processing 17_-_Her_Majesty.flac\n",
      "Processing 01_-_Two_of_Us.flac\n",
      "Processing 03_-_Across_the_Universe.flac\n",
      "Processing 09_-_One_After_909.flac\n",
      "Processing 12_-_Get_Back.flac\n"
     ]
    }
   ],
   "source": [
    "beatles_results = p_analyze_corpus(beatles_data)"
   ]
  },
  {
   "cell_type": "code",
   "execution_count": 14,
   "metadata": {
    "collapsed": true
   },
   "outputs": [],
   "source": [
    "beatles_results.to_json('/home/bmcfee/git/librosa_parameters/beatles_beat_results.json', orient='records')"
   ]
  },
  {
   "cell_type": "code",
   "execution_count": 15,
   "metadata": {
    "collapsed": false
   },
   "outputs": [],
   "source": [
    "beatles_scores = beatles_results.groupby(['aggregate', 'fmax', 'n_mels', 'ac_size', 'std_bpm', 'tightness']).mean()"
   ]
  },
  {
   "cell_type": "code",
   "execution_count": 28,
   "metadata": {
    "collapsed": false,
    "scrolled": true
   },
   "outputs": [
    {
     "data": {
      "text/html": [
       "<div style=\"max-height:1000px;max-width:1500px;overflow:auto;\">\n",
       "<table border=\"1\" class=\"dataframe\">\n",
       "  <thead>\n",
       "    <tr style=\"text-align: right;\">\n",
       "      <th></th>\n",
       "      <th></th>\n",
       "      <th></th>\n",
       "      <th></th>\n",
       "      <th></th>\n",
       "      <th></th>\n",
       "      <th>Any Metric Level Continuous</th>\n",
       "      <th>Any Metric Level Total</th>\n",
       "      <th>Cemgil</th>\n",
       "      <th>Cemgil Best Metric Level</th>\n",
       "      <th>Correct Metric Level Continuous</th>\n",
       "      <th>Correct Metric Level Total</th>\n",
       "      <th>F-measure</th>\n",
       "      <th>Goto</th>\n",
       "      <th>Information gain</th>\n",
       "      <th>P-score</th>\n",
       "      <th>index</th>\n",
       "    </tr>\n",
       "    <tr>\n",
       "      <th>aggregate</th>\n",
       "      <th>fmax</th>\n",
       "      <th>n_mels</th>\n",
       "      <th>ac_size</th>\n",
       "      <th>std_bpm</th>\n",
       "      <th>tightness</th>\n",
       "      <th></th>\n",
       "      <th></th>\n",
       "      <th></th>\n",
       "      <th></th>\n",
       "      <th></th>\n",
       "      <th></th>\n",
       "      <th></th>\n",
       "      <th></th>\n",
       "      <th></th>\n",
       "      <th></th>\n",
       "      <th></th>\n",
       "    </tr>\n",
       "  </thead>\n",
       "  <tbody>\n",
       "    <tr>\n",
       "      <th rowspan=\"81\" valign=\"top\">mean</th>\n",
       "      <th rowspan=\"81\" valign=\"top\">8000</th>\n",
       "      <th rowspan=\"27\" valign=\"top\">32</th>\n",
       "      <th rowspan=\"9\" valign=\"top\">2</th>\n",
       "      <th rowspan=\"3\" valign=\"top\">0.5</th>\n",
       "      <th>50</th>\n",
       "      <td>0.309</td>\n",
       "      <td>0.653</td>\n",
       "      <td>0.420</td>\n",
       "      <td>0.451</td>\n",
       "      <td>0.280</td>\n",
       "      <td>0.567</td>\n",
       "      <td>0.635</td>\n",
       "      <td>0.385</td>\n",
       "      <td>0.371</td>\n",
       "      <td>0.716</td>\n",
       "      <td>89</td>\n",
       "    </tr>\n",
       "    <tr>\n",
       "      <th>100</th>\n",
       "      <td>0.390</td>\n",
       "      <td>0.665</td>\n",
       "      <td>0.425</td>\n",
       "      <td>0.456</td>\n",
       "      <td>0.358</td>\n",
       "      <td>0.580</td>\n",
       "      <td>0.645</td>\n",
       "      <td>0.425</td>\n",
       "      <td>0.394</td>\n",
       "      <td>0.725</td>\n",
       "      <td>89</td>\n",
       "    </tr>\n",
       "    <tr>\n",
       "      <th>500</th>\n",
       "      <td>0.462</td>\n",
       "      <td>0.659</td>\n",
       "      <td>0.423</td>\n",
       "      <td>0.455</td>\n",
       "      <td>0.429</td>\n",
       "      <td>0.577</td>\n",
       "      <td>0.640</td>\n",
       "      <td>0.458</td>\n",
       "      <td>0.388</td>\n",
       "      <td>0.719</td>\n",
       "      <td>89</td>\n",
       "    </tr>\n",
       "    <tr>\n",
       "      <th rowspan=\"3\" valign=\"top\">1.0</th>\n",
       "      <th>50</th>\n",
       "      <td>0.340</td>\n",
       "      <td>0.726</td>\n",
       "      <td>0.447</td>\n",
       "      <td>0.480</td>\n",
       "      <td>0.295</td>\n",
       "      <td>0.616</td>\n",
       "      <td>0.673</td>\n",
       "      <td>0.413</td>\n",
       "      <td>0.402</td>\n",
       "      <td>0.751</td>\n",
       "      <td>89</td>\n",
       "    </tr>\n",
       "    <tr>\n",
       "      <th>100</th>\n",
       "      <td>0.431</td>\n",
       "      <td>0.742</td>\n",
       "      <td>0.454</td>\n",
       "      <td>0.486</td>\n",
       "      <td>0.383</td>\n",
       "      <td>0.633</td>\n",
       "      <td>0.686</td>\n",
       "      <td>0.464</td>\n",
       "      <td>0.429</td>\n",
       "      <td>0.762</td>\n",
       "      <td>89</td>\n",
       "    </tr>\n",
       "    <tr>\n",
       "      <th>500</th>\n",
       "      <td>0.523</td>\n",
       "      <td>0.743</td>\n",
       "      <td>0.454</td>\n",
       "      <td>0.488</td>\n",
       "      <td>0.473</td>\n",
       "      <td>0.635</td>\n",
       "      <td>0.685</td>\n",
       "      <td>0.508</td>\n",
       "      <td>0.433</td>\n",
       "      <td>0.760</td>\n",
       "      <td>89</td>\n",
       "    </tr>\n",
       "    <tr>\n",
       "      <th rowspan=\"3\" valign=\"top\">2.0</th>\n",
       "      <th>50</th>\n",
       "      <td>0.336</td>\n",
       "      <td>0.721</td>\n",
       "      <td>0.443</td>\n",
       "      <td>0.476</td>\n",
       "      <td>0.287</td>\n",
       "      <td>0.602</td>\n",
       "      <td>0.667</td>\n",
       "      <td>0.397</td>\n",
       "      <td>0.402</td>\n",
       "      <td>0.746</td>\n",
       "      <td>89</td>\n",
       "    </tr>\n",
       "    <tr>\n",
       "      <th>100</th>\n",
       "      <td>0.422</td>\n",
       "      <td>0.736</td>\n",
       "      <td>0.449</td>\n",
       "      <td>0.481</td>\n",
       "      <td>0.369</td>\n",
       "      <td>0.617</td>\n",
       "      <td>0.680</td>\n",
       "      <td>0.453</td>\n",
       "      <td>0.429</td>\n",
       "      <td>0.757</td>\n",
       "      <td>89</td>\n",
       "    </tr>\n",
       "    <tr>\n",
       "      <th>500</th>\n",
       "      <td>0.524</td>\n",
       "      <td>0.740</td>\n",
       "      <td>0.453</td>\n",
       "      <td>0.485</td>\n",
       "      <td>0.462</td>\n",
       "      <td>0.622</td>\n",
       "      <td>0.683</td>\n",
       "      <td>0.492</td>\n",
       "      <td>0.439</td>\n",
       "      <td>0.758</td>\n",
       "      <td>89</td>\n",
       "    </tr>\n",
       "    <tr>\n",
       "      <th rowspan=\"9\" valign=\"top\">4</th>\n",
       "      <th rowspan=\"3\" valign=\"top\">0.5</th>\n",
       "      <th>50</th>\n",
       "      <td>0.309</td>\n",
       "      <td>0.653</td>\n",
       "      <td>0.420</td>\n",
       "      <td>0.451</td>\n",
       "      <td>0.280</td>\n",
       "      <td>0.567</td>\n",
       "      <td>0.635</td>\n",
       "      <td>0.385</td>\n",
       "      <td>0.371</td>\n",
       "      <td>0.716</td>\n",
       "      <td>89</td>\n",
       "    </tr>\n",
       "    <tr>\n",
       "      <th>100</th>\n",
       "      <td>0.390</td>\n",
       "      <td>0.665</td>\n",
       "      <td>0.425</td>\n",
       "      <td>0.456</td>\n",
       "      <td>0.358</td>\n",
       "      <td>0.580</td>\n",
       "      <td>0.645</td>\n",
       "      <td>0.425</td>\n",
       "      <td>0.394</td>\n",
       "      <td>0.725</td>\n",
       "      <td>89</td>\n",
       "    </tr>\n",
       "    <tr>\n",
       "      <th>500</th>\n",
       "      <td>0.462</td>\n",
       "      <td>0.659</td>\n",
       "      <td>0.423</td>\n",
       "      <td>0.455</td>\n",
       "      <td>0.429</td>\n",
       "      <td>0.577</td>\n",
       "      <td>0.640</td>\n",
       "      <td>0.458</td>\n",
       "      <td>0.388</td>\n",
       "      <td>0.719</td>\n",
       "      <td>89</td>\n",
       "    </tr>\n",
       "    <tr>\n",
       "      <th rowspan=\"3\" valign=\"top\">1.0</th>\n",
       "      <th>50</th>\n",
       "      <td>0.340</td>\n",
       "      <td>0.726</td>\n",
       "      <td>0.447</td>\n",
       "      <td>0.480</td>\n",
       "      <td>0.295</td>\n",
       "      <td>0.616</td>\n",
       "      <td>0.673</td>\n",
       "      <td>0.413</td>\n",
       "      <td>0.402</td>\n",
       "      <td>0.751</td>\n",
       "      <td>89</td>\n",
       "    </tr>\n",
       "    <tr>\n",
       "      <th>100</th>\n",
       "      <td>0.431</td>\n",
       "      <td>0.742</td>\n",
       "      <td>0.454</td>\n",
       "      <td>0.486</td>\n",
       "      <td>0.383</td>\n",
       "      <td>0.633</td>\n",
       "      <td>0.686</td>\n",
       "      <td>0.464</td>\n",
       "      <td>0.429</td>\n",
       "      <td>0.762</td>\n",
       "      <td>89</td>\n",
       "    </tr>\n",
       "    <tr>\n",
       "      <th>500</th>\n",
       "      <td>0.523</td>\n",
       "      <td>0.743</td>\n",
       "      <td>0.454</td>\n",
       "      <td>0.488</td>\n",
       "      <td>0.473</td>\n",
       "      <td>0.635</td>\n",
       "      <td>0.685</td>\n",
       "      <td>0.508</td>\n",
       "      <td>0.433</td>\n",
       "      <td>0.760</td>\n",
       "      <td>89</td>\n",
       "    </tr>\n",
       "    <tr>\n",
       "      <th rowspan=\"3\" valign=\"top\">2.0</th>\n",
       "      <th>50</th>\n",
       "      <td>0.336</td>\n",
       "      <td>0.721</td>\n",
       "      <td>0.443</td>\n",
       "      <td>0.476</td>\n",
       "      <td>0.287</td>\n",
       "      <td>0.602</td>\n",
       "      <td>0.667</td>\n",
       "      <td>0.397</td>\n",
       "      <td>0.402</td>\n",
       "      <td>0.746</td>\n",
       "      <td>89</td>\n",
       "    </tr>\n",
       "    <tr>\n",
       "      <th>100</th>\n",
       "      <td>0.422</td>\n",
       "      <td>0.736</td>\n",
       "      <td>0.449</td>\n",
       "      <td>0.481</td>\n",
       "      <td>0.369</td>\n",
       "      <td>0.617</td>\n",
       "      <td>0.680</td>\n",
       "      <td>0.453</td>\n",
       "      <td>0.429</td>\n",
       "      <td>0.757</td>\n",
       "      <td>89</td>\n",
       "    </tr>\n",
       "    <tr>\n",
       "      <th>500</th>\n",
       "      <td>0.524</td>\n",
       "      <td>0.740</td>\n",
       "      <td>0.453</td>\n",
       "      <td>0.485</td>\n",
       "      <td>0.462</td>\n",
       "      <td>0.622</td>\n",
       "      <td>0.683</td>\n",
       "      <td>0.492</td>\n",
       "      <td>0.439</td>\n",
       "      <td>0.758</td>\n",
       "      <td>89</td>\n",
       "    </tr>\n",
       "    <tr>\n",
       "      <th rowspan=\"9\" valign=\"top\">8</th>\n",
       "      <th rowspan=\"3\" valign=\"top\">0.5</th>\n",
       "      <th>50</th>\n",
       "      <td>0.309</td>\n",
       "      <td>0.653</td>\n",
       "      <td>0.420</td>\n",
       "      <td>0.451</td>\n",
       "      <td>0.280</td>\n",
       "      <td>0.567</td>\n",
       "      <td>0.635</td>\n",
       "      <td>0.385</td>\n",
       "      <td>0.371</td>\n",
       "      <td>0.716</td>\n",
       "      <td>89</td>\n",
       "    </tr>\n",
       "    <tr>\n",
       "      <th>100</th>\n",
       "      <td>0.390</td>\n",
       "      <td>0.665</td>\n",
       "      <td>0.425</td>\n",
       "      <td>0.456</td>\n",
       "      <td>0.358</td>\n",
       "      <td>0.580</td>\n",
       "      <td>0.645</td>\n",
       "      <td>0.425</td>\n",
       "      <td>0.394</td>\n",
       "      <td>0.725</td>\n",
       "      <td>89</td>\n",
       "    </tr>\n",
       "    <tr>\n",
       "      <th>500</th>\n",
       "      <td>0.462</td>\n",
       "      <td>0.659</td>\n",
       "      <td>0.423</td>\n",
       "      <td>0.455</td>\n",
       "      <td>0.429</td>\n",
       "      <td>0.577</td>\n",
       "      <td>0.640</td>\n",
       "      <td>0.458</td>\n",
       "      <td>0.388</td>\n",
       "      <td>0.719</td>\n",
       "      <td>89</td>\n",
       "    </tr>\n",
       "    <tr>\n",
       "      <th rowspan=\"3\" valign=\"top\">1.0</th>\n",
       "      <th>50</th>\n",
       "      <td>0.340</td>\n",
       "      <td>0.726</td>\n",
       "      <td>0.447</td>\n",
       "      <td>0.480</td>\n",
       "      <td>0.295</td>\n",
       "      <td>0.616</td>\n",
       "      <td>0.673</td>\n",
       "      <td>0.413</td>\n",
       "      <td>0.402</td>\n",
       "      <td>0.751</td>\n",
       "      <td>89</td>\n",
       "    </tr>\n",
       "    <tr>\n",
       "      <th>100</th>\n",
       "      <td>0.431</td>\n",
       "      <td>0.742</td>\n",
       "      <td>0.454</td>\n",
       "      <td>0.486</td>\n",
       "      <td>0.383</td>\n",
       "      <td>0.633</td>\n",
       "      <td>0.686</td>\n",
       "      <td>0.464</td>\n",
       "      <td>0.429</td>\n",
       "      <td>0.762</td>\n",
       "      <td>89</td>\n",
       "    </tr>\n",
       "    <tr>\n",
       "      <th>500</th>\n",
       "      <td>0.523</td>\n",
       "      <td>0.743</td>\n",
       "      <td>0.454</td>\n",
       "      <td>0.488</td>\n",
       "      <td>0.473</td>\n",
       "      <td>0.635</td>\n",
       "      <td>0.685</td>\n",
       "      <td>0.508</td>\n",
       "      <td>0.433</td>\n",
       "      <td>0.760</td>\n",
       "      <td>89</td>\n",
       "    </tr>\n",
       "    <tr>\n",
       "      <th rowspan=\"3\" valign=\"top\">2.0</th>\n",
       "      <th>50</th>\n",
       "      <td>0.336</td>\n",
       "      <td>0.721</td>\n",
       "      <td>0.443</td>\n",
       "      <td>0.476</td>\n",
       "      <td>0.287</td>\n",
       "      <td>0.602</td>\n",
       "      <td>0.667</td>\n",
       "      <td>0.397</td>\n",
       "      <td>0.402</td>\n",
       "      <td>0.746</td>\n",
       "      <td>89</td>\n",
       "    </tr>\n",
       "    <tr>\n",
       "      <th>100</th>\n",
       "      <td>0.422</td>\n",
       "      <td>0.736</td>\n",
       "      <td>0.449</td>\n",
       "      <td>0.481</td>\n",
       "      <td>0.369</td>\n",
       "      <td>0.617</td>\n",
       "      <td>0.680</td>\n",
       "      <td>0.453</td>\n",
       "      <td>0.429</td>\n",
       "      <td>0.757</td>\n",
       "      <td>89</td>\n",
       "    </tr>\n",
       "    <tr>\n",
       "      <th>500</th>\n",
       "      <td>0.524</td>\n",
       "      <td>0.740</td>\n",
       "      <td>0.453</td>\n",
       "      <td>0.485</td>\n",
       "      <td>0.462</td>\n",
       "      <td>0.622</td>\n",
       "      <td>0.683</td>\n",
       "      <td>0.492</td>\n",
       "      <td>0.439</td>\n",
       "      <td>0.758</td>\n",
       "      <td>89</td>\n",
       "    </tr>\n",
       "    <tr>\n",
       "      <th rowspan=\"27\" valign=\"top\">64</th>\n",
       "      <th rowspan=\"9\" valign=\"top\">2</th>\n",
       "      <th rowspan=\"3\" valign=\"top\">0.5</th>\n",
       "      <th>50</th>\n",
       "      <td>0.291</td>\n",
       "      <td>0.622</td>\n",
       "      <td>0.407</td>\n",
       "      <td>0.436</td>\n",
       "      <td>0.270</td>\n",
       "      <td>0.551</td>\n",
       "      <td>0.622</td>\n",
       "      <td>0.363</td>\n",
       "      <td>0.367</td>\n",
       "      <td>0.713</td>\n",
       "      <td>89</td>\n",
       "    </tr>\n",
       "    <tr>\n",
       "      <th>100</th>\n",
       "      <td>0.366</td>\n",
       "      <td>0.626</td>\n",
       "      <td>0.408</td>\n",
       "      <td>0.438</td>\n",
       "      <td>0.344</td>\n",
       "      <td>0.558</td>\n",
       "      <td>0.626</td>\n",
       "      <td>0.402</td>\n",
       "      <td>0.384</td>\n",
       "      <td>0.716</td>\n",
       "      <td>89</td>\n",
       "    </tr>\n",
       "    <tr>\n",
       "      <th>500</th>\n",
       "      <td>0.429</td>\n",
       "      <td>0.619</td>\n",
       "      <td>0.403</td>\n",
       "      <td>0.435</td>\n",
       "      <td>0.403</td>\n",
       "      <td>0.549</td>\n",
       "      <td>0.615</td>\n",
       "      <td>0.419</td>\n",
       "      <td>0.378</td>\n",
       "      <td>0.704</td>\n",
       "      <td>89</td>\n",
       "    </tr>\n",
       "    <tr>\n",
       "      <th rowspan=\"3\" valign=\"top\">1.0</th>\n",
       "      <th>50</th>\n",
       "      <td>0.340</td>\n",
       "      <td>0.728</td>\n",
       "      <td>0.443</td>\n",
       "      <td>0.473</td>\n",
       "      <td>0.294</td>\n",
       "      <td>0.619</td>\n",
       "      <td>0.674</td>\n",
       "      <td>0.397</td>\n",
       "      <td>0.412</td>\n",
       "      <td>0.758</td>\n",
       "      <td>89</td>\n",
       "    </tr>\n",
       "    <tr>\n",
       "      <th>100</th>\n",
       "      <td>0.435</td>\n",
       "      <td>0.740</td>\n",
       "      <td>0.449</td>\n",
       "      <td>0.478</td>\n",
       "      <td>0.384</td>\n",
       "      <td>0.633</td>\n",
       "      <td>0.686</td>\n",
       "      <td>0.469</td>\n",
       "      <td>0.434</td>\n",
       "      <td>0.767</td>\n",
       "      <td>89</td>\n",
       "    </tr>\n",
       "    <tr>\n",
       "      <th>500</th>\n",
       "      <td>0.520</td>\n",
       "      <td>0.741</td>\n",
       "      <td>0.448</td>\n",
       "      <td>0.478</td>\n",
       "      <td>0.469</td>\n",
       "      <td>0.635</td>\n",
       "      <td>0.683</td>\n",
       "      <td>0.492</td>\n",
       "      <td>0.436</td>\n",
       "      <td>0.765</td>\n",
       "      <td>89</td>\n",
       "    </tr>\n",
       "    <tr>\n",
       "      <th rowspan=\"3\" valign=\"top\">2.0</th>\n",
       "      <th>50</th>\n",
       "      <td>0.328</td>\n",
       "      <td>0.716</td>\n",
       "      <td>0.434</td>\n",
       "      <td>0.468</td>\n",
       "      <td>0.282</td>\n",
       "      <td>0.594</td>\n",
       "      <td>0.665</td>\n",
       "      <td>0.391</td>\n",
       "      <td>0.413</td>\n",
       "      <td>0.744</td>\n",
       "      <td>89</td>\n",
       "    </tr>\n",
       "    <tr>\n",
       "      <th>100</th>\n",
       "      <td>0.427</td>\n",
       "      <td>0.729</td>\n",
       "      <td>0.440</td>\n",
       "      <td>0.473</td>\n",
       "      <td>0.375</td>\n",
       "      <td>0.606</td>\n",
       "      <td>0.676</td>\n",
       "      <td>0.447</td>\n",
       "      <td>0.436</td>\n",
       "      <td>0.753</td>\n",
       "      <td>89</td>\n",
       "    </tr>\n",
       "    <tr>\n",
       "      <th>500</th>\n",
       "      <td>0.509</td>\n",
       "      <td>0.733</td>\n",
       "      <td>0.442</td>\n",
       "      <td>0.475</td>\n",
       "      <td>0.450</td>\n",
       "      <td>0.611</td>\n",
       "      <td>0.675</td>\n",
       "      <td>0.464</td>\n",
       "      <td>0.444</td>\n",
       "      <td>0.754</td>\n",
       "      <td>89</td>\n",
       "    </tr>\n",
       "    <tr>\n",
       "      <th rowspan=\"9\" valign=\"top\">4</th>\n",
       "      <th rowspan=\"3\" valign=\"top\">0.5</th>\n",
       "      <th>50</th>\n",
       "      <td>0.291</td>\n",
       "      <td>0.622</td>\n",
       "      <td>0.407</td>\n",
       "      <td>0.436</td>\n",
       "      <td>0.270</td>\n",
       "      <td>0.551</td>\n",
       "      <td>0.622</td>\n",
       "      <td>0.363</td>\n",
       "      <td>0.367</td>\n",
       "      <td>0.713</td>\n",
       "      <td>89</td>\n",
       "    </tr>\n",
       "    <tr>\n",
       "      <th>100</th>\n",
       "      <td>0.366</td>\n",
       "      <td>0.626</td>\n",
       "      <td>0.408</td>\n",
       "      <td>0.438</td>\n",
       "      <td>0.344</td>\n",
       "      <td>0.558</td>\n",
       "      <td>0.626</td>\n",
       "      <td>0.402</td>\n",
       "      <td>0.384</td>\n",
       "      <td>0.716</td>\n",
       "      <td>89</td>\n",
       "    </tr>\n",
       "    <tr>\n",
       "      <th>500</th>\n",
       "      <td>0.429</td>\n",
       "      <td>0.619</td>\n",
       "      <td>0.403</td>\n",
       "      <td>0.435</td>\n",
       "      <td>0.403</td>\n",
       "      <td>0.549</td>\n",
       "      <td>0.615</td>\n",
       "      <td>0.419</td>\n",
       "      <td>0.378</td>\n",
       "      <td>0.704</td>\n",
       "      <td>89</td>\n",
       "    </tr>\n",
       "    <tr>\n",
       "      <th rowspan=\"3\" valign=\"top\">1.0</th>\n",
       "      <th>50</th>\n",
       "      <td>0.340</td>\n",
       "      <td>0.728</td>\n",
       "      <td>0.443</td>\n",
       "      <td>0.473</td>\n",
       "      <td>0.294</td>\n",
       "      <td>0.619</td>\n",
       "      <td>0.674</td>\n",
       "      <td>0.397</td>\n",
       "      <td>0.412</td>\n",
       "      <td>0.758</td>\n",
       "      <td>89</td>\n",
       "    </tr>\n",
       "    <tr>\n",
       "      <th>100</th>\n",
       "      <td>0.435</td>\n",
       "      <td>0.740</td>\n",
       "      <td>0.449</td>\n",
       "      <td>0.478</td>\n",
       "      <td>0.384</td>\n",
       "      <td>0.633</td>\n",
       "      <td>0.686</td>\n",
       "      <td>0.469</td>\n",
       "      <td>0.434</td>\n",
       "      <td>0.767</td>\n",
       "      <td>89</td>\n",
       "    </tr>\n",
       "    <tr>\n",
       "      <th>500</th>\n",
       "      <td>0.520</td>\n",
       "      <td>0.741</td>\n",
       "      <td>0.448</td>\n",
       "      <td>0.478</td>\n",
       "      <td>0.469</td>\n",
       "      <td>0.635</td>\n",
       "      <td>0.683</td>\n",
       "      <td>0.492</td>\n",
       "      <td>0.436</td>\n",
       "      <td>0.765</td>\n",
       "      <td>89</td>\n",
       "    </tr>\n",
       "    <tr>\n",
       "      <th rowspan=\"3\" valign=\"top\">2.0</th>\n",
       "      <th>50</th>\n",
       "      <td>0.328</td>\n",
       "      <td>0.716</td>\n",
       "      <td>0.434</td>\n",
       "      <td>0.468</td>\n",
       "      <td>0.282</td>\n",
       "      <td>0.594</td>\n",
       "      <td>0.665</td>\n",
       "      <td>0.391</td>\n",
       "      <td>0.413</td>\n",
       "      <td>0.744</td>\n",
       "      <td>89</td>\n",
       "    </tr>\n",
       "    <tr>\n",
       "      <th>100</th>\n",
       "      <td>0.427</td>\n",
       "      <td>0.729</td>\n",
       "      <td>0.440</td>\n",
       "      <td>0.473</td>\n",
       "      <td>0.375</td>\n",
       "      <td>0.606</td>\n",
       "      <td>0.676</td>\n",
       "      <td>0.447</td>\n",
       "      <td>0.436</td>\n",
       "      <td>0.753</td>\n",
       "      <td>89</td>\n",
       "    </tr>\n",
       "    <tr>\n",
       "      <th>500</th>\n",
       "      <td>0.509</td>\n",
       "      <td>0.733</td>\n",
       "      <td>0.442</td>\n",
       "      <td>0.475</td>\n",
       "      <td>0.450</td>\n",
       "      <td>0.611</td>\n",
       "      <td>0.675</td>\n",
       "      <td>0.464</td>\n",
       "      <td>0.444</td>\n",
       "      <td>0.754</td>\n",
       "      <td>89</td>\n",
       "    </tr>\n",
       "    <tr>\n",
       "      <th rowspan=\"9\" valign=\"top\">8</th>\n",
       "      <th rowspan=\"3\" valign=\"top\">0.5</th>\n",
       "      <th>50</th>\n",
       "      <td>0.291</td>\n",
       "      <td>0.622</td>\n",
       "      <td>0.407</td>\n",
       "      <td>0.436</td>\n",
       "      <td>0.270</td>\n",
       "      <td>0.551</td>\n",
       "      <td>0.622</td>\n",
       "      <td>0.363</td>\n",
       "      <td>0.367</td>\n",
       "      <td>0.713</td>\n",
       "      <td>89</td>\n",
       "    </tr>\n",
       "    <tr>\n",
       "      <th>100</th>\n",
       "      <td>0.366</td>\n",
       "      <td>0.626</td>\n",
       "      <td>0.408</td>\n",
       "      <td>0.438</td>\n",
       "      <td>0.344</td>\n",
       "      <td>0.558</td>\n",
       "      <td>0.626</td>\n",
       "      <td>0.402</td>\n",
       "      <td>0.384</td>\n",
       "      <td>0.716</td>\n",
       "      <td>89</td>\n",
       "    </tr>\n",
       "    <tr>\n",
       "      <th>500</th>\n",
       "      <td>0.429</td>\n",
       "      <td>0.619</td>\n",
       "      <td>0.403</td>\n",
       "      <td>0.435</td>\n",
       "      <td>0.403</td>\n",
       "      <td>0.549</td>\n",
       "      <td>0.615</td>\n",
       "      <td>0.419</td>\n",
       "      <td>0.378</td>\n",
       "      <td>0.704</td>\n",
       "      <td>89</td>\n",
       "    </tr>\n",
       "    <tr>\n",
       "      <th rowspan=\"3\" valign=\"top\">1.0</th>\n",
       "      <th>50</th>\n",
       "      <td>0.340</td>\n",
       "      <td>0.728</td>\n",
       "      <td>0.443</td>\n",
       "      <td>0.473</td>\n",
       "      <td>0.294</td>\n",
       "      <td>0.619</td>\n",
       "      <td>0.674</td>\n",
       "      <td>0.397</td>\n",
       "      <td>0.412</td>\n",
       "      <td>0.758</td>\n",
       "      <td>89</td>\n",
       "    </tr>\n",
       "    <tr>\n",
       "      <th>100</th>\n",
       "      <td>0.435</td>\n",
       "      <td>0.740</td>\n",
       "      <td>0.449</td>\n",
       "      <td>0.478</td>\n",
       "      <td>0.384</td>\n",
       "      <td>0.633</td>\n",
       "      <td>0.686</td>\n",
       "      <td>0.469</td>\n",
       "      <td>0.434</td>\n",
       "      <td>0.767</td>\n",
       "      <td>89</td>\n",
       "    </tr>\n",
       "    <tr>\n",
       "      <th>500</th>\n",
       "      <td>0.520</td>\n",
       "      <td>0.741</td>\n",
       "      <td>0.448</td>\n",
       "      <td>0.478</td>\n",
       "      <td>0.469</td>\n",
       "      <td>0.635</td>\n",
       "      <td>0.683</td>\n",
       "      <td>0.492</td>\n",
       "      <td>0.436</td>\n",
       "      <td>0.765</td>\n",
       "      <td>89</td>\n",
       "    </tr>\n",
       "    <tr>\n",
       "      <th rowspan=\"3\" valign=\"top\">2.0</th>\n",
       "      <th>50</th>\n",
       "      <td>0.328</td>\n",
       "      <td>0.716</td>\n",
       "      <td>0.434</td>\n",
       "      <td>0.468</td>\n",
       "      <td>0.282</td>\n",
       "      <td>0.594</td>\n",
       "      <td>0.665</td>\n",
       "      <td>0.391</td>\n",
       "      <td>0.413</td>\n",
       "      <td>0.744</td>\n",
       "      <td>89</td>\n",
       "    </tr>\n",
       "    <tr>\n",
       "      <th>100</th>\n",
       "      <td>0.427</td>\n",
       "      <td>0.729</td>\n",
       "      <td>0.440</td>\n",
       "      <td>0.473</td>\n",
       "      <td>0.375</td>\n",
       "      <td>0.606</td>\n",
       "      <td>0.676</td>\n",
       "      <td>0.447</td>\n",
       "      <td>0.436</td>\n",
       "      <td>0.753</td>\n",
       "      <td>89</td>\n",
       "    </tr>\n",
       "    <tr>\n",
       "      <th>500</th>\n",
       "      <td>0.509</td>\n",
       "      <td>0.733</td>\n",
       "      <td>0.442</td>\n",
       "      <td>0.475</td>\n",
       "      <td>0.450</td>\n",
       "      <td>0.611</td>\n",
       "      <td>0.675</td>\n",
       "      <td>0.464</td>\n",
       "      <td>0.444</td>\n",
       "      <td>0.754</td>\n",
       "      <td>89</td>\n",
       "    </tr>\n",
       "    <tr>\n",
       "      <th rowspan=\"27\" valign=\"top\">128</th>\n",
       "      <th rowspan=\"9\" valign=\"top\">2</th>\n",
       "      <th rowspan=\"3\" valign=\"top\">0.5</th>\n",
       "      <th>50</th>\n",
       "      <td>0.289</td>\n",
       "      <td>0.607</td>\n",
       "      <td>0.397</td>\n",
       "      <td>0.424</td>\n",
       "      <td>0.274</td>\n",
       "      <td>0.547</td>\n",
       "      <td>0.613</td>\n",
       "      <td>0.358</td>\n",
       "      <td>0.366</td>\n",
       "      <td>0.713</td>\n",
       "      <td>89</td>\n",
       "    </tr>\n",
       "    <tr>\n",
       "      <th>100</th>\n",
       "      <td>0.357</td>\n",
       "      <td>0.613</td>\n",
       "      <td>0.398</td>\n",
       "      <td>0.427</td>\n",
       "      <td>0.338</td>\n",
       "      <td>0.552</td>\n",
       "      <td>0.617</td>\n",
       "      <td>0.402</td>\n",
       "      <td>0.382</td>\n",
       "      <td>0.714</td>\n",
       "      <td>89</td>\n",
       "    </tr>\n",
       "    <tr>\n",
       "      <th>500</th>\n",
       "      <td>0.412</td>\n",
       "      <td>0.597</td>\n",
       "      <td>0.390</td>\n",
       "      <td>0.420</td>\n",
       "      <td>0.389</td>\n",
       "      <td>0.537</td>\n",
       "      <td>0.598</td>\n",
       "      <td>0.391</td>\n",
       "      <td>0.366</td>\n",
       "      <td>0.697</td>\n",
       "      <td>89</td>\n",
       "    </tr>\n",
       "    <tr>\n",
       "      <th rowspan=\"3\" valign=\"top\">1.0</th>\n",
       "      <th>50</th>\n",
       "      <td>0.343</td>\n",
       "      <td>0.717</td>\n",
       "      <td>0.431</td>\n",
       "      <td>0.461</td>\n",
       "      <td>0.302</td>\n",
       "      <td>0.609</td>\n",
       "      <td>0.665</td>\n",
       "      <td>0.385</td>\n",
       "      <td>0.415</td>\n",
       "      <td>0.754</td>\n",
       "      <td>89</td>\n",
       "    </tr>\n",
       "    <tr>\n",
       "      <th>100</th>\n",
       "      <td>0.433</td>\n",
       "      <td>0.731</td>\n",
       "      <td>0.437</td>\n",
       "      <td>0.467</td>\n",
       "      <td>0.383</td>\n",
       "      <td>0.623</td>\n",
       "      <td>0.677</td>\n",
       "      <td>0.458</td>\n",
       "      <td>0.437</td>\n",
       "      <td>0.762</td>\n",
       "      <td>89</td>\n",
       "    </tr>\n",
       "    <tr>\n",
       "      <th>500</th>\n",
       "      <td>0.505</td>\n",
       "      <td>0.727</td>\n",
       "      <td>0.434</td>\n",
       "      <td>0.464</td>\n",
       "      <td>0.454</td>\n",
       "      <td>0.621</td>\n",
       "      <td>0.670</td>\n",
       "      <td>0.458</td>\n",
       "      <td>0.433</td>\n",
       "      <td>0.758</td>\n",
       "      <td>89</td>\n",
       "    </tr>\n",
       "    <tr>\n",
       "      <th rowspan=\"3\" valign=\"top\">2.0</th>\n",
       "      <th>50</th>\n",
       "      <td>0.336</td>\n",
       "      <td>0.720</td>\n",
       "      <td>0.426</td>\n",
       "      <td>0.459</td>\n",
       "      <td>0.296</td>\n",
       "      <td>0.598</td>\n",
       "      <td>0.661</td>\n",
       "      <td>0.369</td>\n",
       "      <td>0.420</td>\n",
       "      <td>0.749</td>\n",
       "      <td>89</td>\n",
       "    </tr>\n",
       "    <tr>\n",
       "      <th>100</th>\n",
       "      <td>0.433</td>\n",
       "      <td>0.736</td>\n",
       "      <td>0.433</td>\n",
       "      <td>0.467</td>\n",
       "      <td>0.380</td>\n",
       "      <td>0.611</td>\n",
       "      <td>0.673</td>\n",
       "      <td>0.430</td>\n",
       "      <td>0.443</td>\n",
       "      <td>0.758</td>\n",
       "      <td>89</td>\n",
       "    </tr>\n",
       "    <tr>\n",
       "      <th>500</th>\n",
       "      <td>0.503</td>\n",
       "      <td>0.732</td>\n",
       "      <td>0.430</td>\n",
       "      <td>0.463</td>\n",
       "      <td>0.443</td>\n",
       "      <td>0.610</td>\n",
       "      <td>0.666</td>\n",
       "      <td>0.441</td>\n",
       "      <td>0.444</td>\n",
       "      <td>0.754</td>\n",
       "      <td>89</td>\n",
       "    </tr>\n",
       "    <tr>\n",
       "      <th rowspan=\"9\" valign=\"top\">4</th>\n",
       "      <th rowspan=\"3\" valign=\"top\">0.5</th>\n",
       "      <th>50</th>\n",
       "      <td>0.289</td>\n",
       "      <td>0.607</td>\n",
       "      <td>0.397</td>\n",
       "      <td>0.424</td>\n",
       "      <td>0.274</td>\n",
       "      <td>0.547</td>\n",
       "      <td>0.613</td>\n",
       "      <td>0.358</td>\n",
       "      <td>0.366</td>\n",
       "      <td>0.713</td>\n",
       "      <td>89</td>\n",
       "    </tr>\n",
       "    <tr>\n",
       "      <th>100</th>\n",
       "      <td>0.357</td>\n",
       "      <td>0.613</td>\n",
       "      <td>0.398</td>\n",
       "      <td>0.427</td>\n",
       "      <td>0.338</td>\n",
       "      <td>0.552</td>\n",
       "      <td>0.617</td>\n",
       "      <td>0.402</td>\n",
       "      <td>0.382</td>\n",
       "      <td>0.714</td>\n",
       "      <td>89</td>\n",
       "    </tr>\n",
       "    <tr>\n",
       "      <th>500</th>\n",
       "      <td>0.412</td>\n",
       "      <td>0.597</td>\n",
       "      <td>0.390</td>\n",
       "      <td>0.420</td>\n",
       "      <td>0.389</td>\n",
       "      <td>0.537</td>\n",
       "      <td>0.598</td>\n",
       "      <td>0.391</td>\n",
       "      <td>0.366</td>\n",
       "      <td>0.697</td>\n",
       "      <td>89</td>\n",
       "    </tr>\n",
       "    <tr>\n",
       "      <th rowspan=\"3\" valign=\"top\">1.0</th>\n",
       "      <th>50</th>\n",
       "      <td>0.343</td>\n",
       "      <td>0.717</td>\n",
       "      <td>0.431</td>\n",
       "      <td>0.461</td>\n",
       "      <td>0.302</td>\n",
       "      <td>0.609</td>\n",
       "      <td>0.665</td>\n",
       "      <td>0.385</td>\n",
       "      <td>0.415</td>\n",
       "      <td>0.754</td>\n",
       "      <td>89</td>\n",
       "    </tr>\n",
       "    <tr>\n",
       "      <th>100</th>\n",
       "      <td>0.433</td>\n",
       "      <td>0.731</td>\n",
       "      <td>0.437</td>\n",
       "      <td>0.467</td>\n",
       "      <td>0.383</td>\n",
       "      <td>0.623</td>\n",
       "      <td>0.677</td>\n",
       "      <td>0.458</td>\n",
       "      <td>0.437</td>\n",
       "      <td>0.762</td>\n",
       "      <td>89</td>\n",
       "    </tr>\n",
       "    <tr>\n",
       "      <th>500</th>\n",
       "      <td>0.505</td>\n",
       "      <td>0.727</td>\n",
       "      <td>0.434</td>\n",
       "      <td>0.464</td>\n",
       "      <td>0.454</td>\n",
       "      <td>0.621</td>\n",
       "      <td>0.670</td>\n",
       "      <td>0.458</td>\n",
       "      <td>0.433</td>\n",
       "      <td>0.758</td>\n",
       "      <td>89</td>\n",
       "    </tr>\n",
       "    <tr>\n",
       "      <th rowspan=\"3\" valign=\"top\">2.0</th>\n",
       "      <th>50</th>\n",
       "      <td>0.336</td>\n",
       "      <td>0.720</td>\n",
       "      <td>0.426</td>\n",
       "      <td>0.459</td>\n",
       "      <td>0.296</td>\n",
       "      <td>0.598</td>\n",
       "      <td>0.661</td>\n",
       "      <td>0.369</td>\n",
       "      <td>0.420</td>\n",
       "      <td>0.749</td>\n",
       "      <td>89</td>\n",
       "    </tr>\n",
       "    <tr>\n",
       "      <th>100</th>\n",
       "      <td>0.433</td>\n",
       "      <td>0.736</td>\n",
       "      <td>0.433</td>\n",
       "      <td>0.467</td>\n",
       "      <td>0.380</td>\n",
       "      <td>0.611</td>\n",
       "      <td>0.673</td>\n",
       "      <td>0.430</td>\n",
       "      <td>0.443</td>\n",
       "      <td>0.758</td>\n",
       "      <td>89</td>\n",
       "    </tr>\n",
       "    <tr>\n",
       "      <th>500</th>\n",
       "      <td>0.503</td>\n",
       "      <td>0.732</td>\n",
       "      <td>0.430</td>\n",
       "      <td>0.463</td>\n",
       "      <td>0.443</td>\n",
       "      <td>0.610</td>\n",
       "      <td>0.666</td>\n",
       "      <td>0.441</td>\n",
       "      <td>0.444</td>\n",
       "      <td>0.754</td>\n",
       "      <td>89</td>\n",
       "    </tr>\n",
       "    <tr>\n",
       "      <th rowspan=\"9\" valign=\"top\">8</th>\n",
       "      <th rowspan=\"3\" valign=\"top\">0.5</th>\n",
       "      <th>50</th>\n",
       "      <td>0.289</td>\n",
       "      <td>0.607</td>\n",
       "      <td>0.397</td>\n",
       "      <td>0.424</td>\n",
       "      <td>0.274</td>\n",
       "      <td>0.547</td>\n",
       "      <td>0.613</td>\n",
       "      <td>0.358</td>\n",
       "      <td>0.366</td>\n",
       "      <td>0.713</td>\n",
       "      <td>89</td>\n",
       "    </tr>\n",
       "    <tr>\n",
       "      <th>100</th>\n",
       "      <td>0.357</td>\n",
       "      <td>0.613</td>\n",
       "      <td>0.398</td>\n",
       "      <td>0.427</td>\n",
       "      <td>0.338</td>\n",
       "      <td>0.552</td>\n",
       "      <td>0.617</td>\n",
       "      <td>0.402</td>\n",
       "      <td>0.382</td>\n",
       "      <td>0.714</td>\n",
       "      <td>89</td>\n",
       "    </tr>\n",
       "    <tr>\n",
       "      <th>500</th>\n",
       "      <td>0.412</td>\n",
       "      <td>0.597</td>\n",
       "      <td>0.390</td>\n",
       "      <td>0.420</td>\n",
       "      <td>0.389</td>\n",
       "      <td>0.537</td>\n",
       "      <td>0.598</td>\n",
       "      <td>0.391</td>\n",
       "      <td>0.366</td>\n",
       "      <td>0.697</td>\n",
       "      <td>89</td>\n",
       "    </tr>\n",
       "    <tr>\n",
       "      <th rowspan=\"3\" valign=\"top\">1.0</th>\n",
       "      <th>50</th>\n",
       "      <td>0.343</td>\n",
       "      <td>0.717</td>\n",
       "      <td>0.431</td>\n",
       "      <td>0.461</td>\n",
       "      <td>0.302</td>\n",
       "      <td>0.609</td>\n",
       "      <td>0.665</td>\n",
       "      <td>0.385</td>\n",
       "      <td>0.415</td>\n",
       "      <td>0.754</td>\n",
       "      <td>89</td>\n",
       "    </tr>\n",
       "    <tr>\n",
       "      <th>100</th>\n",
       "      <td>0.433</td>\n",
       "      <td>0.731</td>\n",
       "      <td>0.437</td>\n",
       "      <td>0.467</td>\n",
       "      <td>0.383</td>\n",
       "      <td>0.623</td>\n",
       "      <td>0.677</td>\n",
       "      <td>0.458</td>\n",
       "      <td>0.437</td>\n",
       "      <td>0.762</td>\n",
       "      <td>89</td>\n",
       "    </tr>\n",
       "    <tr>\n",
       "      <th>500</th>\n",
       "      <td>0.505</td>\n",
       "      <td>0.727</td>\n",
       "      <td>0.434</td>\n",
       "      <td>0.464</td>\n",
       "      <td>0.454</td>\n",
       "      <td>0.621</td>\n",
       "      <td>0.670</td>\n",
       "      <td>0.458</td>\n",
       "      <td>0.433</td>\n",
       "      <td>0.758</td>\n",
       "      <td>89</td>\n",
       "    </tr>\n",
       "    <tr>\n",
       "      <th rowspan=\"3\" valign=\"top\">2.0</th>\n",
       "      <th>50</th>\n",
       "      <td>0.336</td>\n",
       "      <td>0.720</td>\n",
       "      <td>0.426</td>\n",
       "      <td>0.459</td>\n",
       "      <td>0.296</td>\n",
       "      <td>0.598</td>\n",
       "      <td>0.661</td>\n",
       "      <td>0.369</td>\n",
       "      <td>0.420</td>\n",
       "      <td>0.749</td>\n",
       "      <td>89</td>\n",
       "    </tr>\n",
       "    <tr>\n",
       "      <th>100</th>\n",
       "      <td>0.433</td>\n",
       "      <td>0.736</td>\n",
       "      <td>0.433</td>\n",
       "      <td>0.467</td>\n",
       "      <td>0.380</td>\n",
       "      <td>0.611</td>\n",
       "      <td>0.673</td>\n",
       "      <td>0.430</td>\n",
       "      <td>0.443</td>\n",
       "      <td>0.758</td>\n",
       "      <td>89</td>\n",
       "    </tr>\n",
       "    <tr>\n",
       "      <th>500</th>\n",
       "      <td>0.503</td>\n",
       "      <td>0.732</td>\n",
       "      <td>0.430</td>\n",
       "      <td>0.463</td>\n",
       "      <td>0.443</td>\n",
       "      <td>0.610</td>\n",
       "      <td>0.666</td>\n",
       "      <td>0.441</td>\n",
       "      <td>0.444</td>\n",
       "      <td>0.754</td>\n",
       "      <td>89</td>\n",
       "    </tr>\n",
       "    <tr>\n",
       "      <th rowspan=\"81\" valign=\"top\">median</th>\n",
       "      <th rowspan=\"81\" valign=\"top\">8000</th>\n",
       "      <th rowspan=\"27\" valign=\"top\">32</th>\n",
       "      <th rowspan=\"9\" valign=\"top\">2</th>\n",
       "      <th rowspan=\"3\" valign=\"top\">0.5</th>\n",
       "      <th>50</th>\n",
       "      <td>0.440</td>\n",
       "      <td>0.727</td>\n",
       "      <td>0.466</td>\n",
       "      <td>0.532</td>\n",
       "      <td>0.367</td>\n",
       "      <td>0.573</td>\n",
       "      <td>0.657</td>\n",
       "      <td>0.480</td>\n",
       "      <td>0.426</td>\n",
       "      <td>0.704</td>\n",
       "      <td>89</td>\n",
       "    </tr>\n",
       "    <tr>\n",
       "      <th>100</th>\n",
       "      <td>0.521</td>\n",
       "      <td>0.741</td>\n",
       "      <td>0.473</td>\n",
       "      <td>0.540</td>\n",
       "      <td>0.431</td>\n",
       "      <td>0.587</td>\n",
       "      <td>0.667</td>\n",
       "      <td>0.486</td>\n",
       "      <td>0.444</td>\n",
       "      <td>0.713</td>\n",
       "      <td>89</td>\n",
       "    </tr>\n",
       "    <tr>\n",
       "      <th>500</th>\n",
       "      <td>0.579</td>\n",
       "      <td>0.737</td>\n",
       "      <td>0.469</td>\n",
       "      <td>0.537</td>\n",
       "      <td>0.479</td>\n",
       "      <td>0.588</td>\n",
       "      <td>0.660</td>\n",
       "      <td>0.503</td>\n",
       "      <td>0.435</td>\n",
       "      <td>0.711</td>\n",
       "      <td>89</td>\n",
       "    </tr>\n",
       "    <tr>\n",
       "      <th rowspan=\"3\" valign=\"top\">1.0</th>\n",
       "      <th>50</th>\n",
       "      <td>0.442</td>\n",
       "      <td>0.741</td>\n",
       "      <td>0.459</td>\n",
       "      <td>0.529</td>\n",
       "      <td>0.344</td>\n",
       "      <td>0.551</td>\n",
       "      <td>0.648</td>\n",
       "      <td>0.453</td>\n",
       "      <td>0.436</td>\n",
       "      <td>0.690</td>\n",
       "      <td>89</td>\n",
       "    </tr>\n",
       "    <tr>\n",
       "      <th>100</th>\n",
       "      <td>0.537</td>\n",
       "      <td>0.756</td>\n",
       "      <td>0.465</td>\n",
       "      <td>0.539</td>\n",
       "      <td>0.402</td>\n",
       "      <td>0.563</td>\n",
       "      <td>0.657</td>\n",
       "      <td>0.464</td>\n",
       "      <td>0.456</td>\n",
       "      <td>0.696</td>\n",
       "      <td>89</td>\n",
       "    </tr>\n",
       "    <tr>\n",
       "      <th>500</th>\n",
       "      <td>0.617</td>\n",
       "      <td>0.755</td>\n",
       "      <td>0.463</td>\n",
       "      <td>0.538</td>\n",
       "      <td>0.461</td>\n",
       "      <td>0.561</td>\n",
       "      <td>0.652</td>\n",
       "      <td>0.480</td>\n",
       "      <td>0.453</td>\n",
       "      <td>0.692</td>\n",
       "      <td>89</td>\n",
       "    </tr>\n",
       "    <tr>\n",
       "      <th rowspan=\"3\" valign=\"top\">2.0</th>\n",
       "      <th>50</th>\n",
       "      <td>0.399</td>\n",
       "      <td>0.704</td>\n",
       "      <td>0.416</td>\n",
       "      <td>0.506</td>\n",
       "      <td>0.234</td>\n",
       "      <td>0.381</td>\n",
       "      <td>0.589</td>\n",
       "      <td>0.302</td>\n",
       "      <td>0.422</td>\n",
       "      <td>0.601</td>\n",
       "      <td>89</td>\n",
       "    </tr>\n",
       "    <tr>\n",
       "      <th>100</th>\n",
       "      <td>0.521</td>\n",
       "      <td>0.728</td>\n",
       "      <td>0.423</td>\n",
       "      <td>0.521</td>\n",
       "      <td>0.276</td>\n",
       "      <td>0.388</td>\n",
       "      <td>0.599</td>\n",
       "      <td>0.318</td>\n",
       "      <td>0.447</td>\n",
       "      <td>0.608</td>\n",
       "      <td>89</td>\n",
       "    </tr>\n",
       "    <tr>\n",
       "      <th>500</th>\n",
       "      <td>0.620</td>\n",
       "      <td>0.743</td>\n",
       "      <td>0.425</td>\n",
       "      <td>0.530</td>\n",
       "      <td>0.317</td>\n",
       "      <td>0.386</td>\n",
       "      <td>0.601</td>\n",
       "      <td>0.335</td>\n",
       "      <td>0.454</td>\n",
       "      <td>0.607</td>\n",
       "      <td>89</td>\n",
       "    </tr>\n",
       "    <tr>\n",
       "      <th rowspan=\"9\" valign=\"top\">4</th>\n",
       "      <th rowspan=\"3\" valign=\"top\">0.5</th>\n",
       "      <th>50</th>\n",
       "      <td>0.440</td>\n",
       "      <td>0.727</td>\n",
       "      <td>0.466</td>\n",
       "      <td>0.532</td>\n",
       "      <td>0.367</td>\n",
       "      <td>0.573</td>\n",
       "      <td>0.657</td>\n",
       "      <td>0.480</td>\n",
       "      <td>0.426</td>\n",
       "      <td>0.704</td>\n",
       "      <td>89</td>\n",
       "    </tr>\n",
       "    <tr>\n",
       "      <th>100</th>\n",
       "      <td>0.521</td>\n",
       "      <td>0.741</td>\n",
       "      <td>0.473</td>\n",
       "      <td>0.540</td>\n",
       "      <td>0.431</td>\n",
       "      <td>0.587</td>\n",
       "      <td>0.667</td>\n",
       "      <td>0.486</td>\n",
       "      <td>0.444</td>\n",
       "      <td>0.713</td>\n",
       "      <td>89</td>\n",
       "    </tr>\n",
       "    <tr>\n",
       "      <th>500</th>\n",
       "      <td>0.579</td>\n",
       "      <td>0.737</td>\n",
       "      <td>0.469</td>\n",
       "      <td>0.537</td>\n",
       "      <td>0.479</td>\n",
       "      <td>0.588</td>\n",
       "      <td>0.660</td>\n",
       "      <td>0.503</td>\n",
       "      <td>0.435</td>\n",
       "      <td>0.711</td>\n",
       "      <td>89</td>\n",
       "    </tr>\n",
       "    <tr>\n",
       "      <th rowspan=\"3\" valign=\"top\">1.0</th>\n",
       "      <th>50</th>\n",
       "      <td>0.442</td>\n",
       "      <td>0.741</td>\n",
       "      <td>0.459</td>\n",
       "      <td>0.529</td>\n",
       "      <td>0.344</td>\n",
       "      <td>0.551</td>\n",
       "      <td>0.648</td>\n",
       "      <td>0.453</td>\n",
       "      <td>0.436</td>\n",
       "      <td>0.690</td>\n",
       "      <td>89</td>\n",
       "    </tr>\n",
       "    <tr>\n",
       "      <th>100</th>\n",
       "      <td>0.537</td>\n",
       "      <td>0.756</td>\n",
       "      <td>0.465</td>\n",
       "      <td>0.539</td>\n",
       "      <td>0.402</td>\n",
       "      <td>0.563</td>\n",
       "      <td>0.657</td>\n",
       "      <td>0.464</td>\n",
       "      <td>0.456</td>\n",
       "      <td>0.696</td>\n",
       "      <td>89</td>\n",
       "    </tr>\n",
       "    <tr>\n",
       "      <th>500</th>\n",
       "      <td>0.617</td>\n",
       "      <td>0.755</td>\n",
       "      <td>0.463</td>\n",
       "      <td>0.538</td>\n",
       "      <td>0.461</td>\n",
       "      <td>0.561</td>\n",
       "      <td>0.652</td>\n",
       "      <td>0.480</td>\n",
       "      <td>0.453</td>\n",
       "      <td>0.692</td>\n",
       "      <td>89</td>\n",
       "    </tr>\n",
       "    <tr>\n",
       "      <th rowspan=\"3\" valign=\"top\">2.0</th>\n",
       "      <th>50</th>\n",
       "      <td>0.399</td>\n",
       "      <td>0.704</td>\n",
       "      <td>0.416</td>\n",
       "      <td>0.506</td>\n",
       "      <td>0.234</td>\n",
       "      <td>0.381</td>\n",
       "      <td>0.589</td>\n",
       "      <td>0.302</td>\n",
       "      <td>0.422</td>\n",
       "      <td>0.601</td>\n",
       "      <td>89</td>\n",
       "    </tr>\n",
       "    <tr>\n",
       "      <th>100</th>\n",
       "      <td>0.521</td>\n",
       "      <td>0.728</td>\n",
       "      <td>0.423</td>\n",
       "      <td>0.521</td>\n",
       "      <td>0.276</td>\n",
       "      <td>0.388</td>\n",
       "      <td>0.599</td>\n",
       "      <td>0.318</td>\n",
       "      <td>0.447</td>\n",
       "      <td>0.608</td>\n",
       "      <td>89</td>\n",
       "    </tr>\n",
       "    <tr>\n",
       "      <th>500</th>\n",
       "      <td>0.620</td>\n",
       "      <td>0.743</td>\n",
       "      <td>0.425</td>\n",
       "      <td>0.530</td>\n",
       "      <td>0.317</td>\n",
       "      <td>0.386</td>\n",
       "      <td>0.601</td>\n",
       "      <td>0.335</td>\n",
       "      <td>0.454</td>\n",
       "      <td>0.607</td>\n",
       "      <td>89</td>\n",
       "    </tr>\n",
       "    <tr>\n",
       "      <th rowspan=\"9\" valign=\"top\">8</th>\n",
       "      <th rowspan=\"3\" valign=\"top\">0.5</th>\n",
       "      <th>50</th>\n",
       "      <td>0.440</td>\n",
       "      <td>0.727</td>\n",
       "      <td>0.466</td>\n",
       "      <td>0.532</td>\n",
       "      <td>0.367</td>\n",
       "      <td>0.573</td>\n",
       "      <td>0.657</td>\n",
       "      <td>0.480</td>\n",
       "      <td>0.426</td>\n",
       "      <td>0.704</td>\n",
       "      <td>89</td>\n",
       "    </tr>\n",
       "    <tr>\n",
       "      <th>100</th>\n",
       "      <td>0.521</td>\n",
       "      <td>0.741</td>\n",
       "      <td>0.473</td>\n",
       "      <td>0.540</td>\n",
       "      <td>0.431</td>\n",
       "      <td>0.587</td>\n",
       "      <td>0.667</td>\n",
       "      <td>0.486</td>\n",
       "      <td>0.444</td>\n",
       "      <td>0.713</td>\n",
       "      <td>89</td>\n",
       "    </tr>\n",
       "    <tr>\n",
       "      <th>500</th>\n",
       "      <td>0.579</td>\n",
       "      <td>0.737</td>\n",
       "      <td>0.469</td>\n",
       "      <td>0.537</td>\n",
       "      <td>0.479</td>\n",
       "      <td>0.588</td>\n",
       "      <td>0.660</td>\n",
       "      <td>0.503</td>\n",
       "      <td>0.435</td>\n",
       "      <td>0.711</td>\n",
       "      <td>89</td>\n",
       "    </tr>\n",
       "    <tr>\n",
       "      <th rowspan=\"3\" valign=\"top\">1.0</th>\n",
       "      <th>50</th>\n",
       "      <td>0.442</td>\n",
       "      <td>0.741</td>\n",
       "      <td>0.459</td>\n",
       "      <td>0.529</td>\n",
       "      <td>0.344</td>\n",
       "      <td>0.551</td>\n",
       "      <td>0.648</td>\n",
       "      <td>0.453</td>\n",
       "      <td>0.436</td>\n",
       "      <td>0.690</td>\n",
       "      <td>89</td>\n",
       "    </tr>\n",
       "    <tr>\n",
       "      <th>100</th>\n",
       "      <td>0.537</td>\n",
       "      <td>0.756</td>\n",
       "      <td>0.465</td>\n",
       "      <td>0.539</td>\n",
       "      <td>0.402</td>\n",
       "      <td>0.563</td>\n",
       "      <td>0.657</td>\n",
       "      <td>0.464</td>\n",
       "      <td>0.456</td>\n",
       "      <td>0.696</td>\n",
       "      <td>89</td>\n",
       "    </tr>\n",
       "    <tr>\n",
       "      <th>500</th>\n",
       "      <td>0.617</td>\n",
       "      <td>0.755</td>\n",
       "      <td>0.463</td>\n",
       "      <td>0.538</td>\n",
       "      <td>0.461</td>\n",
       "      <td>0.561</td>\n",
       "      <td>0.652</td>\n",
       "      <td>0.480</td>\n",
       "      <td>0.453</td>\n",
       "      <td>0.692</td>\n",
       "      <td>89</td>\n",
       "    </tr>\n",
       "    <tr>\n",
       "      <th rowspan=\"3\" valign=\"top\">2.0</th>\n",
       "      <th>50</th>\n",
       "      <td>0.399</td>\n",
       "      <td>0.704</td>\n",
       "      <td>0.416</td>\n",
       "      <td>0.506</td>\n",
       "      <td>0.234</td>\n",
       "      <td>0.381</td>\n",
       "      <td>0.589</td>\n",
       "      <td>0.302</td>\n",
       "      <td>0.422</td>\n",
       "      <td>0.601</td>\n",
       "      <td>89</td>\n",
       "    </tr>\n",
       "    <tr>\n",
       "      <th>100</th>\n",
       "      <td>0.521</td>\n",
       "      <td>0.728</td>\n",
       "      <td>0.423</td>\n",
       "      <td>0.521</td>\n",
       "      <td>0.276</td>\n",
       "      <td>0.388</td>\n",
       "      <td>0.599</td>\n",
       "      <td>0.318</td>\n",
       "      <td>0.447</td>\n",
       "      <td>0.608</td>\n",
       "      <td>89</td>\n",
       "    </tr>\n",
       "    <tr>\n",
       "      <th>500</th>\n",
       "      <td>0.620</td>\n",
       "      <td>0.743</td>\n",
       "      <td>0.425</td>\n",
       "      <td>0.530</td>\n",
       "      <td>0.317</td>\n",
       "      <td>0.386</td>\n",
       "      <td>0.601</td>\n",
       "      <td>0.335</td>\n",
       "      <td>0.454</td>\n",
       "      <td>0.607</td>\n",
       "      <td>89</td>\n",
       "    </tr>\n",
       "    <tr>\n",
       "      <th rowspan=\"27\" valign=\"top\">64</th>\n",
       "      <th rowspan=\"9\" valign=\"top\">2</th>\n",
       "      <th rowspan=\"3\" valign=\"top\">0.5</th>\n",
       "      <th>50</th>\n",
       "      <td>0.515</td>\n",
       "      <td>0.768</td>\n",
       "      <td>0.492</td>\n",
       "      <td>0.559</td>\n",
       "      <td>0.429</td>\n",
       "      <td>0.619</td>\n",
       "      <td>0.685</td>\n",
       "      <td>0.520</td>\n",
       "      <td>0.463</td>\n",
       "      <td>0.730</td>\n",
       "      <td>89</td>\n",
       "    </tr>\n",
       "    <tr>\n",
       "      <th>100</th>\n",
       "      <td>0.602</td>\n",
       "      <td>0.779</td>\n",
       "      <td>0.496</td>\n",
       "      <td>0.566</td>\n",
       "      <td>0.499</td>\n",
       "      <td>0.627</td>\n",
       "      <td>0.691</td>\n",
       "      <td>0.531</td>\n",
       "      <td>0.477</td>\n",
       "      <td>0.734</td>\n",
       "      <td>89</td>\n",
       "    </tr>\n",
       "    <tr>\n",
       "      <th>500</th>\n",
       "      <td>0.630</td>\n",
       "      <td>0.769</td>\n",
       "      <td>0.489</td>\n",
       "      <td>0.560</td>\n",
       "      <td>0.516</td>\n",
       "      <td>0.619</td>\n",
       "      <td>0.679</td>\n",
       "      <td>0.536</td>\n",
       "      <td>0.465</td>\n",
       "      <td>0.725</td>\n",
       "      <td>89</td>\n",
       "    </tr>\n",
       "    <tr>\n",
       "      <th rowspan=\"3\" valign=\"top\">1.0</th>\n",
       "      <th>50</th>\n",
       "      <td>0.513</td>\n",
       "      <td>0.774</td>\n",
       "      <td>0.478</td>\n",
       "      <td>0.551</td>\n",
       "      <td>0.393</td>\n",
       "      <td>0.582</td>\n",
       "      <td>0.668</td>\n",
       "      <td>0.469</td>\n",
       "      <td>0.471</td>\n",
       "      <td>0.712</td>\n",
       "      <td>89</td>\n",
       "    </tr>\n",
       "    <tr>\n",
       "      <th>100</th>\n",
       "      <td>0.605</td>\n",
       "      <td>0.786</td>\n",
       "      <td>0.481</td>\n",
       "      <td>0.559</td>\n",
       "      <td>0.454</td>\n",
       "      <td>0.587</td>\n",
       "      <td>0.673</td>\n",
       "      <td>0.486</td>\n",
       "      <td>0.486</td>\n",
       "      <td>0.715</td>\n",
       "      <td>89</td>\n",
       "    </tr>\n",
       "    <tr>\n",
       "      <th>500</th>\n",
       "      <td>0.642</td>\n",
       "      <td>0.774</td>\n",
       "      <td>0.474</td>\n",
       "      <td>0.554</td>\n",
       "      <td>0.472</td>\n",
       "      <td>0.576</td>\n",
       "      <td>0.660</td>\n",
       "      <td>0.492</td>\n",
       "      <td>0.474</td>\n",
       "      <td>0.702</td>\n",
       "      <td>89</td>\n",
       "    </tr>\n",
       "    <tr>\n",
       "      <th rowspan=\"3\" valign=\"top\">2.0</th>\n",
       "      <th>50</th>\n",
       "      <td>0.463</td>\n",
       "      <td>0.736</td>\n",
       "      <td>0.431</td>\n",
       "      <td>0.533</td>\n",
       "      <td>0.255</td>\n",
       "      <td>0.394</td>\n",
       "      <td>0.605</td>\n",
       "      <td>0.291</td>\n",
       "      <td>0.453</td>\n",
       "      <td>0.611</td>\n",
       "      <td>89</td>\n",
       "    </tr>\n",
       "    <tr>\n",
       "      <th>100</th>\n",
       "      <td>0.569</td>\n",
       "      <td>0.753</td>\n",
       "      <td>0.435</td>\n",
       "      <td>0.544</td>\n",
       "      <td>0.295</td>\n",
       "      <td>0.397</td>\n",
       "      <td>0.611</td>\n",
       "      <td>0.313</td>\n",
       "      <td>0.469</td>\n",
       "      <td>0.615</td>\n",
       "      <td>89</td>\n",
       "    </tr>\n",
       "    <tr>\n",
       "      <th>500</th>\n",
       "      <td>0.626</td>\n",
       "      <td>0.752</td>\n",
       "      <td>0.432</td>\n",
       "      <td>0.545</td>\n",
       "      <td>0.309</td>\n",
       "      <td>0.390</td>\n",
       "      <td>0.604</td>\n",
       "      <td>0.324</td>\n",
       "      <td>0.467</td>\n",
       "      <td>0.608</td>\n",
       "      <td>89</td>\n",
       "    </tr>\n",
       "    <tr>\n",
       "      <th rowspan=\"9\" valign=\"top\">4</th>\n",
       "      <th rowspan=\"3\" valign=\"top\">0.5</th>\n",
       "      <th>50</th>\n",
       "      <td>0.515</td>\n",
       "      <td>0.768</td>\n",
       "      <td>0.492</td>\n",
       "      <td>0.559</td>\n",
       "      <td>0.429</td>\n",
       "      <td>0.619</td>\n",
       "      <td>0.685</td>\n",
       "      <td>0.520</td>\n",
       "      <td>0.463</td>\n",
       "      <td>0.730</td>\n",
       "      <td>89</td>\n",
       "    </tr>\n",
       "    <tr>\n",
       "      <th>100</th>\n",
       "      <td>0.602</td>\n",
       "      <td>0.779</td>\n",
       "      <td>0.496</td>\n",
       "      <td>0.566</td>\n",
       "      <td>0.499</td>\n",
       "      <td>0.627</td>\n",
       "      <td>0.691</td>\n",
       "      <td>0.531</td>\n",
       "      <td>0.477</td>\n",
       "      <td>0.734</td>\n",
       "      <td>89</td>\n",
       "    </tr>\n",
       "    <tr>\n",
       "      <th>500</th>\n",
       "      <td>0.630</td>\n",
       "      <td>0.769</td>\n",
       "      <td>0.489</td>\n",
       "      <td>0.560</td>\n",
       "      <td>0.516</td>\n",
       "      <td>0.619</td>\n",
       "      <td>0.679</td>\n",
       "      <td>0.536</td>\n",
       "      <td>0.465</td>\n",
       "      <td>0.725</td>\n",
       "      <td>89</td>\n",
       "    </tr>\n",
       "    <tr>\n",
       "      <th rowspan=\"3\" valign=\"top\">1.0</th>\n",
       "      <th>50</th>\n",
       "      <td>0.513</td>\n",
       "      <td>0.774</td>\n",
       "      <td>0.478</td>\n",
       "      <td>0.551</td>\n",
       "      <td>0.393</td>\n",
       "      <td>0.582</td>\n",
       "      <td>0.668</td>\n",
       "      <td>0.469</td>\n",
       "      <td>0.471</td>\n",
       "      <td>0.712</td>\n",
       "      <td>89</td>\n",
       "    </tr>\n",
       "    <tr>\n",
       "      <th>100</th>\n",
       "      <td>0.605</td>\n",
       "      <td>0.786</td>\n",
       "      <td>0.481</td>\n",
       "      <td>0.559</td>\n",
       "      <td>0.454</td>\n",
       "      <td>0.587</td>\n",
       "      <td>0.673</td>\n",
       "      <td>0.486</td>\n",
       "      <td>0.486</td>\n",
       "      <td>0.715</td>\n",
       "      <td>89</td>\n",
       "    </tr>\n",
       "    <tr>\n",
       "      <th>500</th>\n",
       "      <td>0.642</td>\n",
       "      <td>0.774</td>\n",
       "      <td>0.474</td>\n",
       "      <td>0.554</td>\n",
       "      <td>0.472</td>\n",
       "      <td>0.576</td>\n",
       "      <td>0.660</td>\n",
       "      <td>0.492</td>\n",
       "      <td>0.474</td>\n",
       "      <td>0.702</td>\n",
       "      <td>89</td>\n",
       "    </tr>\n",
       "    <tr>\n",
       "      <th rowspan=\"3\" valign=\"top\">2.0</th>\n",
       "      <th>50</th>\n",
       "      <td>0.463</td>\n",
       "      <td>0.735</td>\n",
       "      <td>0.431</td>\n",
       "      <td>0.534</td>\n",
       "      <td>0.255</td>\n",
       "      <td>0.394</td>\n",
       "      <td>0.605</td>\n",
       "      <td>0.291</td>\n",
       "      <td>0.455</td>\n",
       "      <td>0.610</td>\n",
       "      <td>89</td>\n",
       "    </tr>\n",
       "    <tr>\n",
       "      <th>100</th>\n",
       "      <td>0.569</td>\n",
       "      <td>0.753</td>\n",
       "      <td>0.435</td>\n",
       "      <td>0.544</td>\n",
       "      <td>0.295</td>\n",
       "      <td>0.397</td>\n",
       "      <td>0.611</td>\n",
       "      <td>0.313</td>\n",
       "      <td>0.471</td>\n",
       "      <td>0.615</td>\n",
       "      <td>89</td>\n",
       "    </tr>\n",
       "    <tr>\n",
       "      <th>500</th>\n",
       "      <td>0.626</td>\n",
       "      <td>0.752</td>\n",
       "      <td>0.432</td>\n",
       "      <td>0.546</td>\n",
       "      <td>0.309</td>\n",
       "      <td>0.390</td>\n",
       "      <td>0.604</td>\n",
       "      <td>0.324</td>\n",
       "      <td>0.467</td>\n",
       "      <td>0.608</td>\n",
       "      <td>89</td>\n",
       "    </tr>\n",
       "    <tr>\n",
       "      <th rowspan=\"9\" valign=\"top\">8</th>\n",
       "      <th rowspan=\"3\" valign=\"top\">0.5</th>\n",
       "      <th>50</th>\n",
       "      <td>0.515</td>\n",
       "      <td>0.768</td>\n",
       "      <td>0.492</td>\n",
       "      <td>0.559</td>\n",
       "      <td>0.429</td>\n",
       "      <td>0.619</td>\n",
       "      <td>0.685</td>\n",
       "      <td>0.520</td>\n",
       "      <td>0.463</td>\n",
       "      <td>0.730</td>\n",
       "      <td>89</td>\n",
       "    </tr>\n",
       "    <tr>\n",
       "      <th>100</th>\n",
       "      <td>0.602</td>\n",
       "      <td>0.779</td>\n",
       "      <td>0.496</td>\n",
       "      <td>0.566</td>\n",
       "      <td>0.499</td>\n",
       "      <td>0.627</td>\n",
       "      <td>0.691</td>\n",
       "      <td>0.531</td>\n",
       "      <td>0.477</td>\n",
       "      <td>0.734</td>\n",
       "      <td>89</td>\n",
       "    </tr>\n",
       "    <tr>\n",
       "      <th>500</th>\n",
       "      <td>0.630</td>\n",
       "      <td>0.769</td>\n",
       "      <td>0.489</td>\n",
       "      <td>0.560</td>\n",
       "      <td>0.516</td>\n",
       "      <td>0.619</td>\n",
       "      <td>0.679</td>\n",
       "      <td>0.536</td>\n",
       "      <td>0.465</td>\n",
       "      <td>0.725</td>\n",
       "      <td>89</td>\n",
       "    </tr>\n",
       "    <tr>\n",
       "      <th rowspan=\"3\" valign=\"top\">1.0</th>\n",
       "      <th>50</th>\n",
       "      <td>0.513</td>\n",
       "      <td>0.774</td>\n",
       "      <td>0.478</td>\n",
       "      <td>0.551</td>\n",
       "      <td>0.393</td>\n",
       "      <td>0.582</td>\n",
       "      <td>0.668</td>\n",
       "      <td>0.469</td>\n",
       "      <td>0.471</td>\n",
       "      <td>0.712</td>\n",
       "      <td>89</td>\n",
       "    </tr>\n",
       "    <tr>\n",
       "      <th>100</th>\n",
       "      <td>0.605</td>\n",
       "      <td>0.786</td>\n",
       "      <td>0.481</td>\n",
       "      <td>0.559</td>\n",
       "      <td>0.454</td>\n",
       "      <td>0.587</td>\n",
       "      <td>0.673</td>\n",
       "      <td>0.486</td>\n",
       "      <td>0.486</td>\n",
       "      <td>0.715</td>\n",
       "      <td>89</td>\n",
       "    </tr>\n",
       "    <tr>\n",
       "      <th>500</th>\n",
       "      <td>0.642</td>\n",
       "      <td>0.774</td>\n",
       "      <td>0.474</td>\n",
       "      <td>0.554</td>\n",
       "      <td>0.472</td>\n",
       "      <td>0.576</td>\n",
       "      <td>0.660</td>\n",
       "      <td>0.492</td>\n",
       "      <td>0.474</td>\n",
       "      <td>0.702</td>\n",
       "      <td>89</td>\n",
       "    </tr>\n",
       "    <tr>\n",
       "      <th rowspan=\"3\" valign=\"top\">2.0</th>\n",
       "      <th>50</th>\n",
       "      <td>0.463</td>\n",
       "      <td>0.735</td>\n",
       "      <td>0.431</td>\n",
       "      <td>0.534</td>\n",
       "      <td>0.255</td>\n",
       "      <td>0.394</td>\n",
       "      <td>0.605</td>\n",
       "      <td>0.291</td>\n",
       "      <td>0.455</td>\n",
       "      <td>0.610</td>\n",
       "      <td>89</td>\n",
       "    </tr>\n",
       "    <tr>\n",
       "      <th>100</th>\n",
       "      <td>0.569</td>\n",
       "      <td>0.753</td>\n",
       "      <td>0.435</td>\n",
       "      <td>0.544</td>\n",
       "      <td>0.295</td>\n",
       "      <td>0.397</td>\n",
       "      <td>0.611</td>\n",
       "      <td>0.313</td>\n",
       "      <td>0.471</td>\n",
       "      <td>0.615</td>\n",
       "      <td>89</td>\n",
       "    </tr>\n",
       "    <tr>\n",
       "      <th>500</th>\n",
       "      <td>0.626</td>\n",
       "      <td>0.752</td>\n",
       "      <td>0.432</td>\n",
       "      <td>0.546</td>\n",
       "      <td>0.309</td>\n",
       "      <td>0.390</td>\n",
       "      <td>0.604</td>\n",
       "      <td>0.324</td>\n",
       "      <td>0.467</td>\n",
       "      <td>0.608</td>\n",
       "      <td>89</td>\n",
       "    </tr>\n",
       "    <tr>\n",
       "      <th rowspan=\"27\" valign=\"top\">128</th>\n",
       "      <th rowspan=\"9\" valign=\"top\">2</th>\n",
       "      <th rowspan=\"3\" valign=\"top\">0.5</th>\n",
       "      <th>50</th>\n",
       "      <td>0.554</td>\n",
       "      <td>0.774</td>\n",
       "      <td>0.503</td>\n",
       "      <td>0.574</td>\n",
       "      <td>0.455</td>\n",
       "      <td>0.617</td>\n",
       "      <td>0.691</td>\n",
       "      <td>0.525</td>\n",
       "      <td>0.476</td>\n",
       "      <td>0.728</td>\n",
       "      <td>89</td>\n",
       "    </tr>\n",
       "    <tr>\n",
       "      <th>100</th>\n",
       "      <td>0.618</td>\n",
       "      <td>0.779</td>\n",
       "      <td>0.505</td>\n",
       "      <td>0.578</td>\n",
       "      <td>0.507</td>\n",
       "      <td>0.621</td>\n",
       "      <td>0.693</td>\n",
       "      <td>0.525</td>\n",
       "      <td>0.486</td>\n",
       "      <td>0.731</td>\n",
       "      <td>89</td>\n",
       "    </tr>\n",
       "    <tr>\n",
       "      <th>500</th>\n",
       "      <td>0.650</td>\n",
       "      <td>0.770</td>\n",
       "      <td>0.497</td>\n",
       "      <td>0.570</td>\n",
       "      <td>0.528</td>\n",
       "      <td>0.615</td>\n",
       "      <td>0.682</td>\n",
       "      <td>0.542</td>\n",
       "      <td>0.471</td>\n",
       "      <td>0.723</td>\n",
       "      <td>89</td>\n",
       "    </tr>\n",
       "    <tr>\n",
       "      <th rowspan=\"3\" valign=\"top\">1.0</th>\n",
       "      <th>50</th>\n",
       "      <td>0.548</td>\n",
       "      <td>0.781</td>\n",
       "      <td>0.478</td>\n",
       "      <td>0.566</td>\n",
       "      <td>0.396</td>\n",
       "      <td>0.551</td>\n",
       "      <td>0.663</td>\n",
       "      <td>0.441</td>\n",
       "      <td>0.482</td>\n",
       "      <td>0.696</td>\n",
       "      <td>89</td>\n",
       "    </tr>\n",
       "    <tr>\n",
       "      <th>100</th>\n",
       "      <td>0.620</td>\n",
       "      <td>0.787</td>\n",
       "      <td>0.480</td>\n",
       "      <td>0.570</td>\n",
       "      <td>0.436</td>\n",
       "      <td>0.552</td>\n",
       "      <td>0.666</td>\n",
       "      <td>0.447</td>\n",
       "      <td>0.493</td>\n",
       "      <td>0.697</td>\n",
       "      <td>89</td>\n",
       "    </tr>\n",
       "    <tr>\n",
       "      <th>500</th>\n",
       "      <td>0.667</td>\n",
       "      <td>0.778</td>\n",
       "      <td>0.474</td>\n",
       "      <td>0.565</td>\n",
       "      <td>0.459</td>\n",
       "      <td>0.543</td>\n",
       "      <td>0.655</td>\n",
       "      <td>0.469</td>\n",
       "      <td>0.482</td>\n",
       "      <td>0.687</td>\n",
       "      <td>89</td>\n",
       "    </tr>\n",
       "    <tr>\n",
       "      <th rowspan=\"3\" valign=\"top\">2.0</th>\n",
       "      <th>50</th>\n",
       "      <td>0.504</td>\n",
       "      <td>0.749</td>\n",
       "      <td>0.427</td>\n",
       "      <td>0.543</td>\n",
       "      <td>0.258</td>\n",
       "      <td>0.376</td>\n",
       "      <td>0.594</td>\n",
       "      <td>0.279</td>\n",
       "      <td>0.464</td>\n",
       "      <td>0.594</td>\n",
       "      <td>89</td>\n",
       "    </tr>\n",
       "    <tr>\n",
       "      <th>100</th>\n",
       "      <td>0.597</td>\n",
       "      <td>0.762</td>\n",
       "      <td>0.430</td>\n",
       "      <td>0.551</td>\n",
       "      <td>0.288</td>\n",
       "      <td>0.375</td>\n",
       "      <td>0.598</td>\n",
       "      <td>0.291</td>\n",
       "      <td>0.479</td>\n",
       "      <td>0.596</td>\n",
       "      <td>89</td>\n",
       "    </tr>\n",
       "    <tr>\n",
       "      <th>500</th>\n",
       "      <td>0.661</td>\n",
       "      <td>0.765</td>\n",
       "      <td>0.426</td>\n",
       "      <td>0.555</td>\n",
       "      <td>0.299</td>\n",
       "      <td>0.369</td>\n",
       "      <td>0.593</td>\n",
       "      <td>0.307</td>\n",
       "      <td>0.478</td>\n",
       "      <td>0.591</td>\n",
       "      <td>89</td>\n",
       "    </tr>\n",
       "    <tr>\n",
       "      <th rowspan=\"9\" valign=\"top\">4</th>\n",
       "      <th rowspan=\"3\" valign=\"top\">0.5</th>\n",
       "      <th>50</th>\n",
       "      <td>0.554</td>\n",
       "      <td>0.774</td>\n",
       "      <td>0.503</td>\n",
       "      <td>0.574</td>\n",
       "      <td>0.455</td>\n",
       "      <td>0.617</td>\n",
       "      <td>0.691</td>\n",
       "      <td>0.525</td>\n",
       "      <td>0.476</td>\n",
       "      <td>0.728</td>\n",
       "      <td>89</td>\n",
       "    </tr>\n",
       "    <tr>\n",
       "      <th>100</th>\n",
       "      <td>0.618</td>\n",
       "      <td>0.779</td>\n",
       "      <td>0.505</td>\n",
       "      <td>0.578</td>\n",
       "      <td>0.507</td>\n",
       "      <td>0.621</td>\n",
       "      <td>0.693</td>\n",
       "      <td>0.525</td>\n",
       "      <td>0.486</td>\n",
       "      <td>0.731</td>\n",
       "      <td>89</td>\n",
       "    </tr>\n",
       "    <tr>\n",
       "      <th>500</th>\n",
       "      <td>0.650</td>\n",
       "      <td>0.770</td>\n",
       "      <td>0.497</td>\n",
       "      <td>0.570</td>\n",
       "      <td>0.528</td>\n",
       "      <td>0.615</td>\n",
       "      <td>0.682</td>\n",
       "      <td>0.542</td>\n",
       "      <td>0.471</td>\n",
       "      <td>0.723</td>\n",
       "      <td>89</td>\n",
       "    </tr>\n",
       "    <tr>\n",
       "      <th rowspan=\"3\" valign=\"top\">1.0</th>\n",
       "      <th>50</th>\n",
       "      <td>0.548</td>\n",
       "      <td>0.781</td>\n",
       "      <td>0.478</td>\n",
       "      <td>0.566</td>\n",
       "      <td>0.396</td>\n",
       "      <td>0.551</td>\n",
       "      <td>0.663</td>\n",
       "      <td>0.441</td>\n",
       "      <td>0.482</td>\n",
       "      <td>0.696</td>\n",
       "      <td>89</td>\n",
       "    </tr>\n",
       "    <tr>\n",
       "      <th>100</th>\n",
       "      <td>0.620</td>\n",
       "      <td>0.787</td>\n",
       "      <td>0.480</td>\n",
       "      <td>0.570</td>\n",
       "      <td>0.436</td>\n",
       "      <td>0.552</td>\n",
       "      <td>0.666</td>\n",
       "      <td>0.447</td>\n",
       "      <td>0.493</td>\n",
       "      <td>0.697</td>\n",
       "      <td>89</td>\n",
       "    </tr>\n",
       "    <tr>\n",
       "      <th>500</th>\n",
       "      <td>0.667</td>\n",
       "      <td>0.778</td>\n",
       "      <td>0.474</td>\n",
       "      <td>0.565</td>\n",
       "      <td>0.459</td>\n",
       "      <td>0.543</td>\n",
       "      <td>0.655</td>\n",
       "      <td>0.469</td>\n",
       "      <td>0.482</td>\n",
       "      <td>0.687</td>\n",
       "      <td>89</td>\n",
       "    </tr>\n",
       "    <tr>\n",
       "      <th rowspan=\"3\" valign=\"top\">2.0</th>\n",
       "      <th>50</th>\n",
       "      <td>0.504</td>\n",
       "      <td>0.749</td>\n",
       "      <td>0.427</td>\n",
       "      <td>0.543</td>\n",
       "      <td>0.258</td>\n",
       "      <td>0.376</td>\n",
       "      <td>0.594</td>\n",
       "      <td>0.279</td>\n",
       "      <td>0.464</td>\n",
       "      <td>0.594</td>\n",
       "      <td>89</td>\n",
       "    </tr>\n",
       "    <tr>\n",
       "      <th>100</th>\n",
       "      <td>0.597</td>\n",
       "      <td>0.762</td>\n",
       "      <td>0.430</td>\n",
       "      <td>0.551</td>\n",
       "      <td>0.288</td>\n",
       "      <td>0.375</td>\n",
       "      <td>0.598</td>\n",
       "      <td>0.291</td>\n",
       "      <td>0.479</td>\n",
       "      <td>0.596</td>\n",
       "      <td>89</td>\n",
       "    </tr>\n",
       "    <tr>\n",
       "      <th>500</th>\n",
       "      <td>0.661</td>\n",
       "      <td>0.765</td>\n",
       "      <td>0.426</td>\n",
       "      <td>0.555</td>\n",
       "      <td>0.299</td>\n",
       "      <td>0.369</td>\n",
       "      <td>0.593</td>\n",
       "      <td>0.307</td>\n",
       "      <td>0.478</td>\n",
       "      <td>0.591</td>\n",
       "      <td>89</td>\n",
       "    </tr>\n",
       "    <tr>\n",
       "      <th rowspan=\"9\" valign=\"top\">8</th>\n",
       "      <th rowspan=\"3\" valign=\"top\">0.5</th>\n",
       "      <th>50</th>\n",
       "      <td>0.554</td>\n",
       "      <td>0.774</td>\n",
       "      <td>0.503</td>\n",
       "      <td>0.574</td>\n",
       "      <td>0.455</td>\n",
       "      <td>0.617</td>\n",
       "      <td>0.691</td>\n",
       "      <td>0.525</td>\n",
       "      <td>0.476</td>\n",
       "      <td>0.728</td>\n",
       "      <td>89</td>\n",
       "    </tr>\n",
       "    <tr>\n",
       "      <th>100</th>\n",
       "      <td>0.618</td>\n",
       "      <td>0.779</td>\n",
       "      <td>0.505</td>\n",
       "      <td>0.578</td>\n",
       "      <td>0.507</td>\n",
       "      <td>0.621</td>\n",
       "      <td>0.693</td>\n",
       "      <td>0.525</td>\n",
       "      <td>0.486</td>\n",
       "      <td>0.731</td>\n",
       "      <td>89</td>\n",
       "    </tr>\n",
       "    <tr>\n",
       "      <th>500</th>\n",
       "      <td>0.650</td>\n",
       "      <td>0.770</td>\n",
       "      <td>0.497</td>\n",
       "      <td>0.570</td>\n",
       "      <td>0.528</td>\n",
       "      <td>0.615</td>\n",
       "      <td>0.682</td>\n",
       "      <td>0.542</td>\n",
       "      <td>0.471</td>\n",
       "      <td>0.723</td>\n",
       "      <td>89</td>\n",
       "    </tr>\n",
       "    <tr>\n",
       "      <th rowspan=\"3\" valign=\"top\">1.0</th>\n",
       "      <th>50</th>\n",
       "      <td>0.548</td>\n",
       "      <td>0.781</td>\n",
       "      <td>0.478</td>\n",
       "      <td>0.566</td>\n",
       "      <td>0.396</td>\n",
       "      <td>0.551</td>\n",
       "      <td>0.663</td>\n",
       "      <td>0.441</td>\n",
       "      <td>0.482</td>\n",
       "      <td>0.696</td>\n",
       "      <td>89</td>\n",
       "    </tr>\n",
       "    <tr>\n",
       "      <th>100</th>\n",
       "      <td>0.620</td>\n",
       "      <td>0.787</td>\n",
       "      <td>0.480</td>\n",
       "      <td>0.570</td>\n",
       "      <td>0.436</td>\n",
       "      <td>0.552</td>\n",
       "      <td>0.666</td>\n",
       "      <td>0.447</td>\n",
       "      <td>0.493</td>\n",
       "      <td>0.697</td>\n",
       "      <td>89</td>\n",
       "    </tr>\n",
       "    <tr>\n",
       "      <th>500</th>\n",
       "      <td>0.667</td>\n",
       "      <td>0.778</td>\n",
       "      <td>0.474</td>\n",
       "      <td>0.565</td>\n",
       "      <td>0.459</td>\n",
       "      <td>0.543</td>\n",
       "      <td>0.655</td>\n",
       "      <td>0.469</td>\n",
       "      <td>0.482</td>\n",
       "      <td>0.687</td>\n",
       "      <td>89</td>\n",
       "    </tr>\n",
       "    <tr>\n",
       "      <th rowspan=\"3\" valign=\"top\">2.0</th>\n",
       "      <th>50</th>\n",
       "      <td>0.504</td>\n",
       "      <td>0.749</td>\n",
       "      <td>0.427</td>\n",
       "      <td>0.543</td>\n",
       "      <td>0.258</td>\n",
       "      <td>0.376</td>\n",
       "      <td>0.594</td>\n",
       "      <td>0.279</td>\n",
       "      <td>0.464</td>\n",
       "      <td>0.594</td>\n",
       "      <td>89</td>\n",
       "    </tr>\n",
       "    <tr>\n",
       "      <th>100</th>\n",
       "      <td>0.597</td>\n",
       "      <td>0.762</td>\n",
       "      <td>0.430</td>\n",
       "      <td>0.551</td>\n",
       "      <td>0.288</td>\n",
       "      <td>0.375</td>\n",
       "      <td>0.598</td>\n",
       "      <td>0.291</td>\n",
       "      <td>0.479</td>\n",
       "      <td>0.596</td>\n",
       "      <td>89</td>\n",
       "    </tr>\n",
       "    <tr>\n",
       "      <th>500</th>\n",
       "      <td>0.661</td>\n",
       "      <td>0.765</td>\n",
       "      <td>0.426</td>\n",
       "      <td>0.555</td>\n",
       "      <td>0.299</td>\n",
       "      <td>0.369</td>\n",
       "      <td>0.593</td>\n",
       "      <td>0.307</td>\n",
       "      <td>0.478</td>\n",
       "      <td>0.591</td>\n",
       "      <td>89</td>\n",
       "    </tr>\n",
       "  </tbody>\n",
       "</table>\n",
       "</div>"
      ],
      "text/plain": [
       "                                                 Any Metric Level Continuous  \\\n",
       "aggregate fmax n_mels ac_size std_bpm tightness                                \n",
       "mean      8000 32     2       0.5     50                               0.309   \n",
       "                                      100                              0.390   \n",
       "                                      500                              0.462   \n",
       "                              1.0     50                               0.340   \n",
       "                                      100                              0.431   \n",
       "                                      500                              0.523   \n",
       "                              2.0     50                               0.336   \n",
       "                                      100                              0.422   \n",
       "                                      500                              0.524   \n",
       "                      4       0.5     50                               0.309   \n",
       "                                      100                              0.390   \n",
       "                                      500                              0.462   \n",
       "                              1.0     50                               0.340   \n",
       "                                      100                              0.431   \n",
       "                                      500                              0.523   \n",
       "                              2.0     50                               0.336   \n",
       "                                      100                              0.422   \n",
       "                                      500                              0.524   \n",
       "                      8       0.5     50                               0.309   \n",
       "                                      100                              0.390   \n",
       "                                      500                              0.462   \n",
       "                              1.0     50                               0.340   \n",
       "                                      100                              0.431   \n",
       "                                      500                              0.523   \n",
       "                              2.0     50                               0.336   \n",
       "                                      100                              0.422   \n",
       "                                      500                              0.524   \n",
       "               64     2       0.5     50                               0.291   \n",
       "                                      100                              0.366   \n",
       "                                      500                              0.429   \n",
       "                              1.0     50                               0.340   \n",
       "                                      100                              0.435   \n",
       "                                      500                              0.520   \n",
       "                              2.0     50                               0.328   \n",
       "                                      100                              0.427   \n",
       "                                      500                              0.509   \n",
       "                      4       0.5     50                               0.291   \n",
       "                                      100                              0.366   \n",
       "                                      500                              0.429   \n",
       "                              1.0     50                               0.340   \n",
       "                                      100                              0.435   \n",
       "                                      500                              0.520   \n",
       "                              2.0     50                               0.328   \n",
       "                                      100                              0.427   \n",
       "                                      500                              0.509   \n",
       "                      8       0.5     50                               0.291   \n",
       "                                      100                              0.366   \n",
       "                                      500                              0.429   \n",
       "                              1.0     50                               0.340   \n",
       "                                      100                              0.435   \n",
       "                                      500                              0.520   \n",
       "                              2.0     50                               0.328   \n",
       "                                      100                              0.427   \n",
       "                                      500                              0.509   \n",
       "               128    2       0.5     50                               0.289   \n",
       "                                      100                              0.357   \n",
       "                                      500                              0.412   \n",
       "                              1.0     50                               0.343   \n",
       "                                      100                              0.433   \n",
       "                                      500                              0.505   \n",
       "                              2.0     50                               0.336   \n",
       "                                      100                              0.433   \n",
       "                                      500                              0.503   \n",
       "                      4       0.5     50                               0.289   \n",
       "                                      100                              0.357   \n",
       "                                      500                              0.412   \n",
       "                              1.0     50                               0.343   \n",
       "                                      100                              0.433   \n",
       "                                      500                              0.505   \n",
       "                              2.0     50                               0.336   \n",
       "                                      100                              0.433   \n",
       "                                      500                              0.503   \n",
       "                      8       0.5     50                               0.289   \n",
       "                                      100                              0.357   \n",
       "                                      500                              0.412   \n",
       "                              1.0     50                               0.343   \n",
       "                                      100                              0.433   \n",
       "                                      500                              0.505   \n",
       "                              2.0     50                               0.336   \n",
       "                                      100                              0.433   \n",
       "                                      500                              0.503   \n",
       "median    8000 32     2       0.5     50                               0.440   \n",
       "                                      100                              0.521   \n",
       "                                      500                              0.579   \n",
       "                              1.0     50                               0.442   \n",
       "                                      100                              0.537   \n",
       "                                      500                              0.617   \n",
       "                              2.0     50                               0.399   \n",
       "                                      100                              0.521   \n",
       "                                      500                              0.620   \n",
       "                      4       0.5     50                               0.440   \n",
       "                                      100                              0.521   \n",
       "                                      500                              0.579   \n",
       "                              1.0     50                               0.442   \n",
       "                                      100                              0.537   \n",
       "                                      500                              0.617   \n",
       "                              2.0     50                               0.399   \n",
       "                                      100                              0.521   \n",
       "                                      500                              0.620   \n",
       "                      8       0.5     50                               0.440   \n",
       "                                      100                              0.521   \n",
       "                                      500                              0.579   \n",
       "                              1.0     50                               0.442   \n",
       "                                      100                              0.537   \n",
       "                                      500                              0.617   \n",
       "                              2.0     50                               0.399   \n",
       "                                      100                              0.521   \n",
       "                                      500                              0.620   \n",
       "               64     2       0.5     50                               0.515   \n",
       "                                      100                              0.602   \n",
       "                                      500                              0.630   \n",
       "                              1.0     50                               0.513   \n",
       "                                      100                              0.605   \n",
       "                                      500                              0.642   \n",
       "                              2.0     50                               0.463   \n",
       "                                      100                              0.569   \n",
       "                                      500                              0.626   \n",
       "                      4       0.5     50                               0.515   \n",
       "                                      100                              0.602   \n",
       "                                      500                              0.630   \n",
       "                              1.0     50                               0.513   \n",
       "                                      100                              0.605   \n",
       "                                      500                              0.642   \n",
       "                              2.0     50                               0.463   \n",
       "                                      100                              0.569   \n",
       "                                      500                              0.626   \n",
       "                      8       0.5     50                               0.515   \n",
       "                                      100                              0.602   \n",
       "                                      500                              0.630   \n",
       "                              1.0     50                               0.513   \n",
       "                                      100                              0.605   \n",
       "                                      500                              0.642   \n",
       "                              2.0     50                               0.463   \n",
       "                                      100                              0.569   \n",
       "                                      500                              0.626   \n",
       "               128    2       0.5     50                               0.554   \n",
       "                                      100                              0.618   \n",
       "                                      500                              0.650   \n",
       "                              1.0     50                               0.548   \n",
       "                                      100                              0.620   \n",
       "                                      500                              0.667   \n",
       "                              2.0     50                               0.504   \n",
       "                                      100                              0.597   \n",
       "                                      500                              0.661   \n",
       "                      4       0.5     50                               0.554   \n",
       "                                      100                              0.618   \n",
       "                                      500                              0.650   \n",
       "                              1.0     50                               0.548   \n",
       "                                      100                              0.620   \n",
       "                                      500                              0.667   \n",
       "                              2.0     50                               0.504   \n",
       "                                      100                              0.597   \n",
       "                                      500                              0.661   \n",
       "                      8       0.5     50                               0.554   \n",
       "                                      100                              0.618   \n",
       "                                      500                              0.650   \n",
       "                              1.0     50                               0.548   \n",
       "                                      100                              0.620   \n",
       "                                      500                              0.667   \n",
       "                              2.0     50                               0.504   \n",
       "                                      100                              0.597   \n",
       "                                      500                              0.661   \n",
       "\n",
       "                                                 Any Metric Level Total  \\\n",
       "aggregate fmax n_mels ac_size std_bpm tightness                           \n",
       "mean      8000 32     2       0.5     50                          0.653   \n",
       "                                      100                         0.665   \n",
       "                                      500                         0.659   \n",
       "                              1.0     50                          0.726   \n",
       "                                      100                         0.742   \n",
       "                                      500                         0.743   \n",
       "                              2.0     50                          0.721   \n",
       "                                      100                         0.736   \n",
       "                                      500                         0.740   \n",
       "                      4       0.5     50                          0.653   \n",
       "                                      100                         0.665   \n",
       "                                      500                         0.659   \n",
       "                              1.0     50                          0.726   \n",
       "                                      100                         0.742   \n",
       "                                      500                         0.743   \n",
       "                              2.0     50                          0.721   \n",
       "                                      100                         0.736   \n",
       "                                      500                         0.740   \n",
       "                      8       0.5     50                          0.653   \n",
       "                                      100                         0.665   \n",
       "                                      500                         0.659   \n",
       "                              1.0     50                          0.726   \n",
       "                                      100                         0.742   \n",
       "                                      500                         0.743   \n",
       "                              2.0     50                          0.721   \n",
       "                                      100                         0.736   \n",
       "                                      500                         0.740   \n",
       "               64     2       0.5     50                          0.622   \n",
       "                                      100                         0.626   \n",
       "                                      500                         0.619   \n",
       "                              1.0     50                          0.728   \n",
       "                                      100                         0.740   \n",
       "                                      500                         0.741   \n",
       "                              2.0     50                          0.716   \n",
       "                                      100                         0.729   \n",
       "                                      500                         0.733   \n",
       "                      4       0.5     50                          0.622   \n",
       "                                      100                         0.626   \n",
       "                                      500                         0.619   \n",
       "                              1.0     50                          0.728   \n",
       "                                      100                         0.740   \n",
       "                                      500                         0.741   \n",
       "                              2.0     50                          0.716   \n",
       "                                      100                         0.729   \n",
       "                                      500                         0.733   \n",
       "                      8       0.5     50                          0.622   \n",
       "                                      100                         0.626   \n",
       "                                      500                         0.619   \n",
       "                              1.0     50                          0.728   \n",
       "                                      100                         0.740   \n",
       "                                      500                         0.741   \n",
       "                              2.0     50                          0.716   \n",
       "                                      100                         0.729   \n",
       "                                      500                         0.733   \n",
       "               128    2       0.5     50                          0.607   \n",
       "                                      100                         0.613   \n",
       "                                      500                         0.597   \n",
       "                              1.0     50                          0.717   \n",
       "                                      100                         0.731   \n",
       "                                      500                         0.727   \n",
       "                              2.0     50                          0.720   \n",
       "                                      100                         0.736   \n",
       "                                      500                         0.732   \n",
       "                      4       0.5     50                          0.607   \n",
       "                                      100                         0.613   \n",
       "                                      500                         0.597   \n",
       "                              1.0     50                          0.717   \n",
       "                                      100                         0.731   \n",
       "                                      500                         0.727   \n",
       "                              2.0     50                          0.720   \n",
       "                                      100                         0.736   \n",
       "                                      500                         0.732   \n",
       "                      8       0.5     50                          0.607   \n",
       "                                      100                         0.613   \n",
       "                                      500                         0.597   \n",
       "                              1.0     50                          0.717   \n",
       "                                      100                         0.731   \n",
       "                                      500                         0.727   \n",
       "                              2.0     50                          0.720   \n",
       "                                      100                         0.736   \n",
       "                                      500                         0.732   \n",
       "median    8000 32     2       0.5     50                          0.727   \n",
       "                                      100                         0.741   \n",
       "                                      500                         0.737   \n",
       "                              1.0     50                          0.741   \n",
       "                                      100                         0.756   \n",
       "                                      500                         0.755   \n",
       "                              2.0     50                          0.704   \n",
       "                                      100                         0.728   \n",
       "                                      500                         0.743   \n",
       "                      4       0.5     50                          0.727   \n",
       "                                      100                         0.741   \n",
       "                                      500                         0.737   \n",
       "                              1.0     50                          0.741   \n",
       "                                      100                         0.756   \n",
       "                                      500                         0.755   \n",
       "                              2.0     50                          0.704   \n",
       "                                      100                         0.728   \n",
       "                                      500                         0.743   \n",
       "                      8       0.5     50                          0.727   \n",
       "                                      100                         0.741   \n",
       "                                      500                         0.737   \n",
       "                              1.0     50                          0.741   \n",
       "                                      100                         0.756   \n",
       "                                      500                         0.755   \n",
       "                              2.0     50                          0.704   \n",
       "                                      100                         0.728   \n",
       "                                      500                         0.743   \n",
       "               64     2       0.5     50                          0.768   \n",
       "                                      100                         0.779   \n",
       "                                      500                         0.769   \n",
       "                              1.0     50                          0.774   \n",
       "                                      100                         0.786   \n",
       "                                      500                         0.774   \n",
       "                              2.0     50                          0.736   \n",
       "                                      100                         0.753   \n",
       "                                      500                         0.752   \n",
       "                      4       0.5     50                          0.768   \n",
       "                                      100                         0.779   \n",
       "                                      500                         0.769   \n",
       "                              1.0     50                          0.774   \n",
       "                                      100                         0.786   \n",
       "                                      500                         0.774   \n",
       "                              2.0     50                          0.735   \n",
       "                                      100                         0.753   \n",
       "                                      500                         0.752   \n",
       "                      8       0.5     50                          0.768   \n",
       "                                      100                         0.779   \n",
       "                                      500                         0.769   \n",
       "                              1.0     50                          0.774   \n",
       "                                      100                         0.786   \n",
       "                                      500                         0.774   \n",
       "                              2.0     50                          0.735   \n",
       "                                      100                         0.753   \n",
       "                                      500                         0.752   \n",
       "               128    2       0.5     50                          0.774   \n",
       "                                      100                         0.779   \n",
       "                                      500                         0.770   \n",
       "                              1.0     50                          0.781   \n",
       "                                      100                         0.787   \n",
       "                                      500                         0.778   \n",
       "                              2.0     50                          0.749   \n",
       "                                      100                         0.762   \n",
       "                                      500                         0.765   \n",
       "                      4       0.5     50                          0.774   \n",
       "                                      100                         0.779   \n",
       "                                      500                         0.770   \n",
       "                              1.0     50                          0.781   \n",
       "                                      100                         0.787   \n",
       "                                      500                         0.778   \n",
       "                              2.0     50                          0.749   \n",
       "                                      100                         0.762   \n",
       "                                      500                         0.765   \n",
       "                      8       0.5     50                          0.774   \n",
       "                                      100                         0.779   \n",
       "                                      500                         0.770   \n",
       "                              1.0     50                          0.781   \n",
       "                                      100                         0.787   \n",
       "                                      500                         0.778   \n",
       "                              2.0     50                          0.749   \n",
       "                                      100                         0.762   \n",
       "                                      500                         0.765   \n",
       "\n",
       "                                                 Cemgil  \\\n",
       "aggregate fmax n_mels ac_size std_bpm tightness           \n",
       "mean      8000 32     2       0.5     50          0.420   \n",
       "                                      100         0.425   \n",
       "                                      500         0.423   \n",
       "                              1.0     50          0.447   \n",
       "                                      100         0.454   \n",
       "                                      500         0.454   \n",
       "                              2.0     50          0.443   \n",
       "                                      100         0.449   \n",
       "                                      500         0.453   \n",
       "                      4       0.5     50          0.420   \n",
       "                                      100         0.425   \n",
       "                                      500         0.423   \n",
       "                              1.0     50          0.447   \n",
       "                                      100         0.454   \n",
       "                                      500         0.454   \n",
       "                              2.0     50          0.443   \n",
       "                                      100         0.449   \n",
       "                                      500         0.453   \n",
       "                      8       0.5     50          0.420   \n",
       "                                      100         0.425   \n",
       "                                      500         0.423   \n",
       "                              1.0     50          0.447   \n",
       "                                      100         0.454   \n",
       "                                      500         0.454   \n",
       "                              2.0     50          0.443   \n",
       "                                      100         0.449   \n",
       "                                      500         0.453   \n",
       "               64     2       0.5     50          0.407   \n",
       "                                      100         0.408   \n",
       "                                      500         0.403   \n",
       "                              1.0     50          0.443   \n",
       "                                      100         0.449   \n",
       "                                      500         0.448   \n",
       "                              2.0     50          0.434   \n",
       "                                      100         0.440   \n",
       "                                      500         0.442   \n",
       "                      4       0.5     50          0.407   \n",
       "                                      100         0.408   \n",
       "                                      500         0.403   \n",
       "                              1.0     50          0.443   \n",
       "                                      100         0.449   \n",
       "                                      500         0.448   \n",
       "                              2.0     50          0.434   \n",
       "                                      100         0.440   \n",
       "                                      500         0.442   \n",
       "                      8       0.5     50          0.407   \n",
       "                                      100         0.408   \n",
       "                                      500         0.403   \n",
       "                              1.0     50          0.443   \n",
       "                                      100         0.449   \n",
       "                                      500         0.448   \n",
       "                              2.0     50          0.434   \n",
       "                                      100         0.440   \n",
       "                                      500         0.442   \n",
       "               128    2       0.5     50          0.397   \n",
       "                                      100         0.398   \n",
       "                                      500         0.390   \n",
       "                              1.0     50          0.431   \n",
       "                                      100         0.437   \n",
       "                                      500         0.434   \n",
       "                              2.0     50          0.426   \n",
       "                                      100         0.433   \n",
       "                                      500         0.430   \n",
       "                      4       0.5     50          0.397   \n",
       "                                      100         0.398   \n",
       "                                      500         0.390   \n",
       "                              1.0     50          0.431   \n",
       "                                      100         0.437   \n",
       "                                      500         0.434   \n",
       "                              2.0     50          0.426   \n",
       "                                      100         0.433   \n",
       "                                      500         0.430   \n",
       "                      8       0.5     50          0.397   \n",
       "                                      100         0.398   \n",
       "                                      500         0.390   \n",
       "                              1.0     50          0.431   \n",
       "                                      100         0.437   \n",
       "                                      500         0.434   \n",
       "                              2.0     50          0.426   \n",
       "                                      100         0.433   \n",
       "                                      500         0.430   \n",
       "median    8000 32     2       0.5     50          0.466   \n",
       "                                      100         0.473   \n",
       "                                      500         0.469   \n",
       "                              1.0     50          0.459   \n",
       "                                      100         0.465   \n",
       "                                      500         0.463   \n",
       "                              2.0     50          0.416   \n",
       "                                      100         0.423   \n",
       "                                      500         0.425   \n",
       "                      4       0.5     50          0.466   \n",
       "                                      100         0.473   \n",
       "                                      500         0.469   \n",
       "                              1.0     50          0.459   \n",
       "                                      100         0.465   \n",
       "                                      500         0.463   \n",
       "                              2.0     50          0.416   \n",
       "                                      100         0.423   \n",
       "                                      500         0.425   \n",
       "                      8       0.5     50          0.466   \n",
       "                                      100         0.473   \n",
       "                                      500         0.469   \n",
       "                              1.0     50          0.459   \n",
       "                                      100         0.465   \n",
       "                                      500         0.463   \n",
       "                              2.0     50          0.416   \n",
       "                                      100         0.423   \n",
       "                                      500         0.425   \n",
       "               64     2       0.5     50          0.492   \n",
       "                                      100         0.496   \n",
       "                                      500         0.489   \n",
       "                              1.0     50          0.478   \n",
       "                                      100         0.481   \n",
       "                                      500         0.474   \n",
       "                              2.0     50          0.431   \n",
       "                                      100         0.435   \n",
       "                                      500         0.432   \n",
       "                      4       0.5     50          0.492   \n",
       "                                      100         0.496   \n",
       "                                      500         0.489   \n",
       "                              1.0     50          0.478   \n",
       "                                      100         0.481   \n",
       "                                      500         0.474   \n",
       "                              2.0     50          0.431   \n",
       "                                      100         0.435   \n",
       "                                      500         0.432   \n",
       "                      8       0.5     50          0.492   \n",
       "                                      100         0.496   \n",
       "                                      500         0.489   \n",
       "                              1.0     50          0.478   \n",
       "                                      100         0.481   \n",
       "                                      500         0.474   \n",
       "                              2.0     50          0.431   \n",
       "                                      100         0.435   \n",
       "                                      500         0.432   \n",
       "               128    2       0.5     50          0.503   \n",
       "                                      100         0.505   \n",
       "                                      500         0.497   \n",
       "                              1.0     50          0.478   \n",
       "                                      100         0.480   \n",
       "                                      500         0.474   \n",
       "                              2.0     50          0.427   \n",
       "                                      100         0.430   \n",
       "                                      500         0.426   \n",
       "                      4       0.5     50          0.503   \n",
       "                                      100         0.505   \n",
       "                                      500         0.497   \n",
       "                              1.0     50          0.478   \n",
       "                                      100         0.480   \n",
       "                                      500         0.474   \n",
       "                              2.0     50          0.427   \n",
       "                                      100         0.430   \n",
       "                                      500         0.426   \n",
       "                      8       0.5     50          0.503   \n",
       "                                      100         0.505   \n",
       "                                      500         0.497   \n",
       "                              1.0     50          0.478   \n",
       "                                      100         0.480   \n",
       "                                      500         0.474   \n",
       "                              2.0     50          0.427   \n",
       "                                      100         0.430   \n",
       "                                      500         0.426   \n",
       "\n",
       "                                                 Cemgil Best Metric Level  \\\n",
       "aggregate fmax n_mels ac_size std_bpm tightness                             \n",
       "mean      8000 32     2       0.5     50                            0.451   \n",
       "                                      100                           0.456   \n",
       "                                      500                           0.455   \n",
       "                              1.0     50                            0.480   \n",
       "                                      100                           0.486   \n",
       "                                      500                           0.488   \n",
       "                              2.0     50                            0.476   \n",
       "                                      100                           0.481   \n",
       "                                      500                           0.485   \n",
       "                      4       0.5     50                            0.451   \n",
       "                                      100                           0.456   \n",
       "                                      500                           0.455   \n",
       "                              1.0     50                            0.480   \n",
       "                                      100                           0.486   \n",
       "                                      500                           0.488   \n",
       "                              2.0     50                            0.476   \n",
       "                                      100                           0.481   \n",
       "                                      500                           0.485   \n",
       "                      8       0.5     50                            0.451   \n",
       "                                      100                           0.456   \n",
       "                                      500                           0.455   \n",
       "                              1.0     50                            0.480   \n",
       "                                      100                           0.486   \n",
       "                                      500                           0.488   \n",
       "                              2.0     50                            0.476   \n",
       "                                      100                           0.481   \n",
       "                                      500                           0.485   \n",
       "               64     2       0.5     50                            0.436   \n",
       "                                      100                           0.438   \n",
       "                                      500                           0.435   \n",
       "                              1.0     50                            0.473   \n",
       "                                      100                           0.478   \n",
       "                                      500                           0.478   \n",
       "                              2.0     50                            0.468   \n",
       "                                      100                           0.473   \n",
       "                                      500                           0.475   \n",
       "                      4       0.5     50                            0.436   \n",
       "                                      100                           0.438   \n",
       "                                      500                           0.435   \n",
       "                              1.0     50                            0.473   \n",
       "                                      100                           0.478   \n",
       "                                      500                           0.478   \n",
       "                              2.0     50                            0.468   \n",
       "                                      100                           0.473   \n",
       "                                      500                           0.475   \n",
       "                      8       0.5     50                            0.436   \n",
       "                                      100                           0.438   \n",
       "                                      500                           0.435   \n",
       "                              1.0     50                            0.473   \n",
       "                                      100                           0.478   \n",
       "                                      500                           0.478   \n",
       "                              2.0     50                            0.468   \n",
       "                                      100                           0.473   \n",
       "                                      500                           0.475   \n",
       "               128    2       0.5     50                            0.424   \n",
       "                                      100                           0.427   \n",
       "                                      500                           0.420   \n",
       "                              1.0     50                            0.461   \n",
       "                                      100                           0.467   \n",
       "                                      500                           0.464   \n",
       "                              2.0     50                            0.459   \n",
       "                                      100                           0.467   \n",
       "                                      500                           0.463   \n",
       "                      4       0.5     50                            0.424   \n",
       "                                      100                           0.427   \n",
       "                                      500                           0.420   \n",
       "                              1.0     50                            0.461   \n",
       "                                      100                           0.467   \n",
       "                                      500                           0.464   \n",
       "                              2.0     50                            0.459   \n",
       "                                      100                           0.467   \n",
       "                                      500                           0.463   \n",
       "                      8       0.5     50                            0.424   \n",
       "                                      100                           0.427   \n",
       "                                      500                           0.420   \n",
       "                              1.0     50                            0.461   \n",
       "                                      100                           0.467   \n",
       "                                      500                           0.464   \n",
       "                              2.0     50                            0.459   \n",
       "                                      100                           0.467   \n",
       "                                      500                           0.463   \n",
       "median    8000 32     2       0.5     50                            0.532   \n",
       "                                      100                           0.540   \n",
       "                                      500                           0.537   \n",
       "                              1.0     50                            0.529   \n",
       "                                      100                           0.539   \n",
       "                                      500                           0.538   \n",
       "                              2.0     50                            0.506   \n",
       "                                      100                           0.521   \n",
       "                                      500                           0.530   \n",
       "                      4       0.5     50                            0.532   \n",
       "                                      100                           0.540   \n",
       "                                      500                           0.537   \n",
       "                              1.0     50                            0.529   \n",
       "                                      100                           0.539   \n",
       "                                      500                           0.538   \n",
       "                              2.0     50                            0.506   \n",
       "                                      100                           0.521   \n",
       "                                      500                           0.530   \n",
       "                      8       0.5     50                            0.532   \n",
       "                                      100                           0.540   \n",
       "                                      500                           0.537   \n",
       "                              1.0     50                            0.529   \n",
       "                                      100                           0.539   \n",
       "                                      500                           0.538   \n",
       "                              2.0     50                            0.506   \n",
       "                                      100                           0.521   \n",
       "                                      500                           0.530   \n",
       "               64     2       0.5     50                            0.559   \n",
       "                                      100                           0.566   \n",
       "                                      500                           0.560   \n",
       "                              1.0     50                            0.551   \n",
       "                                      100                           0.559   \n",
       "                                      500                           0.554   \n",
       "                              2.0     50                            0.533   \n",
       "                                      100                           0.544   \n",
       "                                      500                           0.545   \n",
       "                      4       0.5     50                            0.559   \n",
       "                                      100                           0.566   \n",
       "                                      500                           0.560   \n",
       "                              1.0     50                            0.551   \n",
       "                                      100                           0.559   \n",
       "                                      500                           0.554   \n",
       "                              2.0     50                            0.534   \n",
       "                                      100                           0.544   \n",
       "                                      500                           0.546   \n",
       "                      8       0.5     50                            0.559   \n",
       "                                      100                           0.566   \n",
       "                                      500                           0.560   \n",
       "                              1.0     50                            0.551   \n",
       "                                      100                           0.559   \n",
       "                                      500                           0.554   \n",
       "                              2.0     50                            0.534   \n",
       "                                      100                           0.544   \n",
       "                                      500                           0.546   \n",
       "               128    2       0.5     50                            0.574   \n",
       "                                      100                           0.578   \n",
       "                                      500                           0.570   \n",
       "                              1.0     50                            0.566   \n",
       "                                      100                           0.570   \n",
       "                                      500                           0.565   \n",
       "                              2.0     50                            0.543   \n",
       "                                      100                           0.551   \n",
       "                                      500                           0.555   \n",
       "                      4       0.5     50                            0.574   \n",
       "                                      100                           0.578   \n",
       "                                      500                           0.570   \n",
       "                              1.0     50                            0.566   \n",
       "                                      100                           0.570   \n",
       "                                      500                           0.565   \n",
       "                              2.0     50                            0.543   \n",
       "                                      100                           0.551   \n",
       "                                      500                           0.555   \n",
       "                      8       0.5     50                            0.574   \n",
       "                                      100                           0.578   \n",
       "                                      500                           0.570   \n",
       "                              1.0     50                            0.566   \n",
       "                                      100                           0.570   \n",
       "                                      500                           0.565   \n",
       "                              2.0     50                            0.543   \n",
       "                                      100                           0.551   \n",
       "                                      500                           0.555   \n",
       "\n",
       "                                                 Correct Metric Level Continuous  \\\n",
       "aggregate fmax n_mels ac_size std_bpm tightness                                    \n",
       "mean      8000 32     2       0.5     50                                   0.280   \n",
       "                                      100                                  0.358   \n",
       "                                      500                                  0.429   \n",
       "                              1.0     50                                   0.295   \n",
       "                                      100                                  0.383   \n",
       "                                      500                                  0.473   \n",
       "                              2.0     50                                   0.287   \n",
       "                                      100                                  0.369   \n",
       "                                      500                                  0.462   \n",
       "                      4       0.5     50                                   0.280   \n",
       "                                      100                                  0.358   \n",
       "                                      500                                  0.429   \n",
       "                              1.0     50                                   0.295   \n",
       "                                      100                                  0.383   \n",
       "                                      500                                  0.473   \n",
       "                              2.0     50                                   0.287   \n",
       "                                      100                                  0.369   \n",
       "                                      500                                  0.462   \n",
       "                      8       0.5     50                                   0.280   \n",
       "                                      100                                  0.358   \n",
       "                                      500                                  0.429   \n",
       "                              1.0     50                                   0.295   \n",
       "                                      100                                  0.383   \n",
       "                                      500                                  0.473   \n",
       "                              2.0     50                                   0.287   \n",
       "                                      100                                  0.369   \n",
       "                                      500                                  0.462   \n",
       "               64     2       0.5     50                                   0.270   \n",
       "                                      100                                  0.344   \n",
       "                                      500                                  0.403   \n",
       "                              1.0     50                                   0.294   \n",
       "                                      100                                  0.384   \n",
       "                                      500                                  0.469   \n",
       "                              2.0     50                                   0.282   \n",
       "                                      100                                  0.375   \n",
       "                                      500                                  0.450   \n",
       "                      4       0.5     50                                   0.270   \n",
       "                                      100                                  0.344   \n",
       "                                      500                                  0.403   \n",
       "                              1.0     50                                   0.294   \n",
       "                                      100                                  0.384   \n",
       "                                      500                                  0.469   \n",
       "                              2.0     50                                   0.282   \n",
       "                                      100                                  0.375   \n",
       "                                      500                                  0.450   \n",
       "                      8       0.5     50                                   0.270   \n",
       "                                      100                                  0.344   \n",
       "                                      500                                  0.403   \n",
       "                              1.0     50                                   0.294   \n",
       "                                      100                                  0.384   \n",
       "                                      500                                  0.469   \n",
       "                              2.0     50                                   0.282   \n",
       "                                      100                                  0.375   \n",
       "                                      500                                  0.450   \n",
       "               128    2       0.5     50                                   0.274   \n",
       "                                      100                                  0.338   \n",
       "                                      500                                  0.389   \n",
       "                              1.0     50                                   0.302   \n",
       "                                      100                                  0.383   \n",
       "                                      500                                  0.454   \n",
       "                              2.0     50                                   0.296   \n",
       "                                      100                                  0.380   \n",
       "                                      500                                  0.443   \n",
       "                      4       0.5     50                                   0.274   \n",
       "                                      100                                  0.338   \n",
       "                                      500                                  0.389   \n",
       "                              1.0     50                                   0.302   \n",
       "                                      100                                  0.383   \n",
       "                                      500                                  0.454   \n",
       "                              2.0     50                                   0.296   \n",
       "                                      100                                  0.380   \n",
       "                                      500                                  0.443   \n",
       "                      8       0.5     50                                   0.274   \n",
       "                                      100                                  0.338   \n",
       "                                      500                                  0.389   \n",
       "                              1.0     50                                   0.302   \n",
       "                                      100                                  0.383   \n",
       "                                      500                                  0.454   \n",
       "                              2.0     50                                   0.296   \n",
       "                                      100                                  0.380   \n",
       "                                      500                                  0.443   \n",
       "median    8000 32     2       0.5     50                                   0.367   \n",
       "                                      100                                  0.431   \n",
       "                                      500                                  0.479   \n",
       "                              1.0     50                                   0.344   \n",
       "                                      100                                  0.402   \n",
       "                                      500                                  0.461   \n",
       "                              2.0     50                                   0.234   \n",
       "                                      100                                  0.276   \n",
       "                                      500                                  0.317   \n",
       "                      4       0.5     50                                   0.367   \n",
       "                                      100                                  0.431   \n",
       "                                      500                                  0.479   \n",
       "                              1.0     50                                   0.344   \n",
       "                                      100                                  0.402   \n",
       "                                      500                                  0.461   \n",
       "                              2.0     50                                   0.234   \n",
       "                                      100                                  0.276   \n",
       "                                      500                                  0.317   \n",
       "                      8       0.5     50                                   0.367   \n",
       "                                      100                                  0.431   \n",
       "                                      500                                  0.479   \n",
       "                              1.0     50                                   0.344   \n",
       "                                      100                                  0.402   \n",
       "                                      500                                  0.461   \n",
       "                              2.0     50                                   0.234   \n",
       "                                      100                                  0.276   \n",
       "                                      500                                  0.317   \n",
       "               64     2       0.5     50                                   0.429   \n",
       "                                      100                                  0.499   \n",
       "                                      500                                  0.516   \n",
       "                              1.0     50                                   0.393   \n",
       "                                      100                                  0.454   \n",
       "                                      500                                  0.472   \n",
       "                              2.0     50                                   0.255   \n",
       "                                      100                                  0.295   \n",
       "                                      500                                  0.309   \n",
       "                      4       0.5     50                                   0.429   \n",
       "                                      100                                  0.499   \n",
       "                                      500                                  0.516   \n",
       "                              1.0     50                                   0.393   \n",
       "                                      100                                  0.454   \n",
       "                                      500                                  0.472   \n",
       "                              2.0     50                                   0.255   \n",
       "                                      100                                  0.295   \n",
       "                                      500                                  0.309   \n",
       "                      8       0.5     50                                   0.429   \n",
       "                                      100                                  0.499   \n",
       "                                      500                                  0.516   \n",
       "                              1.0     50                                   0.393   \n",
       "                                      100                                  0.454   \n",
       "                                      500                                  0.472   \n",
       "                              2.0     50                                   0.255   \n",
       "                                      100                                  0.295   \n",
       "                                      500                                  0.309   \n",
       "               128    2       0.5     50                                   0.455   \n",
       "                                      100                                  0.507   \n",
       "                                      500                                  0.528   \n",
       "                              1.0     50                                   0.396   \n",
       "                                      100                                  0.436   \n",
       "                                      500                                  0.459   \n",
       "                              2.0     50                                   0.258   \n",
       "                                      100                                  0.288   \n",
       "                                      500                                  0.299   \n",
       "                      4       0.5     50                                   0.455   \n",
       "                                      100                                  0.507   \n",
       "                                      500                                  0.528   \n",
       "                              1.0     50                                   0.396   \n",
       "                                      100                                  0.436   \n",
       "                                      500                                  0.459   \n",
       "                              2.0     50                                   0.258   \n",
       "                                      100                                  0.288   \n",
       "                                      500                                  0.299   \n",
       "                      8       0.5     50                                   0.455   \n",
       "                                      100                                  0.507   \n",
       "                                      500                                  0.528   \n",
       "                              1.0     50                                   0.396   \n",
       "                                      100                                  0.436   \n",
       "                                      500                                  0.459   \n",
       "                              2.0     50                                   0.258   \n",
       "                                      100                                  0.288   \n",
       "                                      500                                  0.299   \n",
       "\n",
       "                                                 Correct Metric Level Total  \\\n",
       "aggregate fmax n_mels ac_size std_bpm tightness                               \n",
       "mean      8000 32     2       0.5     50                              0.567   \n",
       "                                      100                             0.580   \n",
       "                                      500                             0.577   \n",
       "                              1.0     50                              0.616   \n",
       "                                      100                             0.633   \n",
       "                                      500                             0.635   \n",
       "                              2.0     50                              0.602   \n",
       "                                      100                             0.617   \n",
       "                                      500                             0.622   \n",
       "                      4       0.5     50                              0.567   \n",
       "                                      100                             0.580   \n",
       "                                      500                             0.577   \n",
       "                              1.0     50                              0.616   \n",
       "                                      100                             0.633   \n",
       "                                      500                             0.635   \n",
       "                              2.0     50                              0.602   \n",
       "                                      100                             0.617   \n",
       "                                      500                             0.622   \n",
       "                      8       0.5     50                              0.567   \n",
       "                                      100                             0.580   \n",
       "                                      500                             0.577   \n",
       "                              1.0     50                              0.616   \n",
       "                                      100                             0.633   \n",
       "                                      500                             0.635   \n",
       "                              2.0     50                              0.602   \n",
       "                                      100                             0.617   \n",
       "                                      500                             0.622   \n",
       "               64     2       0.5     50                              0.551   \n",
       "                                      100                             0.558   \n",
       "                                      500                             0.549   \n",
       "                              1.0     50                              0.619   \n",
       "                                      100                             0.633   \n",
       "                                      500                             0.635   \n",
       "                              2.0     50                              0.594   \n",
       "                                      100                             0.606   \n",
       "                                      500                             0.611   \n",
       "                      4       0.5     50                              0.551   \n",
       "                                      100                             0.558   \n",
       "                                      500                             0.549   \n",
       "                              1.0     50                              0.619   \n",
       "                                      100                             0.633   \n",
       "                                      500                             0.635   \n",
       "                              2.0     50                              0.594   \n",
       "                                      100                             0.606   \n",
       "                                      500                             0.611   \n",
       "                      8       0.5     50                              0.551   \n",
       "                                      100                             0.558   \n",
       "                                      500                             0.549   \n",
       "                              1.0     50                              0.619   \n",
       "                                      100                             0.633   \n",
       "                                      500                             0.635   \n",
       "                              2.0     50                              0.594   \n",
       "                                      100                             0.606   \n",
       "                                      500                             0.611   \n",
       "               128    2       0.5     50                              0.547   \n",
       "                                      100                             0.552   \n",
       "                                      500                             0.537   \n",
       "                              1.0     50                              0.609   \n",
       "                                      100                             0.623   \n",
       "                                      500                             0.621   \n",
       "                              2.0     50                              0.598   \n",
       "                                      100                             0.611   \n",
       "                                      500                             0.610   \n",
       "                      4       0.5     50                              0.547   \n",
       "                                      100                             0.552   \n",
       "                                      500                             0.537   \n",
       "                              1.0     50                              0.609   \n",
       "                                      100                             0.623   \n",
       "                                      500                             0.621   \n",
       "                              2.0     50                              0.598   \n",
       "                                      100                             0.611   \n",
       "                                      500                             0.610   \n",
       "                      8       0.5     50                              0.547   \n",
       "                                      100                             0.552   \n",
       "                                      500                             0.537   \n",
       "                              1.0     50                              0.609   \n",
       "                                      100                             0.623   \n",
       "                                      500                             0.621   \n",
       "                              2.0     50                              0.598   \n",
       "                                      100                             0.611   \n",
       "                                      500                             0.610   \n",
       "median    8000 32     2       0.5     50                              0.573   \n",
       "                                      100                             0.587   \n",
       "                                      500                             0.588   \n",
       "                              1.0     50                              0.551   \n",
       "                                      100                             0.563   \n",
       "                                      500                             0.561   \n",
       "                              2.0     50                              0.381   \n",
       "                                      100                             0.388   \n",
       "                                      500                             0.386   \n",
       "                      4       0.5     50                              0.573   \n",
       "                                      100                             0.587   \n",
       "                                      500                             0.588   \n",
       "                              1.0     50                              0.551   \n",
       "                                      100                             0.563   \n",
       "                                      500                             0.561   \n",
       "                              2.0     50                              0.381   \n",
       "                                      100                             0.388   \n",
       "                                      500                             0.386   \n",
       "                      8       0.5     50                              0.573   \n",
       "                                      100                             0.587   \n",
       "                                      500                             0.588   \n",
       "                              1.0     50                              0.551   \n",
       "                                      100                             0.563   \n",
       "                                      500                             0.561   \n",
       "                              2.0     50                              0.381   \n",
       "                                      100                             0.388   \n",
       "                                      500                             0.386   \n",
       "               64     2       0.5     50                              0.619   \n",
       "                                      100                             0.627   \n",
       "                                      500                             0.619   \n",
       "                              1.0     50                              0.582   \n",
       "                                      100                             0.587   \n",
       "                                      500                             0.576   \n",
       "                              2.0     50                              0.394   \n",
       "                                      100                             0.397   \n",
       "                                      500                             0.390   \n",
       "                      4       0.5     50                              0.619   \n",
       "                                      100                             0.627   \n",
       "                                      500                             0.619   \n",
       "                              1.0     50                              0.582   \n",
       "                                      100                             0.587   \n",
       "                                      500                             0.576   \n",
       "                              2.0     50                              0.394   \n",
       "                                      100                             0.397   \n",
       "                                      500                             0.390   \n",
       "                      8       0.5     50                              0.619   \n",
       "                                      100                             0.627   \n",
       "                                      500                             0.619   \n",
       "                              1.0     50                              0.582   \n",
       "                                      100                             0.587   \n",
       "                                      500                             0.576   \n",
       "                              2.0     50                              0.394   \n",
       "                                      100                             0.397   \n",
       "                                      500                             0.390   \n",
       "               128    2       0.5     50                              0.617   \n",
       "                                      100                             0.621   \n",
       "                                      500                             0.615   \n",
       "                              1.0     50                              0.551   \n",
       "                                      100                             0.552   \n",
       "                                      500                             0.543   \n",
       "                              2.0     50                              0.376   \n",
       "                                      100                             0.375   \n",
       "                                      500                             0.369   \n",
       "                      4       0.5     50                              0.617   \n",
       "                                      100                             0.621   \n",
       "                                      500                             0.615   \n",
       "                              1.0     50                              0.551   \n",
       "                                      100                             0.552   \n",
       "                                      500                             0.543   \n",
       "                              2.0     50                              0.376   \n",
       "                                      100                             0.375   \n",
       "                                      500                             0.369   \n",
       "                      8       0.5     50                              0.617   \n",
       "                                      100                             0.621   \n",
       "                                      500                             0.615   \n",
       "                              1.0     50                              0.551   \n",
       "                                      100                             0.552   \n",
       "                                      500                             0.543   \n",
       "                              2.0     50                              0.376   \n",
       "                                      100                             0.375   \n",
       "                                      500                             0.369   \n",
       "\n",
       "                                                 F-measure   Goto  \\\n",
       "aggregate fmax n_mels ac_size std_bpm tightness                     \n",
       "mean      8000 32     2       0.5     50             0.635  0.385   \n",
       "                                      100            0.645  0.425   \n",
       "                                      500            0.640  0.458   \n",
       "                              1.0     50             0.673  0.413   \n",
       "                                      100            0.686  0.464   \n",
       "                                      500            0.685  0.508   \n",
       "                              2.0     50             0.667  0.397   \n",
       "                                      100            0.680  0.453   \n",
       "                                      500            0.683  0.492   \n",
       "                      4       0.5     50             0.635  0.385   \n",
       "                                      100            0.645  0.425   \n",
       "                                      500            0.640  0.458   \n",
       "                              1.0     50             0.673  0.413   \n",
       "                                      100            0.686  0.464   \n",
       "                                      500            0.685  0.508   \n",
       "                              2.0     50             0.667  0.397   \n",
       "                                      100            0.680  0.453   \n",
       "                                      500            0.683  0.492   \n",
       "                      8       0.5     50             0.635  0.385   \n",
       "                                      100            0.645  0.425   \n",
       "                                      500            0.640  0.458   \n",
       "                              1.0     50             0.673  0.413   \n",
       "                                      100            0.686  0.464   \n",
       "                                      500            0.685  0.508   \n",
       "                              2.0     50             0.667  0.397   \n",
       "                                      100            0.680  0.453   \n",
       "                                      500            0.683  0.492   \n",
       "               64     2       0.5     50             0.622  0.363   \n",
       "                                      100            0.626  0.402   \n",
       "                                      500            0.615  0.419   \n",
       "                              1.0     50             0.674  0.397   \n",
       "                                      100            0.686  0.469   \n",
       "                                      500            0.683  0.492   \n",
       "                              2.0     50             0.665  0.391   \n",
       "                                      100            0.676  0.447   \n",
       "                                      500            0.675  0.464   \n",
       "                      4       0.5     50             0.622  0.363   \n",
       "                                      100            0.626  0.402   \n",
       "                                      500            0.615  0.419   \n",
       "                              1.0     50             0.674  0.397   \n",
       "                                      100            0.686  0.469   \n",
       "                                      500            0.683  0.492   \n",
       "                              2.0     50             0.665  0.391   \n",
       "                                      100            0.676  0.447   \n",
       "                                      500            0.675  0.464   \n",
       "                      8       0.5     50             0.622  0.363   \n",
       "                                      100            0.626  0.402   \n",
       "                                      500            0.615  0.419   \n",
       "                              1.0     50             0.674  0.397   \n",
       "                                      100            0.686  0.469   \n",
       "                                      500            0.683  0.492   \n",
       "                              2.0     50             0.665  0.391   \n",
       "                                      100            0.676  0.447   \n",
       "                                      500            0.675  0.464   \n",
       "               128    2       0.5     50             0.613  0.358   \n",
       "                                      100            0.617  0.402   \n",
       "                                      500            0.598  0.391   \n",
       "                              1.0     50             0.665  0.385   \n",
       "                                      100            0.677  0.458   \n",
       "                                      500            0.670  0.458   \n",
       "                              2.0     50             0.661  0.369   \n",
       "                                      100            0.673  0.430   \n",
       "                                      500            0.666  0.441   \n",
       "                      4       0.5     50             0.613  0.358   \n",
       "                                      100            0.617  0.402   \n",
       "                                      500            0.598  0.391   \n",
       "                              1.0     50             0.665  0.385   \n",
       "                                      100            0.677  0.458   \n",
       "                                      500            0.670  0.458   \n",
       "                              2.0     50             0.661  0.369   \n",
       "                                      100            0.673  0.430   \n",
       "                                      500            0.666  0.441   \n",
       "                      8       0.5     50             0.613  0.358   \n",
       "                                      100            0.617  0.402   \n",
       "                                      500            0.598  0.391   \n",
       "                              1.0     50             0.665  0.385   \n",
       "                                      100            0.677  0.458   \n",
       "                                      500            0.670  0.458   \n",
       "                              2.0     50             0.661  0.369   \n",
       "                                      100            0.673  0.430   \n",
       "                                      500            0.666  0.441   \n",
       "median    8000 32     2       0.5     50             0.657  0.480   \n",
       "                                      100            0.667  0.486   \n",
       "                                      500            0.660  0.503   \n",
       "                              1.0     50             0.648  0.453   \n",
       "                                      100            0.657  0.464   \n",
       "                                      500            0.652  0.480   \n",
       "                              2.0     50             0.589  0.302   \n",
       "                                      100            0.599  0.318   \n",
       "                                      500            0.601  0.335   \n",
       "                      4       0.5     50             0.657  0.480   \n",
       "                                      100            0.667  0.486   \n",
       "                                      500            0.660  0.503   \n",
       "                              1.0     50             0.648  0.453   \n",
       "                                      100            0.657  0.464   \n",
       "                                      500            0.652  0.480   \n",
       "                              2.0     50             0.589  0.302   \n",
       "                                      100            0.599  0.318   \n",
       "                                      500            0.601  0.335   \n",
       "                      8       0.5     50             0.657  0.480   \n",
       "                                      100            0.667  0.486   \n",
       "                                      500            0.660  0.503   \n",
       "                              1.0     50             0.648  0.453   \n",
       "                                      100            0.657  0.464   \n",
       "                                      500            0.652  0.480   \n",
       "                              2.0     50             0.589  0.302   \n",
       "                                      100            0.599  0.318   \n",
       "                                      500            0.601  0.335   \n",
       "               64     2       0.5     50             0.685  0.520   \n",
       "                                      100            0.691  0.531   \n",
       "                                      500            0.679  0.536   \n",
       "                              1.0     50             0.668  0.469   \n",
       "                                      100            0.673  0.486   \n",
       "                                      500            0.660  0.492   \n",
       "                              2.0     50             0.605  0.291   \n",
       "                                      100            0.611  0.313   \n",
       "                                      500            0.604  0.324   \n",
       "                      4       0.5     50             0.685  0.520   \n",
       "                                      100            0.691  0.531   \n",
       "                                      500            0.679  0.536   \n",
       "                              1.0     50             0.668  0.469   \n",
       "                                      100            0.673  0.486   \n",
       "                                      500            0.660  0.492   \n",
       "                              2.0     50             0.605  0.291   \n",
       "                                      100            0.611  0.313   \n",
       "                                      500            0.604  0.324   \n",
       "                      8       0.5     50             0.685  0.520   \n",
       "                                      100            0.691  0.531   \n",
       "                                      500            0.679  0.536   \n",
       "                              1.0     50             0.668  0.469   \n",
       "                                      100            0.673  0.486   \n",
       "                                      500            0.660  0.492   \n",
       "                              2.0     50             0.605  0.291   \n",
       "                                      100            0.611  0.313   \n",
       "                                      500            0.604  0.324   \n",
       "               128    2       0.5     50             0.691  0.525   \n",
       "                                      100            0.693  0.525   \n",
       "                                      500            0.682  0.542   \n",
       "                              1.0     50             0.663  0.441   \n",
       "                                      100            0.666  0.447   \n",
       "                                      500            0.655  0.469   \n",
       "                              2.0     50             0.594  0.279   \n",
       "                                      100            0.598  0.291   \n",
       "                                      500            0.593  0.307   \n",
       "                      4       0.5     50             0.691  0.525   \n",
       "                                      100            0.693  0.525   \n",
       "                                      500            0.682  0.542   \n",
       "                              1.0     50             0.663  0.441   \n",
       "                                      100            0.666  0.447   \n",
       "                                      500            0.655  0.469   \n",
       "                              2.0     50             0.594  0.279   \n",
       "                                      100            0.598  0.291   \n",
       "                                      500            0.593  0.307   \n",
       "                      8       0.5     50             0.691  0.525   \n",
       "                                      100            0.693  0.525   \n",
       "                                      500            0.682  0.542   \n",
       "                              1.0     50             0.663  0.441   \n",
       "                                      100            0.666  0.447   \n",
       "                                      500            0.655  0.469   \n",
       "                              2.0     50             0.594  0.279   \n",
       "                                      100            0.598  0.291   \n",
       "                                      500            0.593  0.307   \n",
       "\n",
       "                                                 Information gain  P-score  \\\n",
       "aggregate fmax n_mels ac_size std_bpm tightness                              \n",
       "mean      8000 32     2       0.5     50                    0.371    0.716   \n",
       "                                      100                   0.394    0.725   \n",
       "                                      500                   0.388    0.719   \n",
       "                              1.0     50                    0.402    0.751   \n",
       "                                      100                   0.429    0.762   \n",
       "                                      500                   0.433    0.760   \n",
       "                              2.0     50                    0.402    0.746   \n",
       "                                      100                   0.429    0.757   \n",
       "                                      500                   0.439    0.758   \n",
       "                      4       0.5     50                    0.371    0.716   \n",
       "                                      100                   0.394    0.725   \n",
       "                                      500                   0.388    0.719   \n",
       "                              1.0     50                    0.402    0.751   \n",
       "                                      100                   0.429    0.762   \n",
       "                                      500                   0.433    0.760   \n",
       "                              2.0     50                    0.402    0.746   \n",
       "                                      100                   0.429    0.757   \n",
       "                                      500                   0.439    0.758   \n",
       "                      8       0.5     50                    0.371    0.716   \n",
       "                                      100                   0.394    0.725   \n",
       "                                      500                   0.388    0.719   \n",
       "                              1.0     50                    0.402    0.751   \n",
       "                                      100                   0.429    0.762   \n",
       "                                      500                   0.433    0.760   \n",
       "                              2.0     50                    0.402    0.746   \n",
       "                                      100                   0.429    0.757   \n",
       "                                      500                   0.439    0.758   \n",
       "               64     2       0.5     50                    0.367    0.713   \n",
       "                                      100                   0.384    0.716   \n",
       "                                      500                   0.378    0.704   \n",
       "                              1.0     50                    0.412    0.758   \n",
       "                                      100                   0.434    0.767   \n",
       "                                      500                   0.436    0.765   \n",
       "                              2.0     50                    0.413    0.744   \n",
       "                                      100                   0.436    0.753   \n",
       "                                      500                   0.444    0.754   \n",
       "                      4       0.5     50                    0.367    0.713   \n",
       "                                      100                   0.384    0.716   \n",
       "                                      500                   0.378    0.704   \n",
       "                              1.0     50                    0.412    0.758   \n",
       "                                      100                   0.434    0.767   \n",
       "                                      500                   0.436    0.765   \n",
       "                              2.0     50                    0.413    0.744   \n",
       "                                      100                   0.436    0.753   \n",
       "                                      500                   0.444    0.754   \n",
       "                      8       0.5     50                    0.367    0.713   \n",
       "                                      100                   0.384    0.716   \n",
       "                                      500                   0.378    0.704   \n",
       "                              1.0     50                    0.412    0.758   \n",
       "                                      100                   0.434    0.767   \n",
       "                                      500                   0.436    0.765   \n",
       "                              2.0     50                    0.413    0.744   \n",
       "                                      100                   0.436    0.753   \n",
       "                                      500                   0.444    0.754   \n",
       "               128    2       0.5     50                    0.366    0.713   \n",
       "                                      100                   0.382    0.714   \n",
       "                                      500                   0.366    0.697   \n",
       "                              1.0     50                    0.415    0.754   \n",
       "                                      100                   0.437    0.762   \n",
       "                                      500                   0.433    0.758   \n",
       "                              2.0     50                    0.420    0.749   \n",
       "                                      100                   0.443    0.758   \n",
       "                                      500                   0.444    0.754   \n",
       "                      4       0.5     50                    0.366    0.713   \n",
       "                                      100                   0.382    0.714   \n",
       "                                      500                   0.366    0.697   \n",
       "                              1.0     50                    0.415    0.754   \n",
       "                                      100                   0.437    0.762   \n",
       "                                      500                   0.433    0.758   \n",
       "                              2.0     50                    0.420    0.749   \n",
       "                                      100                   0.443    0.758   \n",
       "                                      500                   0.444    0.754   \n",
       "                      8       0.5     50                    0.366    0.713   \n",
       "                                      100                   0.382    0.714   \n",
       "                                      500                   0.366    0.697   \n",
       "                              1.0     50                    0.415    0.754   \n",
       "                                      100                   0.437    0.762   \n",
       "                                      500                   0.433    0.758   \n",
       "                              2.0     50                    0.420    0.749   \n",
       "                                      100                   0.443    0.758   \n",
       "                                      500                   0.444    0.754   \n",
       "median    8000 32     2       0.5     50                    0.426    0.704   \n",
       "                                      100                   0.444    0.713   \n",
       "                                      500                   0.435    0.711   \n",
       "                              1.0     50                    0.436    0.690   \n",
       "                                      100                   0.456    0.696   \n",
       "                                      500                   0.453    0.692   \n",
       "                              2.0     50                    0.422    0.601   \n",
       "                                      100                   0.447    0.608   \n",
       "                                      500                   0.454    0.607   \n",
       "                      4       0.5     50                    0.426    0.704   \n",
       "                                      100                   0.444    0.713   \n",
       "                                      500                   0.435    0.711   \n",
       "                              1.0     50                    0.436    0.690   \n",
       "                                      100                   0.456    0.696   \n",
       "                                      500                   0.453    0.692   \n",
       "                              2.0     50                    0.422    0.601   \n",
       "                                      100                   0.447    0.608   \n",
       "                                      500                   0.454    0.607   \n",
       "                      8       0.5     50                    0.426    0.704   \n",
       "                                      100                   0.444    0.713   \n",
       "                                      500                   0.435    0.711   \n",
       "                              1.0     50                    0.436    0.690   \n",
       "                                      100                   0.456    0.696   \n",
       "                                      500                   0.453    0.692   \n",
       "                              2.0     50                    0.422    0.601   \n",
       "                                      100                   0.447    0.608   \n",
       "                                      500                   0.454    0.607   \n",
       "               64     2       0.5     50                    0.463    0.730   \n",
       "                                      100                   0.477    0.734   \n",
       "                                      500                   0.465    0.725   \n",
       "                              1.0     50                    0.471    0.712   \n",
       "                                      100                   0.486    0.715   \n",
       "                                      500                   0.474    0.702   \n",
       "                              2.0     50                    0.453    0.611   \n",
       "                                      100                   0.469    0.615   \n",
       "                                      500                   0.467    0.608   \n",
       "                      4       0.5     50                    0.463    0.730   \n",
       "                                      100                   0.477    0.734   \n",
       "                                      500                   0.465    0.725   \n",
       "                              1.0     50                    0.471    0.712   \n",
       "                                      100                   0.486    0.715   \n",
       "                                      500                   0.474    0.702   \n",
       "                              2.0     50                    0.455    0.610   \n",
       "                                      100                   0.471    0.615   \n",
       "                                      500                   0.467    0.608   \n",
       "                      8       0.5     50                    0.463    0.730   \n",
       "                                      100                   0.477    0.734   \n",
       "                                      500                   0.465    0.725   \n",
       "                              1.0     50                    0.471    0.712   \n",
       "                                      100                   0.486    0.715   \n",
       "                                      500                   0.474    0.702   \n",
       "                              2.0     50                    0.455    0.610   \n",
       "                                      100                   0.471    0.615   \n",
       "                                      500                   0.467    0.608   \n",
       "               128    2       0.5     50                    0.476    0.728   \n",
       "                                      100                   0.486    0.731   \n",
       "                                      500                   0.471    0.723   \n",
       "                              1.0     50                    0.482    0.696   \n",
       "                                      100                   0.493    0.697   \n",
       "                                      500                   0.482    0.687   \n",
       "                              2.0     50                    0.464    0.594   \n",
       "                                      100                   0.479    0.596   \n",
       "                                      500                   0.478    0.591   \n",
       "                      4       0.5     50                    0.476    0.728   \n",
       "                                      100                   0.486    0.731   \n",
       "                                      500                   0.471    0.723   \n",
       "                              1.0     50                    0.482    0.696   \n",
       "                                      100                   0.493    0.697   \n",
       "                                      500                   0.482    0.687   \n",
       "                              2.0     50                    0.464    0.594   \n",
       "                                      100                   0.479    0.596   \n",
       "                                      500                   0.478    0.591   \n",
       "                      8       0.5     50                    0.476    0.728   \n",
       "                                      100                   0.486    0.731   \n",
       "                                      500                   0.471    0.723   \n",
       "                              1.0     50                    0.482    0.696   \n",
       "                                      100                   0.493    0.697   \n",
       "                                      500                   0.482    0.687   \n",
       "                              2.0     50                    0.464    0.594   \n",
       "                                      100                   0.479    0.596   \n",
       "                                      500                   0.478    0.591   \n",
       "\n",
       "                                                 index  \n",
       "aggregate fmax n_mels ac_size std_bpm tightness         \n",
       "mean      8000 32     2       0.5     50            89  \n",
       "                                      100           89  \n",
       "                                      500           89  \n",
       "                              1.0     50            89  \n",
       "                                      100           89  \n",
       "                                      500           89  \n",
       "                              2.0     50            89  \n",
       "                                      100           89  \n",
       "                                      500           89  \n",
       "                      4       0.5     50            89  \n",
       "                                      100           89  \n",
       "                                      500           89  \n",
       "                              1.0     50            89  \n",
       "                                      100           89  \n",
       "                                      500           89  \n",
       "                              2.0     50            89  \n",
       "                                      100           89  \n",
       "                                      500           89  \n",
       "                      8       0.5     50            89  \n",
       "                                      100           89  \n",
       "                                      500           89  \n",
       "                              1.0     50            89  \n",
       "                                      100           89  \n",
       "                                      500           89  \n",
       "                              2.0     50            89  \n",
       "                                      100           89  \n",
       "                                      500           89  \n",
       "               64     2       0.5     50            89  \n",
       "                                      100           89  \n",
       "                                      500           89  \n",
       "                              1.0     50            89  \n",
       "                                      100           89  \n",
       "                                      500           89  \n",
       "                              2.0     50            89  \n",
       "                                      100           89  \n",
       "                                      500           89  \n",
       "                      4       0.5     50            89  \n",
       "                                      100           89  \n",
       "                                      500           89  \n",
       "                              1.0     50            89  \n",
       "                                      100           89  \n",
       "                                      500           89  \n",
       "                              2.0     50            89  \n",
       "                                      100           89  \n",
       "                                      500           89  \n",
       "                      8       0.5     50            89  \n",
       "                                      100           89  \n",
       "                                      500           89  \n",
       "                              1.0     50            89  \n",
       "                                      100           89  \n",
       "                                      500           89  \n",
       "                              2.0     50            89  \n",
       "                                      100           89  \n",
       "                                      500           89  \n",
       "               128    2       0.5     50            89  \n",
       "                                      100           89  \n",
       "                                      500           89  \n",
       "                              1.0     50            89  \n",
       "                                      100           89  \n",
       "                                      500           89  \n",
       "                              2.0     50            89  \n",
       "                                      100           89  \n",
       "                                      500           89  \n",
       "                      4       0.5     50            89  \n",
       "                                      100           89  \n",
       "                                      500           89  \n",
       "                              1.0     50            89  \n",
       "                                      100           89  \n",
       "                                      500           89  \n",
       "                              2.0     50            89  \n",
       "                                      100           89  \n",
       "                                      500           89  \n",
       "                      8       0.5     50            89  \n",
       "                                      100           89  \n",
       "                                      500           89  \n",
       "                              1.0     50            89  \n",
       "                                      100           89  \n",
       "                                      500           89  \n",
       "                              2.0     50            89  \n",
       "                                      100           89  \n",
       "                                      500           89  \n",
       "median    8000 32     2       0.5     50            89  \n",
       "                                      100           89  \n",
       "                                      500           89  \n",
       "                              1.0     50            89  \n",
       "                                      100           89  \n",
       "                                      500           89  \n",
       "                              2.0     50            89  \n",
       "                                      100           89  \n",
       "                                      500           89  \n",
       "                      4       0.5     50            89  \n",
       "                                      100           89  \n",
       "                                      500           89  \n",
       "                              1.0     50            89  \n",
       "                                      100           89  \n",
       "                                      500           89  \n",
       "                              2.0     50            89  \n",
       "                                      100           89  \n",
       "                                      500           89  \n",
       "                      8       0.5     50            89  \n",
       "                                      100           89  \n",
       "                                      500           89  \n",
       "                              1.0     50            89  \n",
       "                                      100           89  \n",
       "                                      500           89  \n",
       "                              2.0     50            89  \n",
       "                                      100           89  \n",
       "                                      500           89  \n",
       "               64     2       0.5     50            89  \n",
       "                                      100           89  \n",
       "                                      500           89  \n",
       "                              1.0     50            89  \n",
       "                                      100           89  \n",
       "                                      500           89  \n",
       "                              2.0     50            89  \n",
       "                                      100           89  \n",
       "                                      500           89  \n",
       "                      4       0.5     50            89  \n",
       "                                      100           89  \n",
       "                                      500           89  \n",
       "                              1.0     50            89  \n",
       "                                      100           89  \n",
       "                                      500           89  \n",
       "                              2.0     50            89  \n",
       "                                      100           89  \n",
       "                                      500           89  \n",
       "                      8       0.5     50            89  \n",
       "                                      100           89  \n",
       "                                      500           89  \n",
       "                              1.0     50            89  \n",
       "                                      100           89  \n",
       "                                      500           89  \n",
       "                              2.0     50            89  \n",
       "                                      100           89  \n",
       "                                      500           89  \n",
       "               128    2       0.5     50            89  \n",
       "                                      100           89  \n",
       "                                      500           89  \n",
       "                              1.0     50            89  \n",
       "                                      100           89  \n",
       "                                      500           89  \n",
       "                              2.0     50            89  \n",
       "                                      100           89  \n",
       "                                      500           89  \n",
       "                      4       0.5     50            89  \n",
       "                                      100           89  \n",
       "                                      500           89  \n",
       "                              1.0     50            89  \n",
       "                                      100           89  \n",
       "                                      500           89  \n",
       "                              2.0     50            89  \n",
       "                                      100           89  \n",
       "                                      500           89  \n",
       "                      8       0.5     50            89  \n",
       "                                      100           89  \n",
       "                                      500           89  \n",
       "                              1.0     50            89  \n",
       "                                      100           89  \n",
       "                                      500           89  \n",
       "                              2.0     50            89  \n",
       "                                      100           89  \n",
       "                                      500           89  "
      ]
     },
     "execution_count": 28,
     "metadata": {},
     "output_type": "execute_result"
    }
   ],
   "source": [
    "beatles_scores"
   ]
  },
  {
   "cell_type": "code",
   "execution_count": 17,
   "metadata": {
    "collapsed": true
   },
   "outputs": [],
   "source": [
    "best_igain_b = beatles_scores['Information gain'].argmax()\n",
    "best_fmeas_b = beatles_scores['F-measure'].argmax()\n",
    "best_amlt_b = beatles_scores['Any Metric Level Total'].argmax()"
   ]
  },
  {
   "cell_type": "code",
   "execution_count": 27,
   "metadata": {
    "collapsed": false
   },
   "outputs": [
    {
     "name": "stdout",
     "output_type": "stream",
     "text": [
      "(u'median', 8000.0, 128, 8, 2.0, 100)\n",
      "(u'mean', 8000.0, 128, 2, 1.0, 10)\n",
      "(u'median', 8000.0, 128, 8, 1.0, 50)\n",
      "\n",
      "(u'median', 8000.0, 128, 2, 1.0, 100)\n",
      "(u'median', 8000.0, 128, 2, 0.5, 100)\n",
      "(u'median', 8000.0, 128, 2, 1.0, 100)\n"
     ]
    }
   ],
   "source": [
    "print best_igain\n",
    "print best_fmeas\n",
    "print best_amlt\n",
    "print\n",
    "print best_igain_b\n",
    "print best_fmeas_b\n",
    "print best_amlt_b"
   ]
  },
  {
   "cell_type": "code",
   "execution_count": 42,
   "metadata": {
    "collapsed": true
   },
   "outputs": [],
   "source": [
    "good_scores = ['Any Metric Level Total', 'Information gain', 'F-measure']"
   ]
  },
  {
   "cell_type": "code",
   "execution_count": 43,
   "metadata": {
    "collapsed": false
   },
   "outputs": [
    {
     "data": {
      "text/html": [
       "<div style=\"max-height:1000px;max-width:1500px;overflow:auto;\">\n",
       "<table border=\"1\" class=\"dataframe\">\n",
       "  <thead>\n",
       "    <tr style=\"text-align: right;\">\n",
       "      <th></th>\n",
       "      <th></th>\n",
       "      <th></th>\n",
       "      <th></th>\n",
       "      <th></th>\n",
       "      <th></th>\n",
       "      <th>Any Metric Level Total</th>\n",
       "      <th>Information gain</th>\n",
       "      <th>F-measure</th>\n",
       "    </tr>\n",
       "    <tr>\n",
       "      <th>aggregate</th>\n",
       "      <th>fmax</th>\n",
       "      <th>n_mels</th>\n",
       "      <th>ac_size</th>\n",
       "      <th>std_bpm</th>\n",
       "      <th>tightness</th>\n",
       "      <th></th>\n",
       "      <th></th>\n",
       "      <th></th>\n",
       "    </tr>\n",
       "  </thead>\n",
       "  <tbody>\n",
       "    <tr>\n",
       "      <th rowspan=\"2\" valign=\"top\">median</th>\n",
       "      <th rowspan=\"2\" valign=\"top\">8000</th>\n",
       "      <th rowspan=\"2\" valign=\"top\">128</th>\n",
       "      <th rowspan=\"2\" valign=\"top\">8</th>\n",
       "      <th>2</th>\n",
       "      <th>100</th>\n",
       "      <td>0.314</td>\n",
       "      <td>0.176</td>\n",
       "      <td>0.353</td>\n",
       "    </tr>\n",
       "    <tr>\n",
       "      <th>1</th>\n",
       "      <th>50</th>\n",
       "      <td>0.334</td>\n",
       "      <td>0.174</td>\n",
       "      <td>0.361</td>\n",
       "    </tr>\n",
       "  </tbody>\n",
       "</table>\n",
       "</div>"
      ],
      "text/plain": [
       "                                                 Any Metric Level Total  \\\n",
       "aggregate fmax n_mels ac_size std_bpm tightness                           \n",
       "median    8000 128    8       2       100                         0.314   \n",
       "                              1       50                          0.334   \n",
       "\n",
       "                                                 Information gain  F-measure  \n",
       "aggregate fmax n_mels ac_size std_bpm tightness                               \n",
       "median    8000 128    8       2       100                   0.176      0.353  \n",
       "                              1       50                    0.174      0.361  "
      ]
     },
     "execution_count": 43,
     "metadata": {},
     "output_type": "execute_result"
    }
   ],
   "source": [
    "smc_scores.loc[[best_igain, best_amlt]][good_scores] "
   ]
  },
  {
   "cell_type": "code",
   "execution_count": 44,
   "metadata": {
    "collapsed": false
   },
   "outputs": [
    {
     "data": {
      "text/html": [
       "<div style=\"max-height:1000px;max-width:1500px;overflow:auto;\">\n",
       "<table border=\"1\" class=\"dataframe\">\n",
       "  <thead>\n",
       "    <tr style=\"text-align: right;\">\n",
       "      <th></th>\n",
       "      <th></th>\n",
       "      <th></th>\n",
       "      <th></th>\n",
       "      <th></th>\n",
       "      <th></th>\n",
       "      <th>Any Metric Level Total</th>\n",
       "      <th>Information gain</th>\n",
       "      <th>F-measure</th>\n",
       "    </tr>\n",
       "    <tr>\n",
       "      <th>aggregate</th>\n",
       "      <th>fmax</th>\n",
       "      <th>n_mels</th>\n",
       "      <th>ac_size</th>\n",
       "      <th>std_bpm</th>\n",
       "      <th>tightness</th>\n",
       "      <th></th>\n",
       "      <th></th>\n",
       "      <th></th>\n",
       "    </tr>\n",
       "  </thead>\n",
       "  <tbody>\n",
       "    <tr>\n",
       "      <th rowspan=\"2\" valign=\"top\">median</th>\n",
       "      <th rowspan=\"2\" valign=\"top\">8000</th>\n",
       "      <th rowspan=\"2\" valign=\"top\">128</th>\n",
       "      <th rowspan=\"2\" valign=\"top\">2</th>\n",
       "      <th rowspan=\"2\" valign=\"top\">1</th>\n",
       "      <th>100</th>\n",
       "      <td>0.327</td>\n",
       "      <td>0.172</td>\n",
       "      <td>0.356</td>\n",
       "    </tr>\n",
       "    <tr>\n",
       "      <th>100</th>\n",
       "      <td>0.327</td>\n",
       "      <td>0.172</td>\n",
       "      <td>0.356</td>\n",
       "    </tr>\n",
       "  </tbody>\n",
       "</table>\n",
       "</div>"
      ],
      "text/plain": [
       "                                                 Any Metric Level Total  \\\n",
       "aggregate fmax n_mels ac_size std_bpm tightness                           \n",
       "median    8000 128    2       1       100                         0.327   \n",
       "                                      100                         0.327   \n",
       "\n",
       "                                                 Information gain  F-measure  \n",
       "aggregate fmax n_mels ac_size std_bpm tightness                               \n",
       "median    8000 128    2       1       100                   0.172      0.356  \n",
       "                                      100                   0.172      0.356  "
      ]
     },
     "execution_count": 44,
     "metadata": {},
     "output_type": "execute_result"
    }
   ],
   "source": [
    "smc_scores.loc[[best_igain_b, best_amlt_b]][good_scores]"
   ]
  },
  {
   "cell_type": "code",
   "execution_count": 45,
   "metadata": {
    "collapsed": false
   },
   "outputs": [
    {
     "data": {
      "text/html": [
       "<div style=\"max-height:1000px;max-width:1500px;overflow:auto;\">\n",
       "<table border=\"1\" class=\"dataframe\">\n",
       "  <thead>\n",
       "    <tr style=\"text-align: right;\">\n",
       "      <th></th>\n",
       "      <th></th>\n",
       "      <th></th>\n",
       "      <th></th>\n",
       "      <th></th>\n",
       "      <th></th>\n",
       "      <th>Any Metric Level Total</th>\n",
       "      <th>Information gain</th>\n",
       "      <th>F-measure</th>\n",
       "    </tr>\n",
       "    <tr>\n",
       "      <th>aggregate</th>\n",
       "      <th>fmax</th>\n",
       "      <th>n_mels</th>\n",
       "      <th>ac_size</th>\n",
       "      <th>std_bpm</th>\n",
       "      <th>tightness</th>\n",
       "      <th></th>\n",
       "      <th></th>\n",
       "      <th></th>\n",
       "    </tr>\n",
       "  </thead>\n",
       "  <tbody>\n",
       "    <tr>\n",
       "      <th rowspan=\"2\" valign=\"top\">median</th>\n",
       "      <th rowspan=\"2\" valign=\"top\">8000</th>\n",
       "      <th rowspan=\"2\" valign=\"top\">128</th>\n",
       "      <th rowspan=\"2\" valign=\"top\">8</th>\n",
       "      <th>2</th>\n",
       "      <th>100</th>\n",
       "      <td>0.762</td>\n",
       "      <td>0.479</td>\n",
       "      <td>0.598</td>\n",
       "    </tr>\n",
       "    <tr>\n",
       "      <th>1</th>\n",
       "      <th>50</th>\n",
       "      <td>0.781</td>\n",
       "      <td>0.482</td>\n",
       "      <td>0.663</td>\n",
       "    </tr>\n",
       "  </tbody>\n",
       "</table>\n",
       "</div>"
      ],
      "text/plain": [
       "                                                 Any Metric Level Total  \\\n",
       "aggregate fmax n_mels ac_size std_bpm tightness                           \n",
       "median    8000 128    8       2       100                         0.762   \n",
       "                              1       50                          0.781   \n",
       "\n",
       "                                                 Information gain  F-measure  \n",
       "aggregate fmax n_mels ac_size std_bpm tightness                               \n",
       "median    8000 128    8       2       100                   0.479      0.598  \n",
       "                              1       50                    0.482      0.663  "
      ]
     },
     "execution_count": 45,
     "metadata": {},
     "output_type": "execute_result"
    }
   ],
   "source": [
    "beatles_scores.loc[[best_igain, best_amlt]][good_scores]"
   ]
  },
  {
   "cell_type": "code",
   "execution_count": 46,
   "metadata": {
    "collapsed": false
   },
   "outputs": [
    {
     "data": {
      "text/html": [
       "<div style=\"max-height:1000px;max-width:1500px;overflow:auto;\">\n",
       "<table border=\"1\" class=\"dataframe\">\n",
       "  <thead>\n",
       "    <tr style=\"text-align: right;\">\n",
       "      <th></th>\n",
       "      <th></th>\n",
       "      <th></th>\n",
       "      <th></th>\n",
       "      <th></th>\n",
       "      <th></th>\n",
       "      <th>Any Metric Level Total</th>\n",
       "      <th>Information gain</th>\n",
       "      <th>F-measure</th>\n",
       "    </tr>\n",
       "    <tr>\n",
       "      <th>aggregate</th>\n",
       "      <th>fmax</th>\n",
       "      <th>n_mels</th>\n",
       "      <th>ac_size</th>\n",
       "      <th>std_bpm</th>\n",
       "      <th>tightness</th>\n",
       "      <th></th>\n",
       "      <th></th>\n",
       "      <th></th>\n",
       "    </tr>\n",
       "  </thead>\n",
       "  <tbody>\n",
       "    <tr>\n",
       "      <th rowspan=\"2\" valign=\"top\">median</th>\n",
       "      <th rowspan=\"2\" valign=\"top\">8000</th>\n",
       "      <th rowspan=\"2\" valign=\"top\">128</th>\n",
       "      <th rowspan=\"2\" valign=\"top\">2</th>\n",
       "      <th rowspan=\"2\" valign=\"top\">1</th>\n",
       "      <th>100</th>\n",
       "      <td>0.787</td>\n",
       "      <td>0.493</td>\n",
       "      <td>0.666</td>\n",
       "    </tr>\n",
       "    <tr>\n",
       "      <th>100</th>\n",
       "      <td>0.787</td>\n",
       "      <td>0.493</td>\n",
       "      <td>0.666</td>\n",
       "    </tr>\n",
       "  </tbody>\n",
       "</table>\n",
       "</div>"
      ],
      "text/plain": [
       "                                                 Any Metric Level Total  \\\n",
       "aggregate fmax n_mels ac_size std_bpm tightness                           \n",
       "median    8000 128    2       1       100                         0.787   \n",
       "                                      100                         0.787   \n",
       "\n",
       "                                                 Information gain  F-measure  \n",
       "aggregate fmax n_mels ac_size std_bpm tightness                               \n",
       "median    8000 128    2       1       100                   0.493      0.666  \n",
       "                                      100                   0.493      0.666  "
      ]
     },
     "execution_count": 46,
     "metadata": {},
     "output_type": "execute_result"
    }
   ],
   "source": [
    "beatles_scores.loc[[best_igain_b, best_amlt_b]][good_scores]"
   ]
  },
  {
   "cell_type": "code",
   "execution_count": 53,
   "metadata": {
    "collapsed": false
   },
   "outputs": [
    {
     "data": {
      "text/plain": [
       "array([ 8000.,    nan])"
      ]
     },
     "execution_count": 53,
     "metadata": {},
     "output_type": "execute_result"
    }
   ],
   "source": [
    "beatles_results['fmax'].unique()"
   ]
  },
  {
   "cell_type": "code",
   "execution_count": 87,
   "metadata": {
    "collapsed": false
   },
   "outputs": [
    {
     "data": {
      "text/html": [
       "<div style=\"max-height:1000px;max-width:1500px;overflow:auto;\">\n",
       "<table border=\"1\" class=\"dataframe\">\n",
       "  <thead>\n",
       "    <tr style=\"text-align: right;\">\n",
       "      <th></th>\n",
       "      <th></th>\n",
       "      <th></th>\n",
       "      <th></th>\n",
       "      <th></th>\n",
       "      <th></th>\n",
       "      <th>Any Metric Level Total</th>\n",
       "      <th>Information gain</th>\n",
       "      <th>F-measure</th>\n",
       "    </tr>\n",
       "    <tr>\n",
       "      <th>aggregate</th>\n",
       "      <th>fmax</th>\n",
       "      <th>n_mels</th>\n",
       "      <th>ac_size</th>\n",
       "      <th>std_bpm</th>\n",
       "      <th>tightness</th>\n",
       "      <th></th>\n",
       "      <th></th>\n",
       "      <th></th>\n",
       "    </tr>\n",
       "  </thead>\n",
       "  <tbody>\n",
       "    <tr>\n",
       "      <th>mean</th>\n",
       "      <th>8000</th>\n",
       "      <th>128</th>\n",
       "      <th>4</th>\n",
       "      <th>1</th>\n",
       "      <th>500</th>\n",
       "      <td>0.284</td>\n",
       "      <td>0.142</td>\n",
       "      <td>0.311</td>\n",
       "    </tr>\n",
       "    <tr>\n",
       "      <th rowspan=\"2\" valign=\"top\">median</th>\n",
       "      <th rowspan=\"2\" valign=\"top\">8000</th>\n",
       "      <th rowspan=\"2\" valign=\"top\">128</th>\n",
       "      <th>8</th>\n",
       "      <th>2</th>\n",
       "      <th>100</th>\n",
       "      <td>0.314</td>\n",
       "      <td>0.176</td>\n",
       "      <td>0.353</td>\n",
       "    </tr>\n",
       "    <tr>\n",
       "      <th>2</th>\n",
       "      <th>1</th>\n",
       "      <th>100</th>\n",
       "      <td>0.327</td>\n",
       "      <td>0.172</td>\n",
       "      <td>0.356</td>\n",
       "    </tr>\n",
       "  </tbody>\n",
       "</table>\n",
       "</div>"
      ],
      "text/plain": [
       "                                                 Any Metric Level Total  \\\n",
       "aggregate fmax n_mels ac_size std_bpm tightness                           \n",
       "mean      8000 128    4       1       500                         0.284   \n",
       "median    8000 128    8       2       100                         0.314   \n",
       "                      2       1       100                         0.327   \n",
       "\n",
       "                                                 Information gain  F-measure  \n",
       "aggregate fmax n_mels ac_size std_bpm tightness                               \n",
       "mean      8000 128    4       1       500                   0.142      0.311  \n",
       "median    8000 128    8       2       100                   0.176      0.353  \n",
       "                      2       1       100                   0.172      0.356  "
      ]
     },
     "execution_count": 87,
     "metadata": {},
     "output_type": "execute_result"
    }
   ],
   "source": [
    "smc_scores.loc[[('mean', 8000, 128, 4, 1.0, 500), best_igain, best_igain_b]][good_scores]"
   ]
  },
  {
   "cell_type": "code",
   "execution_count": 88,
   "metadata": {
    "collapsed": false
   },
   "outputs": [
    {
     "data": {
      "text/html": [
       "<div style=\"max-height:1000px;max-width:1500px;overflow:auto;\">\n",
       "<table border=\"1\" class=\"dataframe\">\n",
       "  <thead>\n",
       "    <tr style=\"text-align: right;\">\n",
       "      <th></th>\n",
       "      <th></th>\n",
       "      <th></th>\n",
       "      <th></th>\n",
       "      <th></th>\n",
       "      <th></th>\n",
       "      <th>Any Metric Level Total</th>\n",
       "      <th>Information gain</th>\n",
       "      <th>F-measure</th>\n",
       "    </tr>\n",
       "    <tr>\n",
       "      <th>aggregate</th>\n",
       "      <th>fmax</th>\n",
       "      <th>n_mels</th>\n",
       "      <th>ac_size</th>\n",
       "      <th>std_bpm</th>\n",
       "      <th>tightness</th>\n",
       "      <th></th>\n",
       "      <th></th>\n",
       "      <th></th>\n",
       "    </tr>\n",
       "  </thead>\n",
       "  <tbody>\n",
       "    <tr>\n",
       "      <th>mean</th>\n",
       "      <th>8000</th>\n",
       "      <th>128</th>\n",
       "      <th>4</th>\n",
       "      <th>1</th>\n",
       "      <th>500</th>\n",
       "      <td>0.727</td>\n",
       "      <td>0.433</td>\n",
       "      <td>0.670</td>\n",
       "    </tr>\n",
       "    <tr>\n",
       "      <th rowspan=\"2\" valign=\"top\">median</th>\n",
       "      <th rowspan=\"2\" valign=\"top\">8000</th>\n",
       "      <th rowspan=\"2\" valign=\"top\">128</th>\n",
       "      <th>8</th>\n",
       "      <th>2</th>\n",
       "      <th>100</th>\n",
       "      <td>0.762</td>\n",
       "      <td>0.479</td>\n",
       "      <td>0.598</td>\n",
       "    </tr>\n",
       "    <tr>\n",
       "      <th>2</th>\n",
       "      <th>1</th>\n",
       "      <th>100</th>\n",
       "      <td>0.787</td>\n",
       "      <td>0.493</td>\n",
       "      <td>0.666</td>\n",
       "    </tr>\n",
       "  </tbody>\n",
       "</table>\n",
       "</div>"
      ],
      "text/plain": [
       "                                                 Any Metric Level Total  \\\n",
       "aggregate fmax n_mels ac_size std_bpm tightness                           \n",
       "mean      8000 128    4       1       500                         0.727   \n",
       "median    8000 128    8       2       100                         0.762   \n",
       "                      2       1       100                         0.787   \n",
       "\n",
       "                                                 Information gain  F-measure  \n",
       "aggregate fmax n_mels ac_size std_bpm tightness                               \n",
       "mean      8000 128    4       1       500                   0.433      0.670  \n",
       "median    8000 128    8       2       100                   0.479      0.598  \n",
       "                      2       1       100                   0.493      0.666  "
      ]
     },
     "execution_count": 88,
     "metadata": {},
     "output_type": "execute_result"
    }
   ],
   "source": [
    "beatles_scores.loc[[(u'mean', 8000.0, 128, 4, 1.0, 500), best_igain, best_igain_b]][good_scores]"
   ]
  },
  {
   "cell_type": "code",
   "execution_count": 47,
   "metadata": {
    "collapsed": false
   },
   "outputs": [
    {
     "data": {
      "text/plain": [
       "(u'median', 8000.0, 128, 2, 1.0, 100)"
      ]
     },
     "execution_count": 47,
     "metadata": {},
     "output_type": "execute_result"
    }
   ],
   "source": [
    "best_igain_b"
   ]
  }
 ],
 "metadata": {
  "kernelspec": {
   "display_name": "Python 2",
   "language": "python",
   "name": "python2"
  },
  "language_info": {
   "codemirror_mode": {
    "name": "ipython",
    "version": 2
   },
   "file_extension": ".py",
   "mimetype": "text/x-python",
   "name": "python",
   "nbconvert_exporter": "python",
   "pygments_lexer": "ipython2",
   "version": "2.7.8"
  }
 },
 "nbformat": 4,
 "nbformat_minor": 0
}
